{
 "cells": [
  {
   "cell_type": "code",
   "execution_count": 1,
   "metadata": {},
   "outputs": [],
   "source": [
    "import re\n",
    "import numpy as np\n",
    "import pandas as pd\n",
    "from termcolor import colored\n",
    "from collections import Counter\n",
    "from multiprocessing import Pool # waning: it will raise exception if executed in notebook\n",
    "from nltk.corpus import stopwords"
   ]
  },
  {
   "cell_type": "code",
   "execution_count": 2,
   "metadata": {},
   "outputs": [],
   "source": [
    "from tqdm.notebook import tqdm"
   ]
  },
  {
   "cell_type": "code",
   "execution_count": 3,
   "metadata": {},
   "outputs": [],
   "source": [
    "sw = stopwords.words('english')"
   ]
  },
  {
   "cell_type": "markdown",
   "metadata": {},
   "source": [
    "# Text from sentences\n",
    "Example of sentences are taken from `20 newsgroup`"
   ]
  },
  {
   "cell_type": "code",
   "execution_count": 4,
   "metadata": {},
   "outputs": [],
   "source": [
    "import nltk\n",
    "from sklearn.datasets import fetch_20newsgroups"
   ]
  },
  {
   "cell_type": "code",
   "execution_count": 5,
   "metadata": {},
   "outputs": [],
   "source": [
    "train = fetch_20newsgroups(data_home=\"/Users/flint/Data/sklearn/\", subset='train', \n",
    "                           remove=('headers', 'footers', 'quotes'),\n",
    "                           categories=['rec.sport.baseball'])"
   ]
  },
  {
   "cell_type": "code",
   "execution_count": 6,
   "metadata": {},
   "outputs": [],
   "source": [
    "sentences = []\n",
    "for doc in train.data:\n",
    "    for s in nltk.tokenize.sent_tokenize(doc):\n",
    "        sentences.append(s.lower())"
   ]
  },
  {
   "cell_type": "code",
   "execution_count": 84,
   "metadata": {},
   "outputs": [
    {
     "data": {
      "text/plain": [
       "'\\nmaybe it\\'s just me, but the combination of those *young* faces peeking out\\nfrom under oversized aqua helmets screams \"little league\" in every fibre of\\nmy being...'"
      ]
     },
     "execution_count": 84,
     "metadata": {},
     "output_type": "execute_result"
    }
   ],
   "source": [
    "sentences[0]"
   ]
  },
  {
   "cell_type": "markdown",
   "metadata": {},
   "source": [
    "# One-hot encoding\n",
    "Many current NLP systems and techniques treat words as atomic\n",
    "units - there is no notion of similarity between words, as these are\n",
    "represented as indices in a vocabulary <br/>\n",
    "<i>(Mikolov et al., 2013).</i>\n",
    "\n",
    "<br/>\n",
    "Suppose that the number of different words in the vocabulary (the vocabulary size) is $V$. To obtain the one-hot vector representation for any word with index $i$, we create a length-$V$ vector with all $0$s and set the element at position $i$ to $1$"
   ]
  },
  {
   "cell_type": "code",
   "execution_count": 7,
   "metadata": {},
   "outputs": [],
   "source": [
    "from nltk.tokenize import word_tokenize"
   ]
  },
  {
   "cell_type": "code",
   "execution_count": 8,
   "metadata": {},
   "outputs": [],
   "source": [
    "corpus = sentences\n",
    "V = set()\n",
    "for sentence in corpus:\n",
    "    for word in word_tokenize(sentence):\n",
    "        V.add(word)\n",
    "V = list(V)"
   ]
  },
  {
   "cell_type": "code",
   "execution_count": 9,
   "metadata": {},
   "outputs": [
    {
     "name": "stdout",
     "output_type": "stream",
     "text": [
      "\u001b[1mVocab size:\u001b[0m 8724\n"
     ]
    }
   ],
   "source": [
    "# example\n",
    "print(colored('Vocab size:', attrs=['bold']), len(V))"
   ]
  },
  {
   "cell_type": "code",
   "execution_count": 86,
   "metadata": {},
   "outputs": [
    {
     "data": {
      "text/plain": [
       "1"
      ]
     },
     "execution_count": 86,
     "metadata": {},
     "output_type": "execute_result"
    }
   ],
   "source": [
    "V.index('suppose')"
   ]
  },
  {
   "cell_type": "code",
   "execution_count": 88,
   "metadata": {},
   "outputs": [],
   "source": [
    "def one_hot_encoding(V, word) -> np.array:\n",
    "    \"\"\"Return one-hot encoding\n",
    "    \n",
    "    Args:\n",
    "        V(list): Vocabulary, i.e., word list.\n",
    "        word: word in the vocabulary.\n",
    "    Returns:\n",
    "        one_hot_encoding(np.array)\n",
    "    \"\"\"\n",
    "    vec = np.zeros(len(V))\n",
    "    vec[V.index(word)] = 1.0\n",
    "    return vec"
   ]
  },
  {
   "cell_type": "code",
   "execution_count": 11,
   "metadata": {},
   "outputs": [
    {
     "name": "stdout",
     "output_type": "stream",
     "text": [
      "\u001b[1mOne-hot Encoding\u001b[0m suppose: [0. 1. 0. ... 0. 0. 0.]\n",
      "\u001b[1mOne-hot Encoding\u001b[0m mles: [0. 0. 1. ... 0. 0. 0.]\n"
     ]
    }
   ],
   "source": [
    "# example\n",
    "word1, word2 = V[1], V[2]\n",
    "vec1, vec2 = one_hot_encoding(V, word1), one_hot_encoding(V, word2)\n",
    "\n",
    "print(f\"{colored('One-hot Encoding', attrs=['bold'])} {word1}:\", vec1)\n",
    "print(f\"{colored('One-hot Encoding', attrs=['bold'])} {word2}:\", vec2)   "
   ]
  },
  {
   "cell_type": "markdown",
   "metadata": {},
   "source": [
    "One-hot encoded vectors are orthonormal. <br/>\n",
    "\n",
    "For vectors $x, y \\in \\mathbb{R}^V$ with $x\\ne y$, their _similarity_ is always $0$. \n",
    "\n",
    "On the contrary, for vectors $x, y \\in \\mathbb{R}^V$ with $x = y$, their _similarity_ is always $1$.\n",
    "\n",
    "\\begin{equation*}\n",
    "\\frac{x^T \\ y}{\\|x\\| \\ \\|y\\|} \\in \\{0, 1\\}\n",
    "\\end{equation*}"
   ]
  },
  {
   "cell_type": "code",
   "execution_count": 90,
   "metadata": {},
   "outputs": [],
   "source": [
    "def cosine_similarity(vec1: np.array, vec2: np.array) -> float:\n",
    "    \"\"\"Return cosine similarity between two vectors\n",
    "    \n",
    "    Args:\n",
    "        vec1(np.array): vector 1.\n",
    "        vec2(np.array): vector 2.\n",
    "    Returns:\n",
    "        cosine similarity\n",
    "    \"\"\"\n",
    "    return np.dot(vec1, vec2)/(np.linalg.norm(vec1)*np.linalg.norm(vec2))"
   ]
  },
  {
   "cell_type": "code",
   "execution_count": 13,
   "metadata": {},
   "outputs": [
    {
     "name": "stdout",
     "output_type": "stream",
     "text": [
      "\u001b[1mCosine similarity (\u001b[0msuppose, mles\u001b[1m)\u001b[0m: 0.0\n",
      "\u001b[1mCosine similarity (\u001b[0mmles, suppose\u001b[1m)\u001b[0m: 0.0\n",
      "\u001b[1mCosine similarity (\u001b[0msuppose, suppose\u001b[1m)\u001b[0m: 1.0\n",
      "\u001b[1mCosine similarity (\u001b[0mmles, mles\u001b[1m)\u001b[0m: 1.0\n"
     ]
    }
   ],
   "source": [
    "# example \n",
    "print(f\"{colored('Cosine similarity (', attrs=['bold'])}{word1}, {word2}{colored(')', attrs=['bold'])}:\", \n",
    "      cosine_similarity(vec1, vec2))\n",
    "print(f\"{colored('Cosine similarity (', attrs=['bold'])}{word2}, {word1}{colored(')', attrs=['bold'])}:\", \n",
    "      cosine_similarity(vec2, vec1))\n",
    "print(f\"{colored('Cosine similarity (', attrs=['bold'])}{word1}, {word1}{colored(')', attrs=['bold'])}:\", \n",
    "      cosine_similarity(vec1, vec1))\n",
    "print(f\"{colored('Cosine similarity (', attrs=['bold'])}{word2}, {word2}{colored(')', attrs=['bold'])}:\", \n",
    "      cosine_similarity(vec2, vec2))"
   ]
  },
  {
   "cell_type": "code",
   "execution_count": 89,
   "metadata": {},
   "outputs": [],
   "source": [
    "v_play = one_hot_encoding(V, 'play')\n",
    "v_game = one_hot_encoding(V, 'game')"
   ]
  },
  {
   "cell_type": "code",
   "execution_count": 91,
   "metadata": {},
   "outputs": [
    {
     "data": {
      "text/plain": [
       "0.0"
      ]
     },
     "execution_count": 91,
     "metadata": {},
     "output_type": "execute_result"
    }
   ],
   "source": [
    "cosine_similarity(v_play, v_game)"
   ]
  },
  {
   "cell_type": "markdown",
   "metadata": {},
   "source": [
    "# Word2Vec: semantic word representations"
   ]
  },
  {
   "cell_type": "markdown",
   "metadata": {},
   "source": [
    "Word2Vec maps each word to a **low-dimensional continuous vector**, in a way that words that have similar meaning have similar representations.\n",
    "\t\n",
    "Word2Vec is based on a simple but efficient *feed-forward* neural architecture which is trained with language modeling objective. \n",
    "\n",
    "Word2Vec consists of two different architectures: __Skip-gram__ and __Continuous Bag-of-Words__ (CBOW)."
   ]
  },
  {
   "cell_type": "markdown",
   "metadata": {},
   "source": [
    "## Generating variables"
   ]
  },
  {
   "cell_type": "code",
   "execution_count": 92,
   "metadata": {},
   "outputs": [],
   "source": [
    "import string"
   ]
  },
  {
   "cell_type": "code",
   "execution_count": 93,
   "metadata": {},
   "outputs": [],
   "source": [
    "tokens = [[x for x in word_tokenize(t) if x not in sw and x not in string.punctuation] for t in corpus]"
   ]
  },
  {
   "cell_type": "code",
   "execution_count": 94,
   "metadata": {},
   "outputs": [
    {
     "name": "stdout",
     "output_type": "stream",
     "text": [
      "\u001b[1mText:\u001b[0m\n",
      "finally, i throw all this into a a formula i call defensive contribution, or\n",
      "dcon :->.\n",
      "\n",
      "\u001b[1mTokens:\u001b[0m\n",
      "['finally', 'throw', 'formula', 'call', 'defensive', 'contribution', 'dcon']\n"
     ]
    }
   ],
   "source": [
    "# example\n",
    "print(colored('Text:', attrs=['bold']))\n",
    "print(corpus[20], end='\\n\\n')\n",
    "\n",
    "print(colored('Tokens:', attrs=['bold']))\n",
    "print(tokens[20])"
   ]
  },
  {
   "cell_type": "code",
   "execution_count": 95,
   "metadata": {},
   "outputs": [],
   "source": [
    "def build_vocab(token_batches, min_count=15) -> dict:\n",
    "    '''Build vocabulary and filter rare words.\n",
    "    \n",
    "    Args:\n",
    "        token_batches(list): Token batches.\n",
    "        min_count(int, optional, default=15): Minimum frequency threshold.\n",
    "    Returns:\n",
    "        vocab(dict): Dictionary containing token and frequencies.\n",
    "    '''\n",
    "    \n",
    "    counts = Counter([token for tokens in token_batches for token in tokens])\n",
    "    vocab = list(counts.keys())\n",
    "    vocab = {k:v for k, v in counts.items() if v > min_count} # Filtering\n",
    "    return vocab\n",
    "\n",
    "vocab = build_vocab(tokens, min_count=10)\n",
    "vocab_size = len(vocab)"
   ]
  },
  {
   "cell_type": "code",
   "execution_count": 46,
   "metadata": {},
   "outputs": [
    {
     "name": "stdout",
     "output_type": "stream",
     "text": [
      "\u001b[1mVocab size:\u001b[0m 824 \n",
      "\n",
      "\u001b[1mVocab(word, frequency):\u001b[0m \n",
      "  ...,\n",
      " '7': 76,\n",
      " '70': 12,\n",
      " '8': 36,\n",
      " '80': 14,\n",
      " '89': 11,\n",
      " '9': 47,\n",
      " '92': 12,\n",
      "  ...\n"
     ]
    }
   ],
   "source": [
    "# example\n",
    "print(colored('Vocab size:', attrs=['bold']), vocab_size, '\\n')\n",
    "print(colored('Vocab(word, frequency):', attrs=['bold']), \n",
    "      f\"\\n  ..., {str({k: vocab[k] for k in sorted(vocab)[100:107]})[1:-1]},  ...\".replace(',', ',\\n'))"
   ]
  },
  {
   "cell_type": "code",
   "execution_count": 47,
   "metadata": {},
   "outputs": [],
   "source": [
    "def mapping(vocab: list) -> tuple:\n",
    "    '''\n",
    "    Generate mapping dictionaries.\n",
    "    \n",
    "    Args:\n",
    "        vocab(dict): Dictionary containing token and frequencies.\n",
    "    Returns:\n",
    "        token_to_id(dict): Mapping token -> id. \n",
    "        id_to_token(dict): Mapping id -> token. \n",
    "    '''\n",
    "    token_to_id = dict()\n",
    "    id_to_token = dict()\n",
    "\n",
    "    for i, token in enumerate(vocab):\n",
    "        token_to_id[token] = i\n",
    "        id_to_token[i] = token\n",
    "\n",
    "    return token_to_id, id_to_token\n",
    "\n",
    "token_to_id, id_to_token = mapping(vocab)"
   ]
  },
  {
   "cell_type": "code",
   "execution_count": 96,
   "metadata": {},
   "outputs": [
    {
     "name": "stdout",
     "output_type": "stream",
     "text": [
      "\u001b[1mRecord\u001b[0m\n",
      "345 : pitch\n"
     ]
    }
   ],
   "source": [
    "# example\n",
    "print(colored('Record', attrs=['bold']))\n",
    "print(token_to_id['pitch'],':', id_to_token[token_to_id['pitch']])"
   ]
  },
  {
   "cell_type": "markdown",
   "metadata": {},
   "source": [
    "## Generating training samples"
   ]
  },
  {
   "cell_type": "code",
   "execution_count": 97,
   "metadata": {},
   "outputs": [],
   "source": [
    "def one_hot_encoding(token_id, vocab_size) -> np.array:\n",
    "    '''Return one-hot encoding\n",
    "    \n",
    "    Args:\n",
    "        token_id(int): Token id.\n",
    "        vocab_size(int): Number of token in the dictionary.\n",
    "    Returns:\n",
    "        one_hot_encoding(np.array)\n",
    "    '''\n",
    "    vec = np.zeros(vocab_size)\n",
    "    vec[token_id] = 1.0\n",
    "    return vec"
   ]
  },
  {
   "cell_type": "code",
   "execution_count": 52,
   "metadata": {},
   "outputs": [],
   "source": [
    "def generate_training_samples(tokens: list, token_to_id: dict, id_to_token: dict, window:int=3) -> list:\n",
    "    '''Generate training examples for word2vec algorithm.\n",
    "    \n",
    "    Args:\n",
    "        tokens(list): Batch of tokens.\n",
    "        token_to_id(dict): Mapping token -> id.\n",
    "        id_to_token(dict): Mapping id -> token.\n",
    "        window(int, optional, default=5): Number of left and right context words for each target word.\n",
    "    \n",
    "    Returns:\n",
    "        examples(list).\n",
    "    '''\n",
    "    \n",
    "    examples = list()\n",
    "    n_tokens = len(tokens)\n",
    "\n",
    "    for i in range(n_tokens):\n",
    "        if tokens[i] not in token_to_id: continue\n",
    "            \n",
    "        target = token_to_id[tokens[i]]\n",
    "        new_examples = list()\n",
    "\n",
    "        for j in range(1, window+2):\n",
    "            # right context\n",
    "            if i + j < len(tokens):\n",
    "                if not tokens[i + j] in token_to_id: continue\n",
    "                context = token_to_id[tokens[i + j]]\n",
    "                new_examples.append((target, context))\n",
    "                \n",
    "            # left context\n",
    "            if i - j >= 0:\n",
    "                if not tokens[i - j] in token_to_id: continue\n",
    "                context = token_to_id[tokens[i - j]]\n",
    "                new_examples.append((target, context))\n",
    "            \n",
    "        examples.append(new_examples)\n",
    "\n",
    "    return np.asarray(examples, dtype=object)\n",
    "\n",
    "def generate_multiple_training_samples(token_batches: list, token_to_id: dict, id_to_token: dict, window:int=3, \n",
    "                                   workers:int = 10):\n",
    "    '''Generate training example for word2vec algorithm.\n",
    "    \n",
    "    Args:\n",
    "        tokens(list): Batch of tokens.\n",
    "        token_to_id(dict): Mapping token -> id.\n",
    "        id_to_token(dict): Mapping id -> token.\n",
    "        vocab_size(int): Number of token in the dictionary.\n",
    "        window(int, optional, default=5): Number of left and right context words for each target word.'''\n",
    "    \n",
    "    \n",
    "    with Pool(processes=workers) as p:\n",
    "         res = p.starmap(generate_training_samples, [(tokens, token_to_id, id_to_token, window) for tokens in token_batches])\n",
    "    \n",
    "    return res\n",
    "\n",
    "window = 3\n",
    "#samples = generate_multiple_training_samples(tokens, token_to_id, id_to_token, window=3, workers=10) # not working in notebook\n",
    "samples = [generate_training_samples(t, token_to_id, id_to_token, window=window) for t in tokens]"
   ]
  },
  {
   "cell_type": "code",
   "execution_count": 98,
   "metadata": {
    "scrolled": false
   },
   "outputs": [
    {
     "name": "stdout",
     "output_type": "stream",
     "text": [
      "\u001b[1mText:\u001b[0m\n",
      "finally throw formula call defensive contribution dcon\n",
      "\n",
      "\u001b[1mWindow size:\u001b[0m 3 \n",
      "\n",
      "\u001b[1mSliding Window:\u001b[0m\n",
      "0.   \u001b[34m\u001b[0m \u001b[31mfinally\u001b[0m \u001b[34mthrow formula call\u001b[0m defensive contribution dcon\n",
      "\n",
      "1.   \u001b[34mfinally\u001b[0m \u001b[31mthrow\u001b[0m \u001b[34mformula call defensive\u001b[0m contribution dcon\n",
      "\n",
      "2.   \u001b[34mfinally throw\u001b[0m \u001b[31mformula\u001b[0m \u001b[34mcall defensive contribution\u001b[0m dcon\n",
      "\n",
      "3.   \u001b[34mfinally throw formula\u001b[0m \u001b[31mcall\u001b[0m \u001b[34mdefensive contribution dcon\u001b[0m \n",
      "\n",
      "4.  finally \u001b[34mthrow formula call\u001b[0m \u001b[31mdefensive\u001b[0m \u001b[34mcontribution dcon\u001b[0m \n",
      "\n",
      "5.  finally throw \u001b[34mformula call defensive\u001b[0m \u001b[31mcontribution\u001b[0m \u001b[34mdcon\u001b[0m \n",
      "\n",
      "\u001b[1mTraining Example (id, id) - 4:\u001b[0m\n",
      "[(71, 72), (71, 73), (71, 45)] \n",
      "\n",
      "\n",
      "\u001b[1mTraining Example (word, word) - 4:\u001b[0m\n",
      "[['finally' 'throw']\n",
      " ['finally' 'call']\n",
      " ['finally' 'defensive']] \n",
      "\n",
      "\n",
      "\u001b[1mTraining Example (id, id) - 4:\u001b[0m\n",
      "[[[0. 0. 0. ... 0. 0. 0.]\n",
      "  [0. 0. 0. ... 0. 0. 0.]]\n",
      "\n",
      " [[0. 0. 0. ... 0. 0. 0.]\n",
      "  [0. 0. 0. ... 0. 0. 0.]]\n",
      "\n",
      " [[0. 0. 0. ... 0. 0. 0.]\n",
      "  [0. 0. 0. ... 0. 0. 0.]]]\n"
     ]
    }
   ],
   "source": [
    "example = 20\n",
    "\n",
    "print(colored('Text:', attrs=['bold']))\n",
    "print(\" \".join(tokens[example]), end='\\n\\n')\n",
    "\n",
    "print(colored('Window size:', attrs=['bold']), window,'\\n')\n",
    "\n",
    "print(colored('Sliding Window:', attrs=['bold']))\n",
    "for i in range(len(tokens[example])):\n",
    "    if i>5: break\n",
    "    before = \" \".join([t for j, t in enumerate(tokens[example]) if j < i-window])\n",
    "    context_l = colored(\" \".join(tokens[example][max(i-window,0):i]), 'blue')\n",
    "    target = colored(tokens[example][i], 'red')\n",
    "    context_r = colored(\" \".join(tokens[example][i+1:i+window+1]), 'blue')\n",
    "    after = \" \".join(tokens[example][i+window+1:])\n",
    "    print(f'{i}. ', before + \" \" + context_l + \" \" + target + \" \" + context_r + \" \" + after,end='\\n\\n')\n",
    "\n",
    "training_samples = generate_training_samples(tokens[example], token_to_id, id_to_token, window)[0]\n",
    "print(colored('Training Example (id, id) - 4:', attrs=['bold']))\n",
    "print(str(training_samples), '\\n\\n')\n",
    "\n",
    "print(colored('Training Example (word, word) - 4:', attrs=['bold']))\n",
    "print(str(np.array([[id_to_token[i[0]], id_to_token[i[1]]] for i in training_samples])), '\\n\\n')\n",
    "\n",
    "print(colored('Training Example (id, id) - 4:', attrs=['bold']))\n",
    "print(str(np.array([[one_hot_encoding(i[0], vocab_size), \n",
    "                     one_hot_encoding(i[1], vocab_size)] \n",
    "                    for i in training_samples])))"
   ]
  },
  {
   "cell_type": "markdown",
   "metadata": {},
   "source": [
    "# CBOW"
   ]
  },
  {
   "cell_type": "markdown",
   "metadata": {},
   "source": [
    "## Word2Vec: CBOW"
   ]
  },
  {
   "cell_type": "markdown",
   "metadata": {},
   "source": [
    "_input to hidden_ \n",
    "\n",
    "Input layer: $\\mathbf{x} \\in \\mathbb{R}^{V}$ <br/>\n",
    " \\begin{eqnarray*}\n",
    "\t        \\bar{\\mathbf{x}} = \\frac{1}{C}\\sum^C_{c=1} \\mathbf{x^{(c)}}\n",
    "\t    \\end{eqnarray*}\n",
    "Weights: $W \\in \\mathbb{R}^{V\\times N}$, randomly initialized<br/><br/>\n",
    "Hidden layer: $\\mathbf{h} \\in \\mathbb{R}^{N}$\n",
    "\\begin{eqnarray}\n",
    "\\mathbf{h} = \\frac{1}{C} \\mathbf{W}^T \\sum^C_{c=1}  x^{(c)} = \\mathbf{W}^T \\bar{\\mathbf{x}}\n",
    "\\end{eqnarray}\n",
    "\n",
    "Activation function: $\\mathbb{I}\\text{dentity}$"
   ]
  },
  {
   "cell_type": "markdown",
   "metadata": {},
   "source": [
    "_hidden to output_\n",
    "\n",
    "Weights: $\\mathbf{W'} \\in \\mathbb{R}^{N\\times V}$, randomly initialized\n",
    "\n",
    "Output layer: $\\mathbf{u} \\in \\mathbb{R}^V$\n",
    "\\begin{eqnarray}\n",
    "\\mathbf{u} = \\mathbf{W}'^T \\mathbf{h} = \\frac{1}{C} \\sum^C_{c=1} \\mathbf{W'}^T \\mathbf{W}^T x^{(c)} = \\mathbf{W'}^T \\mathbf{W}^T \\bar{\\mathbf{x}}\n",
    "\\end{eqnarray}\n",
    "\n",
    "Activation function: $\\mathbb{S}\\text{oftmax}$\n",
    "\\begin{eqnarray}\n",
    "\\mathbf{y} = \\mathbb{S}\\text{oftmax}(\\mathbf{u}) = \\mathbb{S}\\text{oftmax}(\\mathbf{W'}^T\\mathbf{W}^T \\bar{\\mathbf{x}})\n",
    "\\end{eqnarray}"
   ]
  },
  {
   "cell_type": "markdown",
   "metadata": {},
   "source": [
    "_Loss Function_\n",
    "\n",
    "\\begin{eqnarray}\n",
    "\\mathcal{L} &=& -\\log \\mathbb{P}(w_O| w_{c,1}, w_{c,2}, ..., w_{c,C})\\\\\n",
    "&=& \\max \\log y_{j^*} \\nonumber\\\\\n",
    "\t\t            &=& \\max \\log \\left(\\frac{\\exp(u_{j^*})}{\\sum^V_{j'=1} \\exp(u_{j'})} \\right) \\nonumber\\\\\n",
    "\t\t            &=& \\max u_{j^*} - \\log \\sum^V_{j' = 1} \\exp(u_{j'}) \\nonumber\\\\\n",
    "\t\t            &=& \\min \\log \\sum^V_{j' = 1} \\exp(u_{j'}) - u_{j^*}\n",
    "\\end{eqnarray}"
   ]
  },
  {
   "cell_type": "markdown",
   "metadata": {},
   "source": [
    "_Gradient descent_\n",
    "\n",
    "\\begin{eqnarray}\n",
    "\t    \\frac{\\partial \\mathcal{L}}{\\partial \\mathbf{W'}} = (\\mathbf{W}^T \\bar{\\mathbf{x}}) \\otimes E \n",
    "\t    \\end{eqnarray}\n",
    "\t    \\begin{eqnarray} \\frac{\\partial \\mathcal{L}}{\\partial \\mathbf{W}} = \\bar{\\mathbf{x}} \\otimes (\\mathbf{W'} E) \n",
    "\t    \\end{eqnarray}\n",
    "        \n",
    "_Backpropagation_\n",
    "\\begin{eqnarray}\n",
    "\\mathbf{v}_{W}^{(new)} &=&  \\mathbf{v}_{W}^{(old)} - \\eta \\cdot \\frac{\\partial \\mathcal{L}}{\\partial W}\n",
    "\\end{eqnarray}\n",
    "                \n",
    "\\begin{eqnarray}\n",
    "    \\mathbf{v}_{W'}^{(new)} &=&  \\mathbf{v}_{W'}^{(old)} - \\eta \\cdot \\frac{\\partial \\mathcal{L}}{\\partial W'}\n",
    "\\end{eqnarray}"
   ]
  },
  {
   "cell_type": "code",
   "execution_count": 60,
   "metadata": {},
   "outputs": [],
   "source": [
    "def softmax(x):\n",
    "    x = x.astype(float)\n",
    "    return np.exp(x) / np.sum(np.exp(x), axis=0)"
   ]
  },
  {
   "cell_type": "code",
   "execution_count": 61,
   "metadata": {},
   "outputs": [],
   "source": [
    "class Word2Vec:\n",
    "    \n",
    "    def __init__(self, sequences:list, vector_size=100):\n",
    "        \"\"\"\n",
    "        Args:\n",
    "            sequences(list): Token batches.\n",
    "        \"\"\"\n",
    "        self.sequences = sequences\n",
    "        self.vector_size = vector_size\n",
    "    \n",
    "    def __init_network__(self):\n",
    "        \"\"\"Initialize the network\"\"\"\n",
    "        \n",
    "        self.model = {\n",
    "            \"W\": np.random.uniform(-1, 1, (self.vocab_size, self.vector_size)),  # input to hidden\n",
    "            \"W'\": np.random.uniform(-1, 1, (self.vector_size, self.vocab_size)) # hidden to output\n",
    "        }\n",
    "        return self.model\n",
    "    \n",
    "    def build_vocab(self, min_count=15) -> dict:\n",
    "        \"\"\"Build vocabulary and filter rare words.\n",
    "\n",
    "        Args:\n",
    "            min_count(int, optional, default=15): Minimum frequency threshold.\n",
    "        Returns:\n",
    "            vocab(dict): Dictionary containing token and frequencies.\n",
    "        \"\"\"\n",
    "\n",
    "        counts = Counter([token for sequence in self.sequences for token in sequence])\n",
    "        vocab = list(counts.keys())\n",
    "        vocab = {k:v for k, v in counts.items() if v > min_count} # Filtering\n",
    "\n",
    "        self.vocab = vocab\n",
    "        self.vocab_size = len(vocab)\n",
    "        \n",
    "        self.token_to_id, self.id_to_token = self.__mapping__()\n",
    "        \n",
    "        return vocab\n",
    "    \n",
    "    def one_hot_encoding(self, token_id) -> np.array:\n",
    "        '''Return one-hot encoding\n",
    "\n",
    "        Args:\n",
    "            token_id(int): Token id.\n",
    "        Returns:\n",
    "            one_hot_encoding(np.array)\n",
    "        '''\n",
    "        vec = np.zeros(self.vocab_size)\n",
    "        vec[token_id] = 1.0\n",
    "        return vec\n",
    "    \n",
    "    def __mapping__(self) -> tuple:\n",
    "        '''\n",
    "        Generate mapping dictionaries.\n",
    "\n",
    "        Returns:\n",
    "            token_to_id(dict): Mapping token -> id. \n",
    "            id_to_token(dict): Mapping id -> token. \n",
    "        '''\n",
    "        token_to_id = dict()\n",
    "        id_to_token = dict()\n",
    "\n",
    "        for i, token in enumerate(self.vocab):\n",
    "            token_to_id[token] = i\n",
    "            id_to_token[i] = token\n",
    "        \n",
    "        return token_to_id, id_to_token\n",
    "\n",
    "    def __generate_training_samples__(self, tokens: list, window:int=3) -> list:\n",
    "        '''Generate training examples for word2vec algorithm.\n",
    "\n",
    "        Args:\n",
    "            tokens(list): Batch of tokens.\n",
    "            window(int, optional, default=3): Number of left and right context words for each target word.\n",
    "\n",
    "        Returns:\n",
    "            examples(list).\n",
    "        '''\n",
    "\n",
    "        examples = list()\n",
    "        n_tokens = len(tokens)\n",
    "\n",
    "        for i in range(n_tokens):\n",
    "            if tokens[i] not in self.token_to_id: continue\n",
    "\n",
    "            target = self.token_to_id[tokens[i]]\n",
    "            X, y = list(), np.array(self.one_hot_encoding(target))\n",
    "\n",
    "            for j in range(1, window+2):\n",
    "                # right context\n",
    "                if i + j < len(tokens):\n",
    "                    if not tokens[i + j] in self.token_to_id: continue\n",
    "                    context = self.token_to_id[tokens[i + j]]\n",
    "                    X.append(self.one_hot_encoding(context))\n",
    "\n",
    "                # left context\n",
    "                if i - j >= 0:\n",
    "                    if not tokens[i - j] in self.token_to_id: continue\n",
    "                    context = self.token_to_id[tokens[i - j]]\n",
    "                    X.append(self.one_hot_encoding(context))\n",
    "\n",
    "            examples.append((np.mean(X, axis=0), y))\n",
    "\n",
    "        return np.asarray(examples, dtype=object)\n",
    "\n",
    "    def __build_training_samples__(self, window:int=3, workers:int = 10):\n",
    "        '''Generate training example for word2vec algorithm.\n",
    "\n",
    "        Args:\n",
    "            vocab_size(int): Number of token in the dictionary.\n",
    "            window(int, optional, default=5): Number of left and right context words for each target word.'''\n",
    "\n",
    "\n",
    "        #with Pool(processes=workers) as p:\n",
    "        #     res = p.starmap(self.__generate_training_samples__, [(tokens, window) for tokens in self.sequences])\n",
    "\n",
    "        #return res\n",
    "        for tokens in self.sequences:\n",
    "            for sample in self.__generate_training_samples__(tokens, window=window):\n",
    "                target, context = sample[1], sample[0]\n",
    "                yield target, context\n",
    "    \n",
    "    def __forward_prop__(self, x):\n",
    "    \n",
    "        h = np.dot(self.model['W'].T, x)\n",
    "        u = np.dot(self.model[\"W'\"].T, h)\n",
    "        y_pred = softmax(u)\n",
    "\n",
    "        return y_pred, h, u\n",
    "    \n",
    "    def __backward_prop__(self, y_pred, h, target, context, learning_rate):\n",
    "        total_error = self.__calculate_error__(y_pred, target)\n",
    "        \n",
    "        derivatives = dict()\n",
    "        derivatives[\"∂L/∂W\"] = np.outer(target, np.dot(self.model[\"W'\"], total_error.T))\n",
    "        derivatives[\"∂L/∂W'\"] = np.outer(h, total_error)\n",
    "\n",
    "        # Update weights\n",
    "        self.model[\"W\"] = self.model[\"W\"] - (learning_rate * derivatives[\"∂L/∂W\"])\n",
    "        self.model[\"W'\"] = self.model[\"W'\"] - (learning_rate * derivatives[\"∂L/∂W'\"])\n",
    "\n",
    "    def __calculate_error__(self, y_pred, y):\n",
    "        return y_pred - y\n",
    "        #return np.sum([y_pred - self.one_hot_encoding(index) for index in np.where(context == 1)[0]], axis=0)\n",
    "    \n",
    "    def __calculate_loss__(self, u, target):\n",
    "        u = u.astype(float)\n",
    "        return -u[target==1][0] + np.log(np.sum(np.exp(u)))\n",
    "        #return -u[context==1].sum() + len(np.where(context==1)[0]) *np.log(np.sum(np.exp(u)))\n",
    "    \n",
    "    def train(self, window:int=3, workers:int=10, epochs:int=25, learning_rate:float=0.01):\n",
    "        \n",
    "        self.__init_network__()\n",
    "\n",
    "        #For analysis purposes\n",
    "        epoch_loss = []\n",
    "        weights_1 = []\n",
    "        weights_2 = []\n",
    "\n",
    "        for epoch in tqdm(range(epochs)):\n",
    "            loss = 0\n",
    "\n",
    "            for target, context in self.__build_training_samples__(window, workers=10):\n",
    "                y_pred, h, u = self.__forward_prop__(target)\n",
    "                self.__backward_prop__(y_pred, h, target, context, learning_rate)\n",
    "\n",
    "                loss_temp = self.__calculate_loss__(u,target)\n",
    "                loss += loss_temp\n",
    "\n",
    "            epoch_loss.append( loss )\n",
    "            weights_1.append(self.model['W'])\n",
    "            weights_2.append(self.model[\"W'\"])\n",
    "\n",
    "        self.epoch_loss = epoch_loss\n",
    "        return epoch_loss, np.array(weights_1), np.array(weights_2)"
   ]
  },
  {
   "cell_type": "code",
   "execution_count": 69,
   "metadata": {},
   "outputs": [
    {
     "data": {
      "application/vnd.jupyter.widget-view+json": {
       "model_id": "e50ad1c98364487fa7b3ae757243f5ad",
       "version_major": 2,
       "version_minor": 0
      },
      "text/plain": [
       "  0%|          | 0/25 [00:00<?, ?it/s]"
      ]
     },
     "metadata": {},
     "output_type": "display_data"
    }
   ],
   "source": [
    "w = Word2Vec([x for x in tokens if 'game' in x][:50], vector_size=6)\n",
    "\n",
    "w.build_vocab(min_count=0)\n",
    "\n",
    "# fit parameters\n",
    "_ = w.train(window=3, epochs=25, learning_rate=0.01)"
   ]
  },
  {
   "cell_type": "code",
   "execution_count": 70,
   "metadata": {},
   "outputs": [
    {
     "name": "stdout",
     "output_type": "stream",
     "text": [
      "game ['braves', 'pretty', 'saturday', '``', '9/26', 'decision', 'beat', 'votes', 'team', 'bert'] \n",
      "\n",
      "bat ['homered', 'though', 'defined', 'eighth', 'chet', 'star', \"n't\", '0-0', 'runs', 'word'] \n",
      "\n",
      "play ['get', 'baseball', 'louis', 'determine', 'lankford', 'beginning', 'odds', 'rulebook', 'track', 'dramatic'] \n",
      "\n"
     ]
    }
   ],
   "source": [
    "from scipy.spatial import distance\n",
    "import numpy as np\n",
    "\n",
    "def get_distance_matrix(wordvecs, metric):\n",
    "    dist_matrix = distance.squareform(distance.pdist(wordvecs, metric))\n",
    "    return dist_matrix\n",
    "\n",
    "def get_k_similar_words(word, dist_matrix, token_to_id, id_to_token, k=10):\n",
    "    idx = token_to_id[word]\n",
    "    dists = dist_matrix[idx]\n",
    "    ind = np.argpartition(dists, k)[:k+1]\n",
    "    ind = ind[np.argsort(dists[ind])][1:]\n",
    "    out = [(i, id_to_token[i], dists[i]) for i in ind]\n",
    "    return out\n",
    "\n",
    "sim_matrix = get_distance_matrix(w.model[\"W\"], 'cosine')\n",
    "for word in ['game', 'bat', 'play']:\n",
    "    print(word, [t[1] for t in get_k_similar_words(word, sim_matrix, w.token_to_id, w.id_to_token)], \"\\n\")"
   ]
  },
  {
   "cell_type": "code",
   "execution_count": 71,
   "metadata": {},
   "outputs": [
    {
     "data": {
      "text/plain": [
       "(495, 6)"
      ]
     },
     "execution_count": 71,
     "metadata": {},
     "output_type": "execute_result"
    }
   ],
   "source": [
    "w.model['W'].shape"
   ]
  },
  {
   "cell_type": "code",
   "execution_count": 110,
   "metadata": {},
   "outputs": [],
   "source": [
    "v_game = w.model['W'][token_to_id['game']]\n",
    "v_play = w.model['W'][token_to_id['baseball']]"
   ]
  },
  {
   "cell_type": "code",
   "execution_count": 111,
   "metadata": {},
   "outputs": [
    {
     "data": {
      "text/plain": [
       "-0.30605449728683537"
      ]
     },
     "execution_count": 111,
     "metadata": {},
     "output_type": "execute_result"
    }
   ],
   "source": [
    "np.dot(v_game, v_play)/(np.linalg.norm(v_game)*np.linalg.norm(v_play))"
   ]
  },
  {
   "cell_type": "code",
   "execution_count": 72,
   "metadata": {},
   "outputs": [
    {
     "data": {
      "text/plain": [
       "[<matplotlib.lines.Line2D at 0x7ffdecdd0520>]"
      ]
     },
     "execution_count": 72,
     "metadata": {},
     "output_type": "execute_result"
    },
    {
     "data": {
      "image/png": "[encoded data removed]",
      "text/plain": [
       "<Figure size 432x288 with 1 Axes>"
      ]
     },
     "metadata": {
      "needs_background": "light"
     },
     "output_type": "display_data"
    }
   ],
   "source": [
    "import matplotlib.pyplot as plt\n",
    "plt.plot(w.epoch_loss)"
   ]
  },
  {
   "cell_type": "code",
   "execution_count": 74,
   "metadata": {},
   "outputs": [
    {
     "data": {
      "application/vnd.jupyter.widget-view+json": {
       "model_id": "49ce5ba5d562404bb0e6fb1eeed293b8",
       "version_major": 2,
       "version_minor": 0
      },
      "text/plain": [
       "  0%|          | 0/150 [00:00<?, ?it/s]"
      ]
     },
     "metadata": {},
     "output_type": "display_data"
    }
   ],
   "source": [
    "w = Word2Vec([x for x in tokens if 'game' in x][:50], vector_size=6)\n",
    "\n",
    "w.build_vocab(min_count=0)\n",
    "\n",
    "# fit parameters\n",
    "_ = w.train(window=3, epochs=150, learning_rate=0.01)"
   ]
  },
  {
   "cell_type": "code",
   "execution_count": 75,
   "metadata": {},
   "outputs": [
    {
     "name": "stdout",
     "output_type": "stream",
     "text": [
      "game ['3-5', 'fan', 'distressed', '12-9', 'spelled', 'worst', 'stolen', 'although', 'dodgers/marlins', 'phils', 'hits', '...', 'visiting', '11th', 'sunday', 'gerald', 'baylor', 'homer', '9/27', 'thanks'] \n",
      "\n",
      "bat ['trade', 'battled', 'jordan', 'showed', 'media', 'tie', 'shoulder', 'next', 'hander', 'loss', 'keep', 'strike', 'wilhelm', 'team', '3-2', 'waving', 'regular', 'homered', 'baseball', 'louis'] \n",
      "\n",
      "play ['dramatic', '9/24', 'expos', 'trying', 'mets', '2', 'fortunate', 'gilkey', 'furthermore', 'daryl', 'popular', 'sole', 'infield', 'little', 'braves', 'papa', 'defensive', 'schilling', 'hold', 'get'] \n",
      "\n"
     ]
    }
   ],
   "source": [
    "from scipy.spatial import distance\n",
    "import numpy as np\n",
    "\n",
    "def get_distance_matrix(wordvecs, metric):\n",
    "    dist_matrix = distance.squareform(distance.pdist(wordvecs, metric))\n",
    "    return dist_matrix\n",
    "\n",
    "def get_k_similar_words(word, dist_matrix, token_to_id, id_to_token, k=20):\n",
    "    idx = token_to_id[word]\n",
    "    dists = dist_matrix[idx]\n",
    "    ind = np.argpartition(dists, k)[:k+1]\n",
    "    ind = ind[np.argsort(dists[ind])][1:]\n",
    "    out = [(i, id_to_token[i], dists[i]) for i in ind]\n",
    "    return out\n",
    "\n",
    "sim_matrix = get_distance_matrix(w.model[\"W\"], 'cosine')\n",
    "for word in ['game', 'bat', 'play']:\n",
    "    print(word, [t[1] for t in get_k_similar_words(word, sim_matrix, w.token_to_id, w.id_to_token)], \"\\n\")"
   ]
  },
  {
   "cell_type": "code",
   "execution_count": 76,
   "metadata": {},
   "outputs": [
    {
     "data": {
      "text/plain": [
       "[<matplotlib.lines.Line2D at 0x7ffdecd01ee0>]"
      ]
     },
     "execution_count": 76,
     "metadata": {},
     "output_type": "execute_result"
    },
    {
     "data": {
      "image/png": "[encoded data removed]",
      "text/plain": [
       "<Figure size 432x288 with 1 Axes>"
      ]
     },
     "metadata": {
      "needs_background": "light"
     },
     "output_type": "display_data"
    }
   ],
   "source": [
    "import matplotlib.pyplot as plt\n",
    "plt.plot(w.epoch_loss)"
   ]
  },
  {
   "cell_type": "code",
   "execution_count": 78,
   "metadata": {},
   "outputs": [
    {
     "data": {
      "application/vnd.jupyter.widget-view+json": {
       "model_id": "d2549992d269420ea1a987117b61ad6b",
       "version_major": 2,
       "version_minor": 0
      },
      "text/plain": [
       "  0%|          | 0/50 [00:00<?, ?it/s]"
      ]
     },
     "metadata": {},
     "output_type": "display_data"
    }
   ],
   "source": [
    "w = Word2Vec([i for i in tokens if 'game' in i][:50], vector_size=10)\n",
    "\n",
    "w.build_vocab(min_count=0)\n",
    "\n",
    "# fit parameters\n",
    "_ = w.train(window=3, epochs=50, learning_rate=0.03)"
   ]
  },
  {
   "cell_type": "code",
   "execution_count": 79,
   "metadata": {},
   "outputs": [
    {
     "data": {
      "text/plain": [
       "[<matplotlib.lines.Line2D at 0x7ffd92b0d310>]"
      ]
     },
     "execution_count": 79,
     "metadata": {},
     "output_type": "execute_result"
    },
    {
     "data": {
      "image/png": "[encoded data removed]",
      "text/plain": [
       "<Figure size 432x288 with 1 Axes>"
      ]
     },
     "metadata": {
      "needs_background": "light"
     },
     "output_type": "display_data"
    }
   ],
   "source": [
    "import matplotlib.pyplot as plt\n",
    "plt.plot(w.epoch_loss)"
   ]
  },
  {
   "cell_type": "code",
   "execution_count": 80,
   "metadata": {},
   "outputs": [
    {
     "data": {
      "text/plain": [
       "[5090.660816444951,\n",
       " 4533.835727742902,\n",
       " 4165.492687196345,\n",
       " 3850.410982137761,\n",
       " 3578.785534731077,\n",
       " 3338.838126117397,\n",
       " 3128.020491879694,\n",
       " 2941.1830822076454,\n",
       " 2776.635368791674,\n",
       " 2632.190671915326,\n",
       " 2504.7927504489644,\n",
       " 2391.406563432034,\n",
       " 2289.2519169702905,\n",
       " 2196.002003501624,\n",
       " 2109.9720025520546,\n",
       " 2029.9578787672258,\n",
       " 1955.0471545340317,\n",
       " 1884.5445219627977,\n",
       " 1817.9415387775755,\n",
       " 1754.87313470117,\n",
       " 1695.0554779748832,\n",
       " 1638.2260591003403,\n",
       " 1584.1150552083107,\n",
       " 1532.4513695280375,\n",
       " 1482.9785346652548,\n",
       " 1435.4634141768502,\n",
       " 1389.6981420385591,\n",
       " 1345.499751257199,\n",
       " 1302.709484240207,\n",
       " 1261.1920434913693,\n",
       " 1220.8347115749448,\n",
       " 1181.5463426826025,\n",
       " 1143.256058804233,\n",
       " 1105.9112808410803,\n",
       " 1069.4748857883885,\n",
       " 1033.921679638226,\n",
       " 999.2346829524594,\n",
       " 965.4018240172483,\n",
       " 932.4135240157697,\n",
       " 900.2613543019012,\n",
       " 868.9375709614484,\n",
       " 838.4351080083735,\n",
       " 808.7476476591098,\n",
       " 779.8695792641084,\n",
       " 751.7958332385265,\n",
       " 724.5216522306459,\n",
       " 698.0423603218197,\n",
       " 672.3531620350382,\n",
       " 647.4489775114291,\n",
       " 623.3243071042482]"
      ]
     },
     "execution_count": 80,
     "metadata": {},
     "output_type": "execute_result"
    }
   ],
   "source": [
    "w.epoch_loss"
   ]
  },
  {
   "cell_type": "markdown",
   "metadata": {},
   "source": [
    "## Gensim"
   ]
  },
  {
   "cell_type": "code",
   "execution_count": 112,
   "metadata": {},
   "outputs": [],
   "source": [
    "from gensim.models import Word2Vec"
   ]
  },
  {
   "cell_type": "code",
   "execution_count": 115,
   "metadata": {},
   "outputs": [],
   "source": [
    "train = fetch_20newsgroups(data_home=\"/Users/flint/Data/sklearn/\", subset='train', \n",
    "                           remove=('headers', 'footers', 'quotes'))"
   ]
  },
  {
   "cell_type": "code",
   "execution_count": 116,
   "metadata": {},
   "outputs": [],
   "source": [
    "sentences = []\n",
    "for doc in train.data:\n",
    "    for s in nltk.tokenize.sent_tokenize(doc):\n",
    "        sentences.append(s.lower())"
   ]
  },
  {
   "cell_type": "code",
   "execution_count": 118,
   "metadata": {},
   "outputs": [],
   "source": [
    "tokens = [[x for x in word_tokenize(t) if x not in sw and x not in \n",
    "           string.punctuation] for t in sentences]"
   ]
  },
  {
   "cell_type": "code",
   "execution_count": 119,
   "metadata": {},
   "outputs": [],
   "source": [
    "model = Word2Vec(sentences=tokens, vector_size=100, \n",
    "                 window=6, epochs=20, min_count=1, workers=4)"
   ]
  },
  {
   "cell_type": "code",
   "execution_count": 121,
   "metadata": {},
   "outputs": [
    {
     "data": {
      "text/plain": [
       "[('guns', 0.7868531346321106),\n",
       " ('handgun', 0.7521864175796509),\n",
       " ('firearms', 0.6651404500007629),\n",
       " ('crime', 0.6598057746887207),\n",
       " ('handguns', 0.6582533121109009),\n",
       " ('hcikkk', 0.6489614844322205),\n",
       " ('assault', 0.6278919577598572),\n",
       " ('unsurprisingly', 0.6276061534881592),\n",
       " ('weapons', 0.6260485649108887),\n",
       " ('control', 0.6205299496650696)]"
      ]
     },
     "execution_count": 121,
     "metadata": {},
     "output_type": "execute_result"
    }
   ],
   "source": [
    "model.wv.similar_by_word('gun')"
   ]
  },
  {
   "cell_type": "code",
   "execution_count": 122,
   "metadata": {},
   "outputs": [
    {
     "data": {
      "text/plain": [
       "0.6860907"
      ]
     },
     "execution_count": 122,
     "metadata": {},
     "output_type": "execute_result"
    }
   ],
   "source": [
    "model.wv.similarity('play', 'game')"
   ]
  },
  {
   "cell_type": "markdown",
   "metadata": {},
   "source": [
    "### Base model and specialized models\n",
    "Word embedding may be used also to get the specific shift of words among different corpora"
   ]
  },
  {
   "cell_type": "markdown",
   "metadata": {},
   "source": [
    "#### Create a global model"
   ]
  },
  {
   "cell_type": "code",
   "execution_count": 123,
   "metadata": {},
   "outputs": [],
   "source": [
    "import copy"
   ]
  },
  {
   "cell_type": "code",
   "execution_count": 124,
   "metadata": {},
   "outputs": [],
   "source": [
    "politics = copy.deepcopy(model)\n",
    "religion = copy.deepcopy(model)"
   ]
  },
  {
   "cell_type": "code",
   "execution_count": 127,
   "metadata": {},
   "outputs": [],
   "source": [
    "politics_docs = []\n",
    "religion_docs = []\n",
    "for i, text in enumerate(train.data):\n",
    "    class_label = train.target_names[train.target[i]]\n",
    "    if class_label in ['talk.politics.misc', 'talk.religion.misc']:\n",
    "        for sentence in nltk.tokenize.sent_tokenize(text):\n",
    "            tokens = [x for x in word_tokenize(sentence) if x not in sw and x not in string.punctuation]\n",
    "            if class_label == 'talk.politics.misc':\n",
    "                politics_docs.append(tokens)\n",
    "            else:\n",
    "                religion_docs.append(tokens)"
   ]
  },
  {
   "cell_type": "markdown",
   "metadata": {},
   "source": [
    "#### Update the model for specific corpora to obtain specific fine-tuned models"
   ]
  },
  {
   "cell_type": "code",
   "execution_count": 132,
   "metadata": {},
   "outputs": [
    {
     "data": {
      "text/plain": [
       "(1122185, 1617580)"
      ]
     },
     "execution_count": 132,
     "metadata": {},
     "output_type": "execute_result"
    }
   ],
   "source": [
    "politics.train(politics_docs, total_examples=model.corpus_count, epochs=model.epochs)"
   ]
  },
  {
   "cell_type": "code",
   "execution_count": 133,
   "metadata": {},
   "outputs": [
    {
     "data": {
      "text/plain": [
       "(694817, 1001960)"
      ]
     },
     "execution_count": 133,
     "metadata": {},
     "output_type": "execute_result"
    }
   ],
   "source": [
    "religion.train(religion_docs, total_examples=model.corpus_count, epochs=model.epochs)"
   ]
  },
  {
   "cell_type": "markdown",
   "metadata": {},
   "source": [
    "#### Compare the models"
   ]
  },
  {
   "cell_type": "code",
   "execution_count": 134,
   "metadata": {},
   "outputs": [
    {
     "data": {
      "text/plain": [
       "[('guns', 0.749417781829834),\n",
       " ('handgun', 0.7380691766738892),\n",
       " ('firearms', 0.6531057357788086),\n",
       " ('hcikkk', 0.6465035080909729),\n",
       " ('handguns', 0.6438979506492615),\n",
       " ('crime', 0.6346974968910217),\n",
       " ('control', 0.625226616859436),\n",
       " (\"'scientific\", 0.6197226047515869),\n",
       " ('semi-auto', 0.6071152687072754),\n",
       " ('unsurprisingly', 0.6010028123855591)]"
      ]
     },
     "execution_count": 134,
     "metadata": {},
     "output_type": "execute_result"
    }
   ],
   "source": [
    "politics.wv.most_similar('gun')"
   ]
  },
  {
   "cell_type": "code",
   "execution_count": 135,
   "metadata": {},
   "outputs": [
    {
     "data": {
      "text/plain": [
       "[('guns', 0.7819483876228333),\n",
       " ('handgun', 0.7474991083145142),\n",
       " ('firearms', 0.6628191471099854),\n",
       " ('handguns', 0.6574063897132874),\n",
       " ('crime', 0.6461769938468933),\n",
       " ('hcikkk', 0.6361694931983948),\n",
       " ('control', 0.6151938438415527),\n",
       " ('assault', 0.6131218671798706),\n",
       " ('unsurprisingly', 0.6124743819236755),\n",
       " ('weapons', 0.6095427870750427)]"
      ]
     },
     "execution_count": 135,
     "metadata": {},
     "output_type": "execute_result"
    }
   ],
   "source": [
    "religion.wv.most_similar('gun')"
   ]
  },
  {
   "cell_type": "code",
   "execution_count": 137,
   "metadata": {},
   "outputs": [
    {
     "data": {
      "text/plain": [
       "0.4703383"
      ]
     },
     "execution_count": 137,
     "metadata": {},
     "output_type": "execute_result"
    }
   ],
   "source": [
    "religion.wv.similarity('church', 'person')"
   ]
  },
  {
   "cell_type": "code",
   "execution_count": 138,
   "metadata": {},
   "outputs": [
    {
     "data": {
      "text/plain": [
       "0.4626368"
      ]
     },
     "execution_count": 138,
     "metadata": {},
     "output_type": "execute_result"
    }
   ],
   "source": [
    "politics.wv.similarity('church', 'person')"
   ]
  },
  {
   "cell_type": "code",
   "execution_count": null,
   "metadata": {},
   "outputs": [],
   "source": []
  }
 ],
 "metadata": {
  "kernelspec": {
   "display_name": "Python 3 (ipykernel)",
   "language": "python",
   "name": "python3"
  },
  "language_info": {
   "codemirror_mode": {
    "name": "ipython",
    "version": 3
   },
   "file_extension": ".py",
   "mimetype": "text/x-python",
   "name": "python",
   "nbconvert_exporter": "python",
   "pygments_lexer": "ipython3",
   "version": "3.8.8"
  },
  "toc": {
   "base_numbering": 1,
   "nav_menu": {},
   "number_sections": true,
   "sideBar": true,
   "skip_h1_title": false,
   "title_cell": "Table of Contents",
   "title_sidebar": "Contents",
   "toc_cell": false,
   "toc_position": {},
   "toc_section_display": true,
   "toc_window_display": false
  }
 },
 "nbformat": 4,
 "nbformat_minor": 4
}
