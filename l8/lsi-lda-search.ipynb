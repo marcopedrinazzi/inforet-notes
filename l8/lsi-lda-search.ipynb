{
 "cells": [
  {
   "cell_type": "markdown",
   "id": "a7804892",
   "metadata": {},
   "source": [
    "# LSI and LDA for search"
   ]
  },
  {
   "cell_type": "markdown",
   "id": "dc87c351",
   "metadata": {},
   "source": [
    "## The standard IR system as baseline"
   ]
  },
  {
   "cell_type": "code",
   "execution_count": 1,
   "id": "215ebb8a",
   "metadata": {},
   "outputs": [],
   "source": [
    "import pandas as pd\n",
    "import numpy as np\n",
    "from tqdm.notebook import tqdm"
   ]
  },
  {
   "cell_type": "code",
   "execution_count": 2,
   "id": "c1099747",
   "metadata": {},
   "outputs": [],
   "source": [
    "import pymongo\n",
    "from twitter import TwitterDataset, ENTITY, DOMAIN\n",
    "from nltk.tokenize import TweetTokenizer\n",
    "from nltk.corpus import stopwords\n",
    "from string import punctuation"
   ]
  },
  {
   "cell_type": "code",
   "execution_count": 3,
   "id": "b4344557",
   "metadata": {},
   "outputs": [],
   "source": [
    "db = pymongo.MongoClient()['twitter']['tweets']\n",
    "tdata = TwitterDataset(db)"
   ]
  },
  {
   "cell_type": "code",
   "execution_count": 4,
   "id": "e607dfa8",
   "metadata": {},
   "outputs": [],
   "source": [
    "estats = tdata.entity_queries_stats\n",
    "dstats = tdata.domain_queries_stats"
   ]
  },
  {
   "cell_type": "code",
   "execution_count": 5,
   "id": "fdfd1432",
   "metadata": {},
   "outputs": [],
   "source": [
    "stopw = set(stopwords.words('english'))\n",
    "tokenizer = TweetTokenizer()\n",
    "tokenize = lambda text: [word for word in tokenizer.tokenize(text.lower()) \n",
    "                         if word not in punctuation and word not in stopw and not word.startswith('http')] "
   ]
  },
  {
   "cell_type": "markdown",
   "id": "ff603799",
   "metadata": {},
   "source": [
    "### Naive search engine"
   ]
  },
  {
   "cell_type": "code",
   "execution_count": 6,
   "id": "37eed332",
   "metadata": {},
   "outputs": [],
   "source": [
    "from search import TfIdfSearchEngine"
   ]
  },
  {
   "cell_type": "code",
   "execution_count": 7,
   "id": "11940ffd",
   "metadata": {},
   "outputs": [],
   "source": [
    "E = TfIdfSearchEngine(tdata.search_base, tokenize)"
   ]
  },
  {
   "cell_type": "code",
   "execution_count": 94,
   "id": "7693d194",
   "metadata": {},
   "outputs": [],
   "source": [
    "query = 'TV Shows'\n",
    "query_text = 'TV shows'\n",
    "ground_truth = tdata.ground_truth(query, query_type=DOMAIN)\n",
    "ranking = E.search(query_text)"
   ]
  },
  {
   "cell_type": "code",
   "execution_count": 95,
   "id": "7feda041",
   "metadata": {},
   "outputs": [],
   "source": [
    "tp, fp, fn, tn = TfIdfSearchEngine.feedback(ranking, \n",
    "                                            ground_truth, top_k=4500)"
   ]
  },
  {
   "cell_type": "code",
   "execution_count": 96,
   "id": "6bacf1ca",
   "metadata": {},
   "outputs": [
    {
     "name": "stdout",
     "output_type": "stream",
     "text": [
      "414 4086 1628 16222\n",
      "precision 0.092\n",
      "recall 0.20274240940254654\n"
     ]
    }
   ],
   "source": [
    "print(len(tp), len(fp), len(fn), len(tn))\n",
    "print('precision', len(tp) / (len(tp) + len(fp)))\n",
    "print('recall', len(tp) / (len(tp) + len(fn)))"
   ]
  },
  {
   "cell_type": "code",
   "execution_count": 97,
   "id": "4f9b9197",
   "metadata": {},
   "outputs": [],
   "source": [
    "ranking_map = dict([(tweet_id, score) for _, tweet_id, score in ranking])\n",
    "document_ids = [x for x, y in tdata.search_base]\n",
    "y_true = [1 if x in ground_truth else 0 for x in document_ids]\n",
    "scores = [ranking_map[x] if x in ranking_map.keys() else 0 for x in document_ids]\n",
    "y_pred = [1 if ranking_map[x] > 0 else 0 for x in document_ids]"
   ]
  },
  {
   "cell_type": "markdown",
   "id": "4dc4a6e5",
   "metadata": {},
   "source": [
    "## Evaluate"
   ]
  },
  {
   "cell_type": "code",
   "execution_count": 98,
   "id": "ec432fdf",
   "metadata": {},
   "outputs": [],
   "source": [
    "import matplotlib.pyplot as plt"
   ]
  },
  {
   "cell_type": "code",
   "execution_count": 99,
   "id": "b5f4d134",
   "metadata": {},
   "outputs": [],
   "source": [
    "import sklearn.metrics as mt"
   ]
  },
  {
   "cell_type": "code",
   "execution_count": 100,
   "id": "ab3640f0",
   "metadata": {},
   "outputs": [],
   "source": [
    "precision, recall, thresholds = mt.precision_recall_curve(y_true, scores)\n",
    "intp = [max(precision[:i+1]) for i in range(len(precision))]"
   ]
  },
  {
   "cell_type": "code",
   "execution_count": 101,
   "id": "2f1f490e",
   "metadata": {},
   "outputs": [],
   "source": [
    "cm = mt.confusion_matrix(y_true, y_pred)\n",
    "cmd = mt.ConfusionMatrixDisplay(confusion_matrix=cm)"
   ]
  },
  {
   "cell_type": "code",
   "execution_count": 102,
   "id": "8a2c52f1",
   "metadata": {},
   "outputs": [
    {
     "data": {
      "image/png": "[encoded data removed]",
      "text/plain": [
       "<Figure size 864x432 with 3 Axes>"
      ]
     },
     "metadata": {
      "needs_background": "light"
     },
     "output_type": "display_data"
    }
   ],
   "source": [
    "fig, ax = plt.subplots(figsize=(12, 6), ncols=2)\n",
    "ax[0].plot(recall, intp, label='tfidf')\n",
    "cmd.plot(ax=ax[1], values_format='d', cmap='Greys')\n",
    "ax[0].legend()\n",
    "plt.tight_layout()\n",
    "plt.show()"
   ]
  },
  {
   "cell_type": "markdown",
   "id": "b28b3d43",
   "metadata": {},
   "source": [
    "## Prepare for gensim"
   ]
  },
  {
   "cell_type": "code",
   "execution_count": 103,
   "id": "7722024b",
   "metadata": {},
   "outputs": [],
   "source": [
    "from gensim.corpora.textcorpus import TextCorpus\n",
    "from gensim.corpora import Dictionary"
   ]
  },
  {
   "cell_type": "code",
   "execution_count": 104,
   "id": "35264a12",
   "metadata": {},
   "outputs": [],
   "source": [
    "class TweetsCorpus(object):\n",
    "    def __init__(self, documents):\n",
    "        self.documents = documents\n",
    "    def get_texts(self):\n",
    "        for doc in self.documents:\n",
    "            yield [word for word in tokenize(doc)]\n",
    "    def __len__(self):\n",
    "        return sum(1 for _ in self.get_texts())"
   ]
  },
  {
   "cell_type": "code",
   "execution_count": 105,
   "id": "63982ae2",
   "metadata": {},
   "outputs": [],
   "source": [
    "tweets_corpus = TweetsCorpus([y for x, y in tdata.search_base])"
   ]
  },
  {
   "cell_type": "code",
   "execution_count": 106,
   "id": "ff539b6f",
   "metadata": {},
   "outputs": [],
   "source": [
    "dictionary = Dictionary(tweets_corpus.get_texts())\n",
    "corpus = [dictionary.doc2bow(text) for text in tweets_corpus.get_texts()]"
   ]
  },
  {
   "cell_type": "markdown",
   "id": "bf6baa3c",
   "metadata": {},
   "source": [
    "## LSI"
   ]
  },
  {
   "cell_type": "code",
   "execution_count": 158,
   "id": "d2726f76",
   "metadata": {},
   "outputs": [],
   "source": [
    "from gensim.models import LsiModel"
   ]
  },
  {
   "cell_type": "code",
   "execution_count": 159,
   "id": "9c9287b2",
   "metadata": {},
   "outputs": [
    {
     "data": {
      "text/plain": [
       "53"
      ]
     },
     "execution_count": 159,
     "metadata": {},
     "output_type": "execute_result"
    }
   ],
   "source": [
    "dstats.shape[0]"
   ]
  },
  {
   "cell_type": "code",
   "execution_count": 160,
   "id": "b15e418f",
   "metadata": {},
   "outputs": [],
   "source": [
    "model = LsiModel(corpus, id2word=dictionary, num_topics=20)"
   ]
  },
  {
   "cell_type": "code",
   "execution_count": 161,
   "id": "163720f7",
   "metadata": {},
   "outputs": [],
   "source": [
    "vectorized_corpus = model[corpus]"
   ]
  },
  {
   "cell_type": "code",
   "execution_count": 162,
   "id": "a487644e",
   "metadata": {},
   "outputs": [
    {
     "name": "stdout",
     "output_type": "stream",
     "text": [
      "4\n",
      "[(1, 0.117424354), (3, 0.5254149)]\n"
     ]
    }
   ],
   "source": [
    "print(len(vectorized_corpus[0]))\n",
    "print(vectorized_corpus[0][:2])"
   ]
  },
  {
   "cell_type": "markdown",
   "id": "5c7f4714",
   "metadata": {},
   "source": [
    "### Query to vector"
   ]
  },
  {
   "cell_type": "code",
   "execution_count": 163,
   "id": "1e6f6a96",
   "metadata": {},
   "outputs": [
    {
     "name": "stdout",
     "output_type": "stream",
     "text": [
      "TV shows\n",
      "['tv', 'shows']\n",
      "[(213, 1), (2719, 1)]\n",
      "[(11, 0.68332136), (14, 0.016667299)]\n"
     ]
    }
   ],
   "source": [
    "print(query_text)\n",
    "print(tokenize(query_text))\n",
    "print(dictionary.doc2bow(tokenize(query_text)))\n",
    "word_vector = model[dictionary.doc2bow(tokenize(query_text))]\n",
    "main_topics = sorted(word_vector, key=lambda x: -np.abs(x[1]))[:2]\n",
    "print(main_topics)"
   ]
  },
  {
   "cell_type": "code",
   "execution_count": 164,
   "id": "a052fdfe",
   "metadata": {},
   "outputs": [
    {
     "data": {
      "text/plain": [
       "'0.017*\"killed\" + 0.016*\"baby\" + 0.014*\"breaks\" + 0.012*\"woman\" + 0.011*\"car\" + 0.011*\"’\" + 0.011*\"silence\" + 0.010*\"police\" + 0.009*\"wife\" + 0.009*\"left\"'"
      ]
     },
     "execution_count": 164,
     "metadata": {},
     "output_type": "execute_result"
    }
   ],
   "source": [
    "model.print_topic(11)"
   ]
  },
  {
   "cell_type": "code",
   "execution_count": 165,
   "id": "55f19953",
   "metadata": {},
   "outputs": [],
   "source": [
    "q_vector = model[dictionary.doc2bow(tokenize(query_text))]"
   ]
  },
  {
   "cell_type": "code",
   "execution_count": 166,
   "id": "218e0d64",
   "metadata": {},
   "outputs": [
    {
     "data": {
      "text/plain": [
       "[(0, 0.0166673), (1, 0.0166673)]"
      ]
     },
     "execution_count": 166,
     "metadata": {},
     "output_type": "execute_result"
    }
   ],
   "source": [
    "q_vector[:2]"
   ]
  },
  {
   "cell_type": "code",
   "execution_count": 167,
   "id": "2914787e",
   "metadata": {},
   "outputs": [],
   "source": [
    "LSI = np.zeros((len(vectorized_corpus), model.num_topics))\n",
    "for i, vector in enumerate(vectorized_corpus):\n",
    "    for topic_id, score in vector:\n",
    "        LSI[i, topic_id] = score"
   ]
  },
  {
   "cell_type": "code",
   "execution_count": 168,
   "id": "c39b5c65",
   "metadata": {},
   "outputs": [
    {
     "data": {
      "text/plain": [
       "(22350, 20)"
      ]
     },
     "execution_count": 168,
     "metadata": {},
     "output_type": "execute_result"
    }
   ],
   "source": [
    "LSI.shape"
   ]
  },
  {
   "cell_type": "code",
   "execution_count": 169,
   "id": "02c9c872",
   "metadata": {},
   "outputs": [],
   "source": [
    "Q = np.array([y for x, y in q_vector]).reshape(1, -1)"
   ]
  },
  {
   "cell_type": "markdown",
   "id": "85d73f84",
   "metadata": {},
   "source": [
    "### Match"
   ]
  },
  {
   "cell_type": "code",
   "execution_count": 170,
   "id": "5fbbcf0a",
   "metadata": {},
   "outputs": [],
   "source": [
    "from sklearn.metrics.pairwise import cosine_similarity"
   ]
  },
  {
   "cell_type": "code",
   "execution_count": 171,
   "id": "d8576844",
   "metadata": {},
   "outputs": [],
   "source": [
    "S = cosine_similarity(Q, LSI)"
   ]
  },
  {
   "cell_type": "code",
   "execution_count": 172,
   "id": "1c8a11f0",
   "metadata": {},
   "outputs": [],
   "source": [
    "lsi_scores = S[0]\n",
    "lsi_pred = [1 if x > 0 else 0 for x in lsi_scores]"
   ]
  },
  {
   "cell_type": "code",
   "execution_count": 173,
   "id": "6552b445",
   "metadata": {},
   "outputs": [],
   "source": [
    "lsi_precision, lsi_recall, lsi_thresholds = mt.precision_recall_curve(y_true, lsi_scores)\n",
    "lsi_intp = [max(lsi_precision[:i+1]) for i in range(len(lsi_precision))]"
   ]
  },
  {
   "cell_type": "code",
   "execution_count": 174,
   "id": "b672bf97",
   "metadata": {},
   "outputs": [],
   "source": [
    "lsi_cm = mt.confusion_matrix(y_true, lsi_pred)\n",
    "lsi_cmd = mt.ConfusionMatrixDisplay(confusion_matrix=lsi_cm)"
   ]
  },
  {
   "cell_type": "code",
   "execution_count": 175,
   "id": "32c62567",
   "metadata": {},
   "outputs": [
    {
     "data": {
      "image/png": "[encoded data removed]",
      "text/plain": [
       "<Figure size 864x288 with 5 Axes>"
      ]
     },
     "metadata": {
      "needs_background": "light"
     },
     "output_type": "display_data"
    }
   ],
   "source": [
    "fig, ax = plt.subplots(figsize=(12, 4), ncols=3)\n",
    "ax[0].plot(recall, intp, label='tfidf')\n",
    "ax[0].plot(lsi_recall, lsi_intp, label='LSI')\n",
    "cmd.plot(ax=ax[1], values_format='d', cmap='Greys')\n",
    "lsi_cmd.plot(ax=ax[2], values_format='d', cmap='Greys')\n",
    "ax[0].legend()\n",
    "plt.tight_layout()\n",
    "plt.show()"
   ]
  },
  {
   "cell_type": "markdown",
   "id": "8f28d042",
   "metadata": {},
   "source": [
    "## Exercize\n",
    "- Discuss the different nature of errors from FN to FP\n",
    "- Try with a domain generic query like `TV Shows`"
   ]
  },
  {
   "cell_type": "code",
   "execution_count": null,
   "id": "f0540cef",
   "metadata": {},
   "outputs": [],
   "source": []
  }
 ],
 "metadata": {
  "kernelspec": {
   "display_name": "Python 3 (ipykernel)",
   "language": "python",
   "name": "python3"
  },
  "language_info": {
   "codemirror_mode": {
    "name": "ipython",
    "version": 3
   },
   "file_extension": ".py",
   "mimetype": "text/x-python",
   "name": "python",
   "nbconvert_exporter": "python",
   "pygments_lexer": "ipython3",
   "version": "3.8.8"
  },
  "toc": {
   "base_numbering": 1,
   "nav_menu": {},
   "number_sections": true,
   "sideBar": true,
   "skip_h1_title": false,
   "title_cell": "Table of Contents",
   "title_sidebar": "Contents",
   "toc_cell": false,
   "toc_position": {},
   "toc_section_display": true,
   "toc_window_display": false
  }
 },
 "nbformat": 4,
 "nbformat_minor": 5
}
