{
 "cells": [
  {
   "cell_type": "markdown",
   "id": "e53f0828",
   "metadata": {},
   "source": [
    "# Use tweets for evaluating the performances of an IR system"
   ]
  },
  {
   "cell_type": "code",
   "execution_count": 1,
   "id": "f3c078cc",
   "metadata": {},
   "outputs": [],
   "source": [
    "import pandas as pd\n",
    "import numpy as np\n",
    "from tqdm.notebook import tqdm"
   ]
  },
  {
   "cell_type": "code",
   "execution_count": 2,
   "id": "d0f2bb94",
   "metadata": {},
   "outputs": [],
   "source": [
    "import pymongo"
   ]
  },
  {
   "cell_type": "markdown",
   "id": "8a7e0d37",
   "metadata": {},
   "source": [
    "## Create dataset and ground truth"
   ]
  },
  {
   "cell_type": "code",
   "execution_count": 3,
   "id": "3e685959",
   "metadata": {},
   "outputs": [],
   "source": [
    "db = pymongo.MongoClient()['twitter']['tweets']"
   ]
  },
  {
   "cell_type": "code",
   "execution_count": 4,
   "id": "02d22059",
   "metadata": {},
   "outputs": [],
   "source": [
    "tweets = list(db.find())"
   ]
  },
  {
   "cell_type": "code",
   "execution_count": 5,
   "id": "422b2561",
   "metadata": {},
   "outputs": [],
   "source": [
    "corpus = dict([(tweet['id'], tweet['text']) for tweet in tweets])"
   ]
  },
  {
   "cell_type": "code",
   "execution_count": 6,
   "id": "42f9a8ea",
   "metadata": {},
   "outputs": [
    {
     "data": {
      "text/plain": [
       "[('1463847474049789952',\n",
       "  'In case you missed it: Daily Covid-19 caseloads per 100,000 citizens in the UK now rank behind more than 10 European countries, including Belgium and Greece https://t.co/phSyAbo6Ux https://t.co/Swy51Zuf0B'),\n",
       " ('1463839920204787716',\n",
       "  'English football is set for a radical makeover that would include powers to block change of ownership of clubs, a veto for supporters over key decisions and a redistributive levy on Premier League player transfers, under proposals by a review of the sport https://t.co/f2Xr75Jdhq'),\n",
       " ('1463836848917204998',\n",
       "  'Good Morning New York. Here are the Top Stories Today.\\nhttps://t.co/zHRPaGT1ib https://t.co/qvKD7BflG7')]"
      ]
     },
     "execution_count": 6,
     "metadata": {},
     "output_type": "execute_result"
    }
   ],
   "source": [
    "list(corpus.items())[:3]"
   ]
  },
  {
   "cell_type": "code",
   "execution_count": 7,
   "id": "6a51de53",
   "metadata": {},
   "outputs": [],
   "source": [
    "entities, domains = {}, {}\n",
    "metadata = []\n",
    "for i, tweet in enumerate(tweets):\n",
    "    if 'context_annotations' in tweet.keys():\n",
    "        for annotation in tweet['context_annotations']:\n",
    "            domain, entity = annotation['domain'], annotation['entity']\n",
    "            if domain['id'] not in domains:\n",
    "                domains[domain['id']] = domain\n",
    "            if entity['id'] not in entities:\n",
    "                entities[entity['id']] = entity\n",
    "            metadata.append({\n",
    "                'entity': entity['id'], 'domain': domain['id'], 'tweet': tweet['id']\n",
    "            })\n",
    "M = pd.DataFrame(metadata)"
   ]
  },
  {
   "cell_type": "code",
   "execution_count": 8,
   "id": "7bca4b5c",
   "metadata": {},
   "outputs": [],
   "source": [
    "E = pd.DataFrame(entities).T\n",
    "D = pd.DataFrame(domains).T"
   ]
  },
  {
   "cell_type": "code",
   "execution_count": 9,
   "id": "2fe5ca36",
   "metadata": {},
   "outputs": [
    {
     "data": {
      "text/html": [
       "<div>\n",
       "<style scoped>\n",
       "    .dataframe tbody tr th:only-of-type {\n",
       "        vertical-align: middle;\n",
       "    }\n",
       "\n",
       "    .dataframe tbody tr th {\n",
       "        vertical-align: top;\n",
       "    }\n",
       "\n",
       "    .dataframe thead th {\n",
       "        text-align: right;\n",
       "    }\n",
       "</style>\n",
       "<table border=\"1\" class=\"dataframe\">\n",
       "  <thead>\n",
       "    <tr style=\"text-align: right;\">\n",
       "      <th></th>\n",
       "      <th>id</th>\n",
       "      <th>name</th>\n",
       "      <th>description</th>\n",
       "    </tr>\n",
       "  </thead>\n",
       "  <tbody>\n",
       "    <tr>\n",
       "      <th>1220701888179359745</th>\n",
       "      <td>1220701888179359745</td>\n",
       "      <td>COVID-19</td>\n",
       "      <td>NaN</td>\n",
       "    </tr>\n",
       "    <tr>\n",
       "      <th>10000277815</th>\n",
       "      <td>10000277815</td>\n",
       "      <td>English Premier League Soccer</td>\n",
       "      <td>Action from English Premier League Soccer matc...</td>\n",
       "    </tr>\n",
       "  </tbody>\n",
       "</table>\n",
       "</div>"
      ],
      "text/plain": [
       "                                      id                           name  \\\n",
       "1220701888179359745  1220701888179359745                       COVID-19   \n",
       "10000277815                  10000277815  English Premier League Soccer   \n",
       "\n",
       "                                                           description  \n",
       "1220701888179359745                                                NaN  \n",
       "10000277815          Action from English Premier League Soccer matc...  "
      ]
     },
     "execution_count": 9,
     "metadata": {},
     "output_type": "execute_result"
    }
   ],
   "source": [
    "E.head(2)"
   ]
  },
  {
   "cell_type": "code",
   "execution_count": 10,
   "id": "907536f6",
   "metadata": {},
   "outputs": [
    {
     "data": {
      "text/html": [
       "<div>\n",
       "<style scoped>\n",
       "    .dataframe tbody tr th:only-of-type {\n",
       "        vertical-align: middle;\n",
       "    }\n",
       "\n",
       "    .dataframe tbody tr th {\n",
       "        vertical-align: top;\n",
       "    }\n",
       "\n",
       "    .dataframe thead th {\n",
       "        text-align: right;\n",
       "    }\n",
       "</style>\n",
       "<table border=\"1\" class=\"dataframe\">\n",
       "  <thead>\n",
       "    <tr style=\"text-align: right;\">\n",
       "      <th></th>\n",
       "      <th>id</th>\n",
       "      <th>name</th>\n",
       "      <th>description</th>\n",
       "    </tr>\n",
       "  </thead>\n",
       "  <tbody>\n",
       "    <tr>\n",
       "      <th>123</th>\n",
       "      <td>123</td>\n",
       "      <td>Ongoing News Story</td>\n",
       "      <td>Ongoing News Stories like 'Brexit'</td>\n",
       "    </tr>\n",
       "    <tr>\n",
       "      <th>3</th>\n",
       "      <td>3</td>\n",
       "      <td>TV Shows</td>\n",
       "      <td>Television shows from around the world</td>\n",
       "    </tr>\n",
       "  </tbody>\n",
       "</table>\n",
       "</div>"
      ],
      "text/plain": [
       "      id                name                             description\n",
       "123  123  Ongoing News Story      Ongoing News Stories like 'Brexit'\n",
       "3      3            TV Shows  Television shows from around the world"
      ]
     },
     "execution_count": 10,
     "metadata": {},
     "output_type": "execute_result"
    }
   ],
   "source": [
    "D.head(2)"
   ]
  },
  {
   "cell_type": "code",
   "execution_count": 11,
   "id": "2b5b336c",
   "metadata": {},
   "outputs": [
    {
     "data": {
      "text/html": [
       "<div>\n",
       "<style scoped>\n",
       "    .dataframe tbody tr th:only-of-type {\n",
       "        vertical-align: middle;\n",
       "    }\n",
       "\n",
       "    .dataframe tbody tr th {\n",
       "        vertical-align: top;\n",
       "    }\n",
       "\n",
       "    .dataframe thead th {\n",
       "        text-align: right;\n",
       "    }\n",
       "</style>\n",
       "<table border=\"1\" class=\"dataframe\">\n",
       "  <thead>\n",
       "    <tr style=\"text-align: right;\">\n",
       "      <th></th>\n",
       "      <th>entity</th>\n",
       "      <th>domain</th>\n",
       "      <th>tweet</th>\n",
       "    </tr>\n",
       "  </thead>\n",
       "  <tbody>\n",
       "    <tr>\n",
       "      <th>0</th>\n",
       "      <td>1220701888179359745</td>\n",
       "      <td>123</td>\n",
       "      <td>1463847474049789952</td>\n",
       "    </tr>\n",
       "    <tr>\n",
       "      <th>1</th>\n",
       "      <td>10000277815</td>\n",
       "      <td>3</td>\n",
       "      <td>1463839920204787716</td>\n",
       "    </tr>\n",
       "  </tbody>\n",
       "</table>\n",
       "</div>"
      ],
      "text/plain": [
       "                entity domain                tweet\n",
       "0  1220701888179359745    123  1463847474049789952\n",
       "1          10000277815      3  1463839920204787716"
      ]
     },
     "execution_count": 11,
     "metadata": {},
     "output_type": "execute_result"
    }
   ],
   "source": [
    "M.head(2)"
   ]
  },
  {
   "cell_type": "markdown",
   "id": "0e878b7e",
   "metadata": {},
   "source": [
    "## Expected results"
   ]
  },
  {
   "cell_type": "code",
   "execution_count": 12,
   "id": "614b0838",
   "metadata": {},
   "outputs": [],
   "source": [
    "entity_queries = list(set(E['name'].values))\n",
    "domain_queries = list(set(D['name'].values))\n",
    "indexed_tweets = set([int(x) for x in list(E.id.values) + list(D.id.values)])"
   ]
  },
  {
   "cell_type": "code",
   "execution_count": 13,
   "id": "41d0358f",
   "metadata": {},
   "outputs": [],
   "source": [
    "def get_entity_results(query):\n",
    "    etweets = set()\n",
    "    entity_ids = E[E['name']==query].id.values\n",
    "    for eid in entity_ids:\n",
    "        etweets = etweets.union(set(M[M.entity==eid].tweet.values))\n",
    "    return etweets\n",
    "\n",
    "def get_domain_results(query):\n",
    "    etweets = set()\n",
    "    domain_ids = D[D['name']==query].id.values\n",
    "    for eid in domain_ids:\n",
    "        etweets = etweets.union(set(M[M.domain==eid].tweet.values))\n",
    "    return etweets"
   ]
  },
  {
   "cell_type": "code",
   "execution_count": 14,
   "id": "f8c5d9fb",
   "metadata": {},
   "outputs": [
    {
     "data": {
      "text/plain": [
       "2042"
      ]
     },
     "execution_count": 14,
     "metadata": {},
     "output_type": "execute_result"
    }
   ],
   "source": [
    "len(get_domain_results('TV Shows'))"
   ]
  },
  {
   "cell_type": "code",
   "execution_count": 15,
   "id": "815e64bc",
   "metadata": {},
   "outputs": [
    {
     "data": {
      "text/plain": [
       "['1470731673864183816', '1475082387096838148', '1491336099213553666']"
      ]
     },
     "execution_count": 15,
     "metadata": {},
     "output_type": "execute_result"
    }
   ],
   "source": [
    "list(get_domain_results('TV Shows'))[:3]"
   ]
  },
  {
   "cell_type": "code",
   "execution_count": 16,
   "id": "db459007",
   "metadata": {},
   "outputs": [],
   "source": [
    "search_base = [(x, corpus[x]) for x in set(M.tweet.values)]"
   ]
  },
  {
   "cell_type": "code",
   "execution_count": 17,
   "id": "a5670eb4",
   "metadata": {},
   "outputs": [
    {
     "data": {
      "text/plain": [
       "22350"
      ]
     },
     "execution_count": 17,
     "metadata": {},
     "output_type": "execute_result"
    }
   ],
   "source": [
    "len(search_base)"
   ]
  },
  {
   "cell_type": "code",
   "execution_count": 18,
   "id": "c2fb8952",
   "metadata": {},
   "outputs": [],
   "source": [
    "esize = M.groupby('entity').count()\n",
    "esize['query'] = [E.loc[x]['name'] for x in esize.index.values]\n",
    "dsize = pd.DataFrame(M.groupby('domain').tweet.nunique(), columns=['tweet'])\n",
    "dsize['query'] = [D.loc[x]['name'] for x in dsize.index.values]"
   ]
  },
  {
   "cell_type": "code",
   "execution_count": 19,
   "id": "b954770a",
   "metadata": {},
   "outputs": [
    {
     "data": {
      "text/html": [
       "<div>\n",
       "<style scoped>\n",
       "    .dataframe tbody tr th:only-of-type {\n",
       "        vertical-align: middle;\n",
       "    }\n",
       "\n",
       "    .dataframe tbody tr th {\n",
       "        vertical-align: top;\n",
       "    }\n",
       "\n",
       "    .dataframe thead th {\n",
       "        text-align: right;\n",
       "    }\n",
       "</style>\n",
       "<table border=\"1\" class=\"dataframe\">\n",
       "  <thead>\n",
       "    <tr style=\"text-align: right;\">\n",
       "      <th></th>\n",
       "      <th>domain</th>\n",
       "      <th>tweet</th>\n",
       "      <th>query</th>\n",
       "    </tr>\n",
       "    <tr>\n",
       "      <th>entity</th>\n",
       "      <th></th>\n",
       "      <th></th>\n",
       "      <th></th>\n",
       "    </tr>\n",
       "  </thead>\n",
       "  <tbody>\n",
       "    <tr>\n",
       "      <th>781974596148793345</th>\n",
       "      <td>4427</td>\n",
       "      <td>4427</td>\n",
       "      <td>Business &amp; finance</td>\n",
       "    </tr>\n",
       "    <tr>\n",
       "      <th>1220701888179359745</th>\n",
       "      <td>3985</td>\n",
       "      <td>3985</td>\n",
       "      <td>COVID-19</td>\n",
       "    </tr>\n",
       "    <tr>\n",
       "      <th>1066114840832356353</th>\n",
       "      <td>3074</td>\n",
       "      <td>3074</td>\n",
       "      <td>The Telegraph</td>\n",
       "    </tr>\n",
       "    <tr>\n",
       "      <th>1113138554496942080</th>\n",
       "      <td>3071</td>\n",
       "      <td>3071</td>\n",
       "      <td>The Daily Telegraph</td>\n",
       "    </tr>\n",
       "    <tr>\n",
       "      <th>1113097508572426242</th>\n",
       "      <td>2983</td>\n",
       "      <td>2983</td>\n",
       "      <td>Daily Mirror</td>\n",
       "    </tr>\n",
       "    <tr>\n",
       "      <th>1066122339568386048</th>\n",
       "      <td>2819</td>\n",
       "      <td>2819</td>\n",
       "      <td>The Guardian</td>\n",
       "    </tr>\n",
       "    <tr>\n",
       "      <th>857212166100754432</th>\n",
       "      <td>1964</td>\n",
       "      <td>1964</td>\n",
       "      <td>Boris Johnson</td>\n",
       "    </tr>\n",
       "    <tr>\n",
       "      <th>825047692124442624</th>\n",
       "      <td>1661</td>\n",
       "      <td>1661</td>\n",
       "      <td>Food</td>\n",
       "    </tr>\n",
       "    <tr>\n",
       "      <th>864931126132985856</th>\n",
       "      <td>1198</td>\n",
       "      <td>1198</td>\n",
       "      <td>Vladimir Putin</td>\n",
       "    </tr>\n",
       "    <tr>\n",
       "      <th>826817907946450944</th>\n",
       "      <td>714</td>\n",
       "      <td>714</td>\n",
       "      <td>Food Blogs</td>\n",
       "    </tr>\n",
       "    <tr>\n",
       "      <th>781974597310615553</th>\n",
       "      <td>677</td>\n",
       "      <td>677</td>\n",
       "      <td>Entertainment</td>\n",
       "    </tr>\n",
       "    <tr>\n",
       "      <th>10040395078</th>\n",
       "      <td>580</td>\n",
       "      <td>580</td>\n",
       "      <td>Joe Biden</td>\n",
       "    </tr>\n",
       "    <tr>\n",
       "      <th>781974597105094656</th>\n",
       "      <td>548</td>\n",
       "      <td>548</td>\n",
       "      <td>TV/Movies Related</td>\n",
       "    </tr>\n",
       "    <tr>\n",
       "      <th>834828264786898945</th>\n",
       "      <td>529</td>\n",
       "      <td>529</td>\n",
       "      <td>Drinks</td>\n",
       "    </tr>\n",
       "    <tr>\n",
       "      <th>781974596157181956</th>\n",
       "      <td>516</td>\n",
       "      <td>516</td>\n",
       "      <td>Online Site</td>\n",
       "    </tr>\n",
       "    <tr>\n",
       "      <th>1250078501849280512</th>\n",
       "      <td>474</td>\n",
       "      <td>474</td>\n",
       "      <td>Christmas</td>\n",
       "    </tr>\n",
       "    <tr>\n",
       "      <th>1065659570578612224</th>\n",
       "      <td>427</td>\n",
       "      <td>427</td>\n",
       "      <td>BBC</td>\n",
       "    </tr>\n",
       "    <tr>\n",
       "      <th>831530561680191490</th>\n",
       "      <td>415</td>\n",
       "      <td>415</td>\n",
       "      <td>Cooking</td>\n",
       "    </tr>\n",
       "    <tr>\n",
       "      <th>834828445238431744</th>\n",
       "      <td>411</td>\n",
       "      <td>411</td>\n",
       "      <td>Generic Drinks</td>\n",
       "    </tr>\n",
       "    <tr>\n",
       "      <th>781974596752842752</th>\n",
       "      <td>352</td>\n",
       "      <td>352</td>\n",
       "      <td>Services</td>\n",
       "    </tr>\n",
       "  </tbody>\n",
       "</table>\n",
       "</div>"
      ],
      "text/plain": [
       "                     domain  tweet                query\n",
       "entity                                                 \n",
       "781974596148793345     4427   4427   Business & finance\n",
       "1220701888179359745    3985   3985             COVID-19\n",
       "1066114840832356353    3074   3074        The Telegraph\n",
       "1113138554496942080    3071   3071  The Daily Telegraph\n",
       "1113097508572426242    2983   2983         Daily Mirror\n",
       "1066122339568386048    2819   2819         The Guardian\n",
       "857212166100754432     1964   1964        Boris Johnson\n",
       "825047692124442624     1661   1661                 Food\n",
       "864931126132985856     1198   1198       Vladimir Putin\n",
       "826817907946450944      714    714           Food Blogs\n",
       "781974597310615553      677    677        Entertainment\n",
       "10040395078             580    580            Joe Biden\n",
       "781974597105094656      548    548    TV/Movies Related\n",
       "834828264786898945      529    529               Drinks\n",
       "781974596157181956      516    516          Online Site\n",
       "1250078501849280512     474    474            Christmas\n",
       "1065659570578612224     427    427                  BBC\n",
       "831530561680191490      415    415              Cooking\n",
       "834828445238431744      411    411       Generic Drinks\n",
       "781974596752842752      352    352             Services"
      ]
     },
     "execution_count": 19,
     "metadata": {},
     "output_type": "execute_result"
    }
   ],
   "source": [
    "esize.sort_values('tweet', ascending=False).head(20)"
   ]
  },
  {
   "cell_type": "code",
   "execution_count": 20,
   "id": "32a2f119",
   "metadata": {},
   "outputs": [
    {
     "data": {
      "text/html": [
       "<div>\n",
       "<style scoped>\n",
       "    .dataframe tbody tr th:only-of-type {\n",
       "        vertical-align: middle;\n",
       "    }\n",
       "\n",
       "    .dataframe tbody tr th {\n",
       "        vertical-align: top;\n",
       "    }\n",
       "\n",
       "    .dataframe thead th {\n",
       "        text-align: right;\n",
       "    }\n",
       "</style>\n",
       "<table border=\"1\" class=\"dataframe\">\n",
       "  <thead>\n",
       "    <tr style=\"text-align: right;\">\n",
       "      <th></th>\n",
       "      <th>tweet</th>\n",
       "      <th>query</th>\n",
       "    </tr>\n",
       "    <tr>\n",
       "      <th>domain</th>\n",
       "      <th></th>\n",
       "      <th></th>\n",
       "    </tr>\n",
       "  </thead>\n",
       "  <tbody>\n",
       "    <tr>\n",
       "      <th>47</th>\n",
       "      <td>10721</td>\n",
       "      <td>Brand</td>\n",
       "    </tr>\n",
       "    <tr>\n",
       "      <th>10</th>\n",
       "      <td>6368</td>\n",
       "      <td>Person</td>\n",
       "    </tr>\n",
       "    <tr>\n",
       "      <th>65</th>\n",
       "      <td>5525</td>\n",
       "      <td>Interests and Hobbies Vertical</td>\n",
       "    </tr>\n",
       "    <tr>\n",
       "      <th>123</th>\n",
       "      <td>3980</td>\n",
       "      <td>Ongoing News Story</td>\n",
       "    </tr>\n",
       "    <tr>\n",
       "      <th>45</th>\n",
       "      <td>3331</td>\n",
       "      <td>Brand Vertical</td>\n",
       "    </tr>\n",
       "    <tr>\n",
       "      <th>35</th>\n",
       "      <td>2961</td>\n",
       "      <td>Politician</td>\n",
       "    </tr>\n",
       "    <tr>\n",
       "      <th>66</th>\n",
       "      <td>2681</td>\n",
       "      <td>Interests and Hobbies Category</td>\n",
       "    </tr>\n",
       "    <tr>\n",
       "      <th>67</th>\n",
       "      <td>2573</td>\n",
       "      <td>Interests and Hobbies</td>\n",
       "    </tr>\n",
       "    <tr>\n",
       "      <th>3</th>\n",
       "      <td>2042</td>\n",
       "      <td>TV Shows</td>\n",
       "    </tr>\n",
       "    <tr>\n",
       "      <th>46</th>\n",
       "      <td>1988</td>\n",
       "      <td>Brand Category</td>\n",
       "    </tr>\n",
       "    <tr>\n",
       "      <th>30</th>\n",
       "      <td>1015</td>\n",
       "      <td>Entities [Entity Service]</td>\n",
       "    </tr>\n",
       "    <tr>\n",
       "      <th>119</th>\n",
       "      <td>827</td>\n",
       "      <td>Holiday</td>\n",
       "    </tr>\n",
       "    <tr>\n",
       "      <th>11</th>\n",
       "      <td>655</td>\n",
       "      <td>Sport</td>\n",
       "    </tr>\n",
       "    <tr>\n",
       "      <th>60</th>\n",
       "      <td>648</td>\n",
       "      <td>Athlete</td>\n",
       "    </tr>\n",
       "    <tr>\n",
       "      <th>56</th>\n",
       "      <td>615</td>\n",
       "      <td>Actor</td>\n",
       "    </tr>\n",
       "    <tr>\n",
       "      <th>88</th>\n",
       "      <td>573</td>\n",
       "      <td>Political Body</td>\n",
       "    </tr>\n",
       "    <tr>\n",
       "      <th>26</th>\n",
       "      <td>566</td>\n",
       "      <td>Sports League</td>\n",
       "    </tr>\n",
       "    <tr>\n",
       "      <th>58</th>\n",
       "      <td>493</td>\n",
       "      <td>Entertainment Personality</td>\n",
       "    </tr>\n",
       "    <tr>\n",
       "      <th>6</th>\n",
       "      <td>473</td>\n",
       "      <td>Sports Event</td>\n",
       "    </tr>\n",
       "    <tr>\n",
       "      <th>12</th>\n",
       "      <td>460</td>\n",
       "      <td>Sports Team</td>\n",
       "    </tr>\n",
       "  </tbody>\n",
       "</table>\n",
       "</div>"
      ],
      "text/plain": [
       "        tweet                           query\n",
       "domain                                       \n",
       "47      10721                           Brand\n",
       "10       6368                          Person\n",
       "65       5525  Interests and Hobbies Vertical\n",
       "123      3980              Ongoing News Story\n",
       "45       3331                  Brand Vertical\n",
       "35       2961                      Politician\n",
       "66       2681  Interests and Hobbies Category\n",
       "67       2573           Interests and Hobbies\n",
       "3        2042                        TV Shows\n",
       "46       1988                  Brand Category\n",
       "30       1015       Entities [Entity Service]\n",
       "119       827                         Holiday\n",
       "11        655                           Sport\n",
       "60        648                         Athlete\n",
       "56        615                           Actor\n",
       "88        573                  Political Body\n",
       "26        566                   Sports League\n",
       "58        493       Entertainment Personality\n",
       "6         473                    Sports Event\n",
       "12        460                     Sports Team"
      ]
     },
     "execution_count": 20,
     "metadata": {},
     "output_type": "execute_result"
    }
   ],
   "source": [
    "dsize.sort_values('tweet', ascending=False).head(20)"
   ]
  },
  {
   "cell_type": "markdown",
   "id": "236b97fd",
   "metadata": {},
   "source": [
    "### Example"
   ]
  },
  {
   "cell_type": "code",
   "execution_count": 21,
   "id": "a7ba49d4",
   "metadata": {},
   "outputs": [],
   "source": [
    "query_answers = get_entity_results('COVID-19')\n",
    "y_true = [1 if x in query_answers else 0 for x, _ in search_base]"
   ]
  },
  {
   "cell_type": "code",
   "execution_count": 22,
   "id": "38dfa031",
   "metadata": {},
   "outputs": [
    {
     "name": "stdout",
     "output_type": "stream",
     "text": [
      "('1472691996284313612', 'SAGE calls for closure of non-essential shops in bid to prevent 6,000 daily Omicron deaths https://t.co/6je9DpEc2b')\n",
      "('1468535870995243008', 'FT Exclusive: The UK government is set to implement the so-called Plan B of further restrictions, including requiring vaccine passports for large venues and an order to work from home https://t.co/UjUYAQljmk https://t.co/QnRfvQlWjh')\n",
      "('1481903933043970048', \"RICHARD LITTLEJOHN: Boris's booze-up proves that he knew lockdown was bonkers https://t.co/ur5jMVbY2U\")\n",
      "('1471805733138280460', 'RT @TelGlobalHealth: 💉 Pharmaceutical leaders admit \"we dismally failed\" at global Covid #vaccine rollout.\\n\\n🌍 Thomas Cueni, head of a major…')\n",
      "('1470951747405455362', 'Long lines continue at UK vaccination centres as people rush for their booster jab https://t.co/THAI9oSirG')\n"
     ]
    }
   ],
   "source": [
    "index_true = [i for i, x in enumerate(y_true) if x == 1]\n",
    "for i in index_true[:5]:\n",
    "    print(search_base[i])"
   ]
  },
  {
   "cell_type": "code",
   "execution_count": 23,
   "id": "f1783632",
   "metadata": {},
   "outputs": [
    {
     "data": {
      "text/plain": [
       "3980"
      ]
     },
     "execution_count": 23,
     "metadata": {},
     "output_type": "execute_result"
    }
   ],
   "source": [
    "len(index_true)"
   ]
  },
  {
   "cell_type": "markdown",
   "id": "ded2cd30",
   "metadata": {},
   "source": [
    "## The naive information system\n",
    "- Create the index as BOW and Inverted index\n",
    "- Compute pseudo cosine similarity\n",
    "- Transform the query\n",
    "- Perform evaluation"
   ]
  },
  {
   "cell_type": "code",
   "execution_count": 24,
   "id": "1730eab1",
   "metadata": {},
   "outputs": [],
   "source": [
    "from nltk.tokenize import TweetTokenizer\n",
    "from collections import defaultdict, Counter"
   ]
  },
  {
   "cell_type": "code",
   "execution_count": 25,
   "id": "b8f03a73",
   "metadata": {},
   "outputs": [],
   "source": [
    "from nltk.corpus import stopwords\n",
    "from string import punctuation"
   ]
  },
  {
   "cell_type": "code",
   "execution_count": 26,
   "id": "227ace53",
   "metadata": {},
   "outputs": [],
   "source": [
    "stopw = set(stopwords.words('english'))\n",
    "tokenizer = TweetTokenizer()\n",
    "tokenize = lambda text: [word for word in tokenizer.tokenize(text.lower()) \n",
    "                         if word not in punctuation and word not in stopw and not word.startswith('http')] "
   ]
  },
  {
   "cell_type": "code",
   "execution_count": 27,
   "id": "63fc6e35",
   "metadata": {
    "scrolled": true
   },
   "outputs": [],
   "source": [
    "BOW = defaultdict(lambda: defaultdict(lambda: 0))\n",
    "I = defaultdict(set)"
   ]
  },
  {
   "cell_type": "code",
   "execution_count": 28,
   "id": "f087067a",
   "metadata": {},
   "outputs": [],
   "source": [
    "for i, text in search_base:\n",
    "    for token in tokenize(text):\n",
    "        BOW[i][token] += 1\n",
    "        I[token].add(i)"
   ]
  },
  {
   "cell_type": "markdown",
   "id": "3e00b4f0",
   "metadata": {},
   "source": [
    "### TFIDF from scratch"
   ]
  },
  {
   "cell_type": "code",
   "execution_count": 29,
   "id": "1e816dc6",
   "metadata": {},
   "outputs": [],
   "source": [
    "N = len(search_base)\n",
    "IDF = dict([(word, np.log(N / len(posting))) for word, posting in I.items()])\n",
    "TFIDF = {}\n",
    "for document, bow in BOW.items():\n",
    "    size = sum(bow.values())\n",
    "    tfidf_bow = dict([(word, (tf / size) * IDF[word]) for word, tf in bow.items()])\n",
    "    TFIDF[document] = tfidf_bow"
   ]
  },
  {
   "cell_type": "code",
   "execution_count": 30,
   "id": "c8fb20c2",
   "metadata": {},
   "outputs": [
    {
     "data": {
      "text/plain": [
       "('1475082387096838148',\n",
       " {'rt': 0.12096202398349429,\n",
       "  '@mirrorsport': 0.3834161199161903,\n",
       "  'lewis': 0.3115342781615659,\n",
       "  'hamilton': 0.32845675301167065,\n",
       "  'vs': 0.4100034801363701,\n",
       "  'max': 0.3502434464408997,\n",
       "  'verstappen': 0.37358940905365107,\n",
       "  'toto': 0.4598445307473821,\n",
       "  'wolff': 0.46677294460952223,\n",
       "  'christian': 0.38166006326032664,\n",
       "  'horner': 0.46677294460952223,\n",
       "  'war': 0.26176830545406005,\n",
       "  'f1': 0.3664936450660855,\n",
       "  'greatest': 0.40726700862843523,\n",
       "  'season': 0.32572028150373583,\n",
       "  'ht': 0.3834161199161903,\n",
       "  '…': 0.17086483158643787})"
      ]
     },
     "execution_count": 30,
     "metadata": {},
     "output_type": "execute_result"
    }
   ],
   "source": [
    "list(TFIDF.items())[0]"
   ]
  },
  {
   "cell_type": "markdown",
   "id": "20315014",
   "metadata": {},
   "source": [
    "### Search"
   ]
  },
  {
   "cell_type": "code",
   "execution_count": 31,
   "id": "8e0a4895",
   "metadata": {},
   "outputs": [],
   "source": [
    "def query(query_text):\n",
    "    counts = Counter(tokenize(query_text)).most_common()\n",
    "    qtfidf = [(w, tf * IDF[w]) for w, tf in counts if w in IDF.keys()]\n",
    "    return qtfidf"
   ]
  },
  {
   "cell_type": "code",
   "execution_count": 32,
   "id": "48dd3d7c",
   "metadata": {},
   "outputs": [
    {
     "data": {
      "text/plain": [
       "[('covid', 2.4186916823231766), ('19', 4.65328943433229)]"
      ]
     },
     "execution_count": 32,
     "metadata": {},
     "output_type": "execute_result"
    }
   ],
   "source": [
    "query('COVID-19')"
   ]
  },
  {
   "cell_type": "markdown",
   "id": "10df226e",
   "metadata": {},
   "source": [
    "### Pseudo cosine similarity\n",
    "$$\n",
    "\\cos(\\theta) = \\frac{{\\textbf x} \\cdot {\\textbf y}}{{\\mid\\mid {\\textbf x} \\mid\\mid \\mid\\mid {\\textbf y} \\mid\\mid}} = \n",
    "\\frac{\\sum\\limits_{i=1}^{N} a_i b_i}{\\sqrt{\\sum\\limits_{i=1}^{N} a_{i}^{2}} \\sqrt{\\sum\\limits_{i=1}^{N} b_{i}^{2}}}\n",
    "$$"
   ]
  },
  {
   "cell_type": "code",
   "execution_count": 33,
   "id": "a1e7f4e0",
   "metadata": {},
   "outputs": [],
   "source": [
    "def cos(bow1, bow2):\n",
    "    sq1 = np.sqrt(sum([np.power(x, 2) for x in bow1.values()]))\n",
    "    sq2 = np.sqrt(sum([np.power(x, 2) for x in bow2.values()]))\n",
    "    k = 0\n",
    "    for word, score in bow1.items():\n",
    "        try:\n",
    "            k += score * bow2[word]\n",
    "        except KeyError:\n",
    "            pass\n",
    "    score = k / (sq1 * sq2)\n",
    "    if pd.isna(score):\n",
    "        score = 0\n",
    "    return score"
   ]
  },
  {
   "cell_type": "code",
   "execution_count": 34,
   "id": "e19d6dbb",
   "metadata": {},
   "outputs": [
    {
     "data": {
      "text/plain": [
       "['1475082387096838148',\n",
       " '1472691996284313612',\n",
       " '1470376087989460998',\n",
       " '1471052743313870858']"
      ]
     },
     "execution_count": 34,
     "metadata": {},
     "output_type": "execute_result"
    }
   ],
   "source": [
    "list(TFIDF.keys())[:4]"
   ]
  },
  {
   "cell_type": "code",
   "execution_count": 35,
   "id": "4bc4f5f7",
   "metadata": {},
   "outputs": [
    {
     "name": "stdout",
     "output_type": "stream",
     "text": [
      "{'prime': 0.481057491296492, 'minister': 0.4348154911929283, 'criticises': 0.8068671450986402, 'facebook': 0.5632554965367834, 'social': 0.5235458106930185, 'media': 0.548198210688846, 'companies': 0.5429614121371144, 'migrant': 0.637699544031533, 'trafficking': 0.6718744734037386, 'adverts': 0.8915969311373605}\n",
      "{'🥂': 0.2711336673421811, 'winston': 0.28761191327011626, 'churchill': 0.26525232680044064, 'hailed': 0.22641449440282982, 'pint': 0.24877408087250544, 'bottle': 0.2280691168024282, 'champagne': 0.21921631532817787, '“': 0.22012862631305666, 'ideal': 0.26525232680044064, 'size': 0.23792013775569212, '”': 0.2240070735183813, 'declaring': 0.27833184641683306, 'enough': 0.1751488426248756, 'two': 0.13143259184907366, 'lunch': 0.1962179344295932, 'one': 0.11762562624810395, 'dinner': 0.17231460534128415, 'sale': 0.1855452168709806, 'wartime': 0.32305101935618435, 'prime': 0.15517983590209417, 'minister': 0.14026306167513813, '’': 0.05764319006894471, 'favoured': 0.28761191327011626, 'quantity': 0.3006914328865087, 'fizz': 0.3006914328865087, 'set': 0.14026306167513813, 'become': 0.15913474951797585, 'legal': 0.1771868717094411, 'britain': 0.13916574279519447}\n"
     ]
    }
   ],
   "source": [
    "print(TFIDF['1466323790753845253'])\n",
    "print(TFIDF['1474394435656065042'])"
   ]
  },
  {
   "cell_type": "code",
   "execution_count": 36,
   "id": "75cebb36",
   "metadata": {},
   "outputs": [
    {
     "data": {
      "text/plain": [
       "0.057594817449885274"
      ]
     },
     "execution_count": 36,
     "metadata": {},
     "output_type": "execute_result"
    }
   ],
   "source": [
    "cos(TFIDF['1466323790753845253'], TFIDF['1474394435656065042'])"
   ]
  },
  {
   "cell_type": "markdown",
   "id": "cfd72789",
   "metadata": {},
   "source": [
    "### Search"
   ]
  },
  {
   "cell_type": "code",
   "execution_count": 37,
   "id": "facdebf9",
   "metadata": {},
   "outputs": [],
   "source": [
    "def search(query_text):\n",
    "    q = dict(query(query_text))\n",
    "    outcomes = []\n",
    "    for doc_id, text in search_base:\n",
    "        outcomes.append((doc_id, cos(q, BOW[doc_id])))\n",
    "    return outcomes"
   ]
  },
  {
   "cell_type": "code",
   "execution_count": 38,
   "id": "d472a09f",
   "metadata": {},
   "outputs": [
    {
     "name": "stderr",
     "output_type": "stream",
     "text": [
      "/var/folders/cn/1cnswmps6xsbv3x70vr8z3v80000gn/T/ipykernel_3143/67236475.py:10: RuntimeWarning: invalid value encountered in double_scalars\n",
      "  score = k / (sq1 * sq2)\n"
     ]
    }
   ],
   "source": [
    "out = search('COVID-19')"
   ]
  },
  {
   "cell_type": "code",
   "execution_count": 39,
   "id": "5708865f",
   "metadata": {},
   "outputs": [
    {
     "data": {
      "text/plain": [
       "[('1475082387096838148', 0.0),\n",
       " ('1472691996284313612', 0.0),\n",
       " ('1470376087989460998', 0.0),\n",
       " ('1471052743313870858', 0.0)]"
      ]
     },
     "execution_count": 39,
     "metadata": {},
     "output_type": "execute_result"
    }
   ],
   "source": [
    "out[:4]"
   ]
  },
  {
   "cell_type": "markdown",
   "id": "7a8f29a7",
   "metadata": {},
   "source": [
    "### Output selection or ranking?"
   ]
  },
  {
   "cell_type": "code",
   "execution_count": 95,
   "id": "d914710f",
   "metadata": {},
   "outputs": [],
   "source": [
    "ground_truth = get_entity_results('COVID-19')"
   ]
  },
  {
   "cell_type": "code",
   "execution_count": 142,
   "id": "61cea73e",
   "metadata": {},
   "outputs": [],
   "source": [
    "TP, FP, FN, TN, answers = 0, 0, 0, 0, []\n",
    "threshold = np.percentile(np.array([y for x, y in out]), 97)\n",
    "for doc_id, score in out:\n",
    "    if score >= threshold:\n",
    "        answers.append((doc_id, score))\n",
    "        if doc_id in ground_truth:\n",
    "            TP += 1\n",
    "        else:\n",
    "            FP += 1\n",
    "    else:\n",
    "        if doc_id in ground_truth:\n",
    "            FN += 1\n",
    "        else:\n",
    "            TN += 1"
   ]
  },
  {
   "cell_type": "code",
   "execution_count": 97,
   "id": "d86caca6",
   "metadata": {},
   "outputs": [
    {
     "name": "stdout",
     "output_type": "stream",
     "text": [
      "precision 1.0\n",
      "recall 0.0017587939698492463\n"
     ]
    }
   ],
   "source": [
    "print('precision', TP / (TP + FP))\n",
    "print('recall', TP / (TP + FN))"
   ]
  },
  {
   "cell_type": "code",
   "execution_count": 98,
   "id": "74e3c9bf",
   "metadata": {},
   "outputs": [
    {
     "name": "stdout",
     "output_type": "stream",
     "text": [
      "7 0 3973 18370\n"
     ]
    }
   ],
   "source": [
    "print(TP, FP, FN, TN)"
   ]
  },
  {
   "cell_type": "code",
   "execution_count": 44,
   "id": "e3d142bd",
   "metadata": {},
   "outputs": [
    {
     "name": "stdout",
     "output_type": "stream",
     "text": [
      "0.8578076062639821\n"
     ]
    }
   ],
   "source": [
    "print((TP + TN) / (TP + TN + FP + FN))"
   ]
  },
  {
   "cell_type": "code",
   "execution_count": 47,
   "id": "d99f7db3",
   "metadata": {},
   "outputs": [
    {
     "name": "stdout",
     "output_type": "stream",
     "text": [
      "1484131341226500099 0.29576543565613694\n",
      "#homesunderthehammer Martin Roberts breaks silence on future on show after 19 years\n",
      "https://t.co/m9EE8BYkTo\n"
     ]
    }
   ],
   "source": [
    "for i, (doc_id, score) in enumerate(answers):\n",
    "    if not doc_id in ground_truth:\n",
    "        print(doc_id, score)\n",
    "        print(corpus[doc_id])\n",
    "        break"
   ]
  },
  {
   "cell_type": "code",
   "execution_count": 48,
   "id": "e4c3678e",
   "metadata": {},
   "outputs": [
    {
     "name": "stdout",
     "output_type": "stream",
     "text": [
      "New place named UK's Covid capital as 170 areas see a rise - view the list\n",
      "https://t.co/6fFG0gETLH https://t.co/ID9UBT58bp\n",
      "Interview: Former Tory minister Lord Agnew tells @aliceTTimes why he resigned over the government’s failure to tackle Covid fraud https://t.co/R92z0OWG1k\n",
      "Brian May: Queen legend 'haunted and sickened' by sad video as he recovers from Covid https://t.co/PeyiNw7YlL\n",
      "SAGE calls for closure of non-essential shops in bid to prevent 6,000 daily Omicron deaths https://t.co/6je9DpEc2b\n",
      "Masks 'to stay until New Year' amid Omicron crisis as PM fights to 'save Xmas' https://t.co/CVdHn4UY6E\n"
     ]
    }
   ],
   "source": [
    "A = set([x for x, y in answers])\n",
    "c = 0\n",
    "for doc_id in ground_truth:\n",
    "    if not doc_id in A:\n",
    "        print(corpus[doc_id])\n",
    "        c += 1\n",
    "    if c > 4:\n",
    "        break"
   ]
  },
  {
   "cell_type": "markdown",
   "id": "2100bb29",
   "metadata": {},
   "source": [
    "### Sklearn metrics"
   ]
  },
  {
   "cell_type": "code",
   "execution_count": 59,
   "id": "5536163a",
   "metadata": {},
   "outputs": [],
   "source": [
    "import matplotlib.pyplot as plt"
   ]
  },
  {
   "cell_type": "code",
   "execution_count": 49,
   "id": "f74dc2f6",
   "metadata": {},
   "outputs": [],
   "source": [
    "from sklearn.metrics import classification_report, confusion_matrix, ConfusionMatrixDisplay"
   ]
  },
  {
   "cell_type": "code",
   "execution_count": 92,
   "id": "ed16fe82",
   "metadata": {},
   "outputs": [
    {
     "data": {
      "text/plain": [
       "[0, 1, 0, 0, 0]"
      ]
     },
     "execution_count": 92,
     "metadata": {},
     "output_type": "execute_result"
    }
   ],
   "source": [
    "y_true[:5]"
   ]
  },
  {
   "cell_type": "code",
   "execution_count": 57,
   "id": "d3e51e5b",
   "metadata": {},
   "outputs": [],
   "source": [
    "A = set([x for x, y in answers])\n",
    "y_pred = [1 if x in A else 0 for x, y in search_base]"
   ]
  },
  {
   "cell_type": "code",
   "execution_count": 93,
   "id": "16878abb",
   "metadata": {},
   "outputs": [
    {
     "data": {
      "text/plain": [
       "[0, 0, 0, 0, 0]"
      ]
     },
     "execution_count": 93,
     "metadata": {},
     "output_type": "execute_result"
    }
   ],
   "source": [
    "y_pred[:5]"
   ]
  },
  {
   "cell_type": "code",
   "execution_count": 58,
   "id": "12c410bc",
   "metadata": {},
   "outputs": [
    {
     "name": "stdout",
     "output_type": "stream",
     "text": [
      "              precision    recall  f1-score   support\n",
      "\n",
      "           0       0.85      1.00      0.92     18370\n",
      "           1       0.96      0.21      0.34      3980\n",
      "\n",
      "    accuracy                           0.86     22350\n",
      "   macro avg       0.91      0.60      0.63     22350\n",
      "weighted avg       0.87      0.86      0.82     22350\n",
      "\n"
     ]
    }
   ],
   "source": [
    "print(classification_report(y_true, y_pred))"
   ]
  },
  {
   "cell_type": "code",
   "execution_count": 94,
   "id": "e1191013",
   "metadata": {},
   "outputs": [
    {
     "data": {
      "image/png": "[encoded data removed]",
      "text/plain": [
       "<Figure size 576x576 with 2 Axes>"
      ]
     },
     "metadata": {
      "needs_background": "light"
     },
     "output_type": "display_data"
    }
   ],
   "source": [
    "fig, ax = plt.subplots(figsize=(8, 8))\n",
    "cm = confusion_matrix(y_true, y_pred, labels=[0, 1])\n",
    "disp = ConfusionMatrixDisplay(confusion_matrix=cm, display_labels=[0, 1])\n",
    "disp.plot(ax=ax, cmap='Blues')\n",
    "plt.tight_layout()\n",
    "plt.show()"
   ]
  },
  {
   "cell_type": "markdown",
   "id": "c93b760c",
   "metadata": {},
   "source": [
    "### Ranking scores"
   ]
  },
  {
   "cell_type": "code",
   "execution_count": 77,
   "id": "6670188f",
   "metadata": {},
   "outputs": [],
   "source": [
    "from sklearn.metrics import precision_recall_curve, PrecisionRecallDisplay"
   ]
  },
  {
   "cell_type": "code",
   "execution_count": 100,
   "id": "c99019a7",
   "metadata": {},
   "outputs": [],
   "source": [
    "ranking = sorted(out, key=lambda x: -x[1])"
   ]
  },
  {
   "cell_type": "code",
   "execution_count": 109,
   "id": "b75a3c00",
   "metadata": {},
   "outputs": [],
   "source": [
    "rank_score = 0\n",
    "for i, (doc, score) in enumerate(ranking):\n",
    "    if doc in ground_truth:\n",
    "        rank_score += 1 / np.log(i + 2)"
   ]
  },
  {
   "cell_type": "code",
   "execution_count": 110,
   "id": "ec0d7965",
   "metadata": {},
   "outputs": [
    {
     "data": {
      "text/plain": [
       "527.5194222330949"
      ]
     },
     "execution_count": 110,
     "metadata": {},
     "output_type": "execute_result"
    }
   ],
   "source": [
    "rank_score"
   ]
  },
  {
   "cell_type": "markdown",
   "id": "2f0873f6",
   "metadata": {},
   "source": [
    "### Ranking evaluation"
   ]
  },
  {
   "cell_type": "code",
   "execution_count": 113,
   "id": "38010d10",
   "metadata": {},
   "outputs": [],
   "source": [
    "TP, FP, FN, TN = 0, 0, len(ground_truth), len(ranking) - len(ground_truth)\n",
    "precision, recall = [], []\n",
    "for i, (doc, score) in enumerate(ranking):\n",
    "    if doc in ground_truth:\n",
    "        TP += 1\n",
    "        FN -= 1\n",
    "    else:\n",
    "        FP += 1\n",
    "        TN -= 1\n",
    "    precision.append(TP / (TP + FP))\n",
    "    recall.append(TP / (TP + FN))"
   ]
  },
  {
   "cell_type": "code",
   "execution_count": 115,
   "id": "31ed5837",
   "metadata": {},
   "outputs": [],
   "source": [
    "i_precision = [max(precision[i:]) for i in range(len(precision))]"
   ]
  },
  {
   "cell_type": "code",
   "execution_count": 120,
   "id": "c047a84c",
   "metadata": {},
   "outputs": [
    {
     "data": {
      "image/png": "[encoded data removed]",
      "text/plain": [
       "<Figure size 864x432 with 2 Axes>"
      ]
     },
     "metadata": {
      "needs_background": "light"
     },
     "output_type": "display_data"
    }
   ],
   "source": [
    "fig, ax = plt.subplots(figsize=(12, 6), ncols=2)\n",
    "ax[0].plot(recall, label='recall')\n",
    "ax[0].plot(i_precision, label='precision')\n",
    "ax[1].plot(recall, i_precision, label='pr curve')\n",
    "plt.legend()\n",
    "plt.tight_layout()\n",
    "plt.show()"
   ]
  },
  {
   "cell_type": "code",
   "execution_count": 121,
   "id": "3ba9fc64",
   "metadata": {},
   "outputs": [],
   "source": [
    "O = dict(out)\n",
    "y_scores = [O[x] for x, y in search_base]"
   ]
  },
  {
   "cell_type": "code",
   "execution_count": 122,
   "id": "f4a3eb0e",
   "metadata": {},
   "outputs": [],
   "source": [
    "precision, recall, thresholds = precision_recall_curve(y_true, y_scores)"
   ]
  },
  {
   "cell_type": "code",
   "execution_count": 123,
   "id": "b25a3fb7",
   "metadata": {},
   "outputs": [
    {
     "data": {
      "text/plain": [
       "(array([0.17807606, 0.98417409, 0.98416625]),\n",
       " array([1.        , 0.5       , 0.49974874]),\n",
       " array([0.        , 0.04916406, 0.07202731]))"
      ]
     },
     "execution_count": 123,
     "metadata": {},
     "output_type": "execute_result"
    }
   ],
   "source": [
    "precision[:3], recall[:3], thresholds[:3]"
   ]
  },
  {
   "cell_type": "code",
   "execution_count": 79,
   "id": "cf7a5bdd",
   "metadata": {},
   "outputs": [
    {
     "data": {
      "image/png": "[encoded data removed]",
      "text/plain": [
       "<Figure size 432x288 with 1 Axes>"
      ]
     },
     "metadata": {
      "needs_background": "light"
     },
     "output_type": "display_data"
    }
   ],
   "source": [
    "display = PrecisionRecallDisplay.from_predictions(y_true, y_scores)\n",
    "plt.show()"
   ]
  },
  {
   "cell_type": "code",
   "execution_count": 124,
   "id": "80be4976",
   "metadata": {},
   "outputs": [],
   "source": [
    "rec = list(sorted(recall, key=lambda x: x))\n",
    "prec = list(sorted(precision, key=lambda x: -x))\n",
    "iprec = [max(prec[i:]) for i in range(len(prec))]"
   ]
  },
  {
   "cell_type": "code",
   "execution_count": 125,
   "id": "7ee18a1d",
   "metadata": {},
   "outputs": [
    {
     "data": {
      "image/png": "[encoded data removed]",
      "text/plain": [
       "<Figure size 576x288 with 1 Axes>"
      ]
     },
     "metadata": {
      "needs_background": "light"
     },
     "output_type": "display_data"
    }
   ],
   "source": [
    "fig, ax = plt.subplots(figsize=(8, 4))\n",
    "ax.plot(rec, prec)\n",
    "ax.plot(rec, iprec)\n",
    "plt.tight_layout()\n",
    "plt.show()"
   ]
  },
  {
   "cell_type": "markdown",
   "id": "7b54ce92",
   "metadata": {},
   "source": [
    "## Query expansion"
   ]
  },
  {
   "cell_type": "code",
   "execution_count": 154,
   "id": "68f239b3",
   "metadata": {},
   "outputs": [],
   "source": [
    "def avg(bag_of_words):\n",
    "    vocabulary = set()\n",
    "    for bow in bag_of_words:\n",
    "        for word in bow.keys():\n",
    "            vocabulary.add(word)\n",
    "    new_bow = {}\n",
    "    for key in vocabulary:\n",
    "        values = [b[key] if key in b.keys() else 0 for b in bag_of_words]\n",
    "        new_bow[key] = np.array(values).mean()\n",
    "    return new_bow\n",
    "\n",
    "def rocchio(original_q, positive_f, negative_f, alpha=0.75, beta=0.20, gamma=0.05):\n",
    "    vocabulary = set()\n",
    "    for bow in [original_q, positive_f, negative_f]:\n",
    "        for word in bow.keys():\n",
    "            vocabulary.add(word)\n",
    "    new_bow = {}\n",
    "    for key in vocabulary:\n",
    "        try:\n",
    "            oq = original_q[key]\n",
    "        except KeyError:\n",
    "            oq = 0\n",
    "        try:\n",
    "            pq = positive_f[key]\n",
    "        except KeyError:\n",
    "            pq = 0\n",
    "        try:\n",
    "            nq = negative_f[key]\n",
    "        except KeyError:\n",
    "            nq = 0\n",
    "        new_bow[key] = alpha*oq + beta*pq - gamma*nq\n",
    "    return new_bow"
   ]
  },
  {
   "cell_type": "code",
   "execution_count": 155,
   "id": "da7e02b4",
   "metadata": {},
   "outputs": [],
   "source": [
    "positive_feedback = [BOW[x] for x in list(ground_truth)[:20]]"
   ]
  },
  {
   "cell_type": "code",
   "execution_count": 156,
   "id": "b70d1b09",
   "metadata": {},
   "outputs": [],
   "source": [
    "negative_feedback = []\n",
    "for doc, score in answers:\n",
    "    if doc not in ground_truth:\n",
    "        negative_feedback.append(BOW[doc])"
   ]
  },
  {
   "cell_type": "code",
   "execution_count": 157,
   "id": "51a20e9f",
   "metadata": {},
   "outputs": [],
   "source": [
    "pfbow = avg(positive_feedback)\n",
    "nfbow = avg(negative_feedback)"
   ]
  },
  {
   "cell_type": "code",
   "execution_count": 158,
   "id": "5081532e",
   "metadata": {},
   "outputs": [
    {
     "data": {
      "text/plain": [
       "[('covid', 2.4186916823231766), ('19', 4.65328943433229)]"
      ]
     },
     "execution_count": 158,
     "metadata": {},
     "output_type": "execute_result"
    }
   ],
   "source": [
    "query('COVID-19')"
   ]
  },
  {
   "cell_type": "code",
   "execution_count": 160,
   "id": "57e22597",
   "metadata": {},
   "outputs": [],
   "source": [
    "nquery = rocchio(dict(query('COVID-19')), pfbow, nfbow)"
   ]
  },
  {
   "cell_type": "code",
   "execution_count": 161,
   "id": "5ed03cc6",
   "metadata": {},
   "outputs": [],
   "source": [
    "def rocchio_search(q):\n",
    "    outcomes = []\n",
    "    for doc_id, text in search_base:\n",
    "        outcomes.append((doc_id, cos(q, BOW[doc_id])))\n",
    "    return outcomes"
   ]
  },
  {
   "cell_type": "code",
   "execution_count": 162,
   "id": "10002ea3",
   "metadata": {},
   "outputs": [
    {
     "name": "stderr",
     "output_type": "stream",
     "text": [
      "/var/folders/cn/1cnswmps6xsbv3x70vr8z3v80000gn/T/ipykernel_3143/67236475.py:10: RuntimeWarning: invalid value encountered in double_scalars\n",
      "  score = k / (sq1 * sq2)\n"
     ]
    }
   ],
   "source": [
    "rout = rocchio_search(nquery)"
   ]
  },
  {
   "cell_type": "code",
   "execution_count": 163,
   "id": "8b0e8f71",
   "metadata": {},
   "outputs": [
    {
     "data": {
      "text/plain": [
       "[('1475082387096838148', 0.0007500226945008818),\n",
       " ('1472691996284313612', 0.013770838947376806),\n",
       " ('1470376087989460998', 0.00975734397592184)]"
      ]
     },
     "execution_count": 163,
     "metadata": {},
     "output_type": "execute_result"
    }
   ],
   "source": [
    "rout[:3]"
   ]
  },
  {
   "cell_type": "code",
   "execution_count": 167,
   "id": "ddc5523f",
   "metadata": {},
   "outputs": [],
   "source": [
    "TP, FP, FN, TN, answers = 0, 0, 0, 0, []\n",
    "threshold = np.percentile(np.array([y for x, y in rout]), 95)\n",
    "for doc_id, score in rout:\n",
    "    if score >= threshold:\n",
    "        answers.append((doc_id, score))\n",
    "        if doc_id in ground_truth:\n",
    "            TP += 1\n",
    "        else:\n",
    "            FP += 1\n",
    "    else:\n",
    "        if doc_id in ground_truth:\n",
    "            FN += 1\n",
    "        else:\n",
    "            TN += 1"
   ]
  },
  {
   "cell_type": "code",
   "execution_count": 168,
   "id": "9add689f",
   "metadata": {},
   "outputs": [
    {
     "name": "stdout",
     "output_type": "stream",
     "text": [
      "precision 0.9714795008912656\n",
      "recall 0.27386934673366836\n"
     ]
    }
   ],
   "source": [
    "print('precision', TP / (TP + FP))\n",
    "print('recall', TP / (TP + FN))"
   ]
  },
  {
   "cell_type": "code",
   "execution_count": 166,
   "id": "052a35ce",
   "metadata": {},
   "outputs": [],
   "source": [
    "rranking = sorted(rout, key=lambda x: -x[1])"
   ]
  },
  {
   "cell_type": "code",
   "execution_count": 169,
   "id": "bf9924c9",
   "metadata": {},
   "outputs": [],
   "source": [
    "rO = dict(rout)\n",
    "y_rscores = [rO[x] for x, y in search_base]"
   ]
  },
  {
   "cell_type": "code",
   "execution_count": 170,
   "id": "1dd7c2bc",
   "metadata": {},
   "outputs": [],
   "source": [
    "precision, recall, thresholds = precision_recall_curve(y_true, y_rscores)"
   ]
  },
  {
   "cell_type": "code",
   "execution_count": 171,
   "id": "22d051e8",
   "metadata": {},
   "outputs": [],
   "source": [
    "rec = list(sorted(recall, key=lambda x: x))\n",
    "prec = list(sorted(precision, key=lambda x: -x))\n",
    "iprec = [max(prec[i:]) for i in range(len(prec))]"
   ]
  },
  {
   "cell_type": "code",
   "execution_count": 172,
   "id": "a183723b",
   "metadata": {},
   "outputs": [
    {
     "data": {
      "image/png": "[encoded data removed]",
      "text/plain": [
       "<Figure size 576x288 with 1 Axes>"
      ]
     },
     "metadata": {
      "needs_background": "light"
     },
     "output_type": "display_data"
    }
   ],
   "source": [
    "fig, ax = plt.subplots(figsize=(8, 4))\n",
    "ax.plot(rec, prec)\n",
    "ax.plot(rec, iprec)\n",
    "plt.tight_layout()\n",
    "plt.show()"
   ]
  },
  {
   "cell_type": "code",
   "execution_count": 173,
   "id": "73b741be",
   "metadata": {},
   "outputs": [],
   "source": [
    "A = set([x for x, y in answers])\n",
    "y_pred = [1 if x in A else 0 for x, y in search_base]"
   ]
  },
  {
   "cell_type": "code",
   "execution_count": 174,
   "id": "169b6023",
   "metadata": {},
   "outputs": [
    {
     "data": {
      "image/png": "[encoded data removed]",
      "text/plain": [
       "<Figure size 576x576 with 2 Axes>"
      ]
     },
     "metadata": {
      "needs_background": "light"
     },
     "output_type": "display_data"
    }
   ],
   "source": [
    "fig, ax = plt.subplots(figsize=(8, 8))\n",
    "cm = confusion_matrix(y_true, y_pred, labels=[0, 1])\n",
    "disp = ConfusionMatrixDisplay(confusion_matrix=cm, display_labels=[0, 1])\n",
    "disp.plot(ax=ax, cmap='Blues')\n",
    "plt.tight_layout()\n",
    "plt.show()"
   ]
  },
  {
   "cell_type": "code",
   "execution_count": null,
   "id": "d85845d1",
   "metadata": {},
   "outputs": [],
   "source": []
  }
 ],
 "metadata": {
  "kernelspec": {
   "display_name": "Python 3 (ipykernel)",
   "language": "python",
   "name": "python3"
  },
  "language_info": {
   "codemirror_mode": {
    "name": "ipython",
    "version": 3
   },
   "file_extension": ".py",
   "mimetype": "text/x-python",
   "name": "python",
   "nbconvert_exporter": "python",
   "pygments_lexer": "ipython3",
   "version": "3.8.8"
  },
  "toc": {
   "base_numbering": 1,
   "nav_menu": {},
   "number_sections": true,
   "sideBar": true,
   "skip_h1_title": false,
   "title_cell": "Table of Contents",
   "title_sidebar": "Contents",
   "toc_cell": false,
   "toc_position": {},
   "toc_section_display": true,
   "toc_window_display": false
  }
 },
 "nbformat": 4,
 "nbformat_minor": 5
}
