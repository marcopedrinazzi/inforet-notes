{
 "cells": [
  {
   "cell_type": "markdown",
   "id": "e53f0828",
   "metadata": {},
   "source": [
    "# Use tweets for evaluating the performances of an IR system"
   ]
  },
  {
   "cell_type": "code",
   "execution_count": 1,
   "id": "f3c078cc",
   "metadata": {},
   "outputs": [],
   "source": [
    "import pandas as pd\n",
    "import numpy as np\n",
    "from tqdm.notebook import tqdm"
   ]
  },
  {
   "cell_type": "code",
   "execution_count": 2,
   "id": "d0f2bb94",
   "metadata": {},
   "outputs": [],
   "source": [
    "import pymongo"
   ]
  },
  {
   "cell_type": "markdown",
   "id": "8a7e0d37",
   "metadata": {},
   "source": [
    "## Create dataset and ground truth"
   ]
  },
  {
   "cell_type": "code",
   "execution_count": 3,
   "id": "3e685959",
   "metadata": {},
   "outputs": [],
   "source": [
    "db = pymongo.MongoClient()['twitter']['tweets']"
   ]
  },
  {
   "cell_type": "code",
   "execution_count": 4,
   "id": "02d22059",
   "metadata": {},
   "outputs": [],
   "source": [
    "tweets = list(db.find())"
   ]
  },
  {
   "cell_type": "code",
   "execution_count": 5,
   "id": "422b2561",
   "metadata": {},
   "outputs": [],
   "source": [
    "corpus = dict([(tweet['id'], tweet['text']) for tweet in tweets])"
   ]
  },
  {
   "cell_type": "code",
   "execution_count": 7,
   "id": "42f9a8ea",
   "metadata": {},
   "outputs": [
    {
     "data": {
      "text/plain": [
       "[('1463847474049789952',\n",
       "  'In case you missed it: Daily Covid-19 caseloads per 100,000 citizens in the UK now rank behind more than 10 European countries, including Belgium and Greece https://t.co/phSyAbo6Ux https://t.co/Swy51Zuf0B'),\n",
       " ('1463839920204787716',\n",
       "  'English football is set for a radical makeover that would include powers to block change of ownership of clubs, a veto for supporters over key decisions and a redistributive levy on Premier League player transfers, under proposals by a review of the sport https://t.co/f2Xr75Jdhq'),\n",
       " ('1463836848917204998',\n",
       "  'Good Morning New York. Here are the Top Stories Today.\\nhttps://t.co/zHRPaGT1ib https://t.co/qvKD7BflG7')]"
      ]
     },
     "execution_count": 7,
     "metadata": {},
     "output_type": "execute_result"
    }
   ],
   "source": [
    "list(corpus.items())[:3]"
   ]
  },
  {
   "cell_type": "code",
   "execution_count": 8,
   "id": "6a51de53",
   "metadata": {},
   "outputs": [],
   "source": [
    "entities, domains = {}, {}\n",
    "metadata = []\n",
    "for i, tweet in enumerate(tweets):\n",
    "    if 'context_annotations' in tweet.keys():\n",
    "        for annotation in tweet['context_annotations']:\n",
    "            domain, entity = annotation['domain'], annotation['entity']\n",
    "            if domain['id'] not in domains:\n",
    "                domains[domain['id']] = domain\n",
    "            if entity['id'] not in entities:\n",
    "                entities[entity['id']] = entity\n",
    "            metadata.append({\n",
    "                'entity': entity['id'], 'domain': domain['id'], 'tweet': tweet['id']\n",
    "            })\n",
    "M = pd.DataFrame(metadata)"
   ]
  },
  {
   "cell_type": "code",
   "execution_count": 9,
   "id": "7bca4b5c",
   "metadata": {},
   "outputs": [],
   "source": [
    "E = pd.DataFrame(entities).T\n",
    "D = pd.DataFrame(domains).T"
   ]
  },
  {
   "cell_type": "code",
   "execution_count": 10,
   "id": "2fe5ca36",
   "metadata": {},
   "outputs": [
    {
     "data": {
      "text/html": [
       "<div>\n",
       "<style scoped>\n",
       "    .dataframe tbody tr th:only-of-type {\n",
       "        vertical-align: middle;\n",
       "    }\n",
       "\n",
       "    .dataframe tbody tr th {\n",
       "        vertical-align: top;\n",
       "    }\n",
       "\n",
       "    .dataframe thead th {\n",
       "        text-align: right;\n",
       "    }\n",
       "</style>\n",
       "<table border=\"1\" class=\"dataframe\">\n",
       "  <thead>\n",
       "    <tr style=\"text-align: right;\">\n",
       "      <th></th>\n",
       "      <th>id</th>\n",
       "      <th>name</th>\n",
       "      <th>description</th>\n",
       "    </tr>\n",
       "  </thead>\n",
       "  <tbody>\n",
       "    <tr>\n",
       "      <th>1220701888179359745</th>\n",
       "      <td>1220701888179359745</td>\n",
       "      <td>COVID-19</td>\n",
       "      <td>NaN</td>\n",
       "    </tr>\n",
       "    <tr>\n",
       "      <th>10000277815</th>\n",
       "      <td>10000277815</td>\n",
       "      <td>English Premier League Soccer</td>\n",
       "      <td>Action from English Premier League Soccer matc...</td>\n",
       "    </tr>\n",
       "  </tbody>\n",
       "</table>\n",
       "</div>"
      ],
      "text/plain": [
       "                                      id                           name  \\\n",
       "1220701888179359745  1220701888179359745                       COVID-19   \n",
       "10000277815                  10000277815  English Premier League Soccer   \n",
       "\n",
       "                                                           description  \n",
       "1220701888179359745                                                NaN  \n",
       "10000277815          Action from English Premier League Soccer matc...  "
      ]
     },
     "execution_count": 10,
     "metadata": {},
     "output_type": "execute_result"
    }
   ],
   "source": [
    "E.head(2)"
   ]
  },
  {
   "cell_type": "code",
   "execution_count": 11,
   "id": "907536f6",
   "metadata": {},
   "outputs": [
    {
     "data": {
      "text/html": [
       "<div>\n",
       "<style scoped>\n",
       "    .dataframe tbody tr th:only-of-type {\n",
       "        vertical-align: middle;\n",
       "    }\n",
       "\n",
       "    .dataframe tbody tr th {\n",
       "        vertical-align: top;\n",
       "    }\n",
       "\n",
       "    .dataframe thead th {\n",
       "        text-align: right;\n",
       "    }\n",
       "</style>\n",
       "<table border=\"1\" class=\"dataframe\">\n",
       "  <thead>\n",
       "    <tr style=\"text-align: right;\">\n",
       "      <th></th>\n",
       "      <th>id</th>\n",
       "      <th>name</th>\n",
       "      <th>description</th>\n",
       "    </tr>\n",
       "  </thead>\n",
       "  <tbody>\n",
       "    <tr>\n",
       "      <th>123</th>\n",
       "      <td>123</td>\n",
       "      <td>Ongoing News Story</td>\n",
       "      <td>Ongoing News Stories like 'Brexit'</td>\n",
       "    </tr>\n",
       "    <tr>\n",
       "      <th>3</th>\n",
       "      <td>3</td>\n",
       "      <td>TV Shows</td>\n",
       "      <td>Television shows from around the world</td>\n",
       "    </tr>\n",
       "  </tbody>\n",
       "</table>\n",
       "</div>"
      ],
      "text/plain": [
       "      id                name                             description\n",
       "123  123  Ongoing News Story      Ongoing News Stories like 'Brexit'\n",
       "3      3            TV Shows  Television shows from around the world"
      ]
     },
     "execution_count": 11,
     "metadata": {},
     "output_type": "execute_result"
    }
   ],
   "source": [
    "D.head(2)"
   ]
  },
  {
   "cell_type": "code",
   "execution_count": 12,
   "id": "2b5b336c",
   "metadata": {},
   "outputs": [
    {
     "data": {
      "text/html": [
       "<div>\n",
       "<style scoped>\n",
       "    .dataframe tbody tr th:only-of-type {\n",
       "        vertical-align: middle;\n",
       "    }\n",
       "\n",
       "    .dataframe tbody tr th {\n",
       "        vertical-align: top;\n",
       "    }\n",
       "\n",
       "    .dataframe thead th {\n",
       "        text-align: right;\n",
       "    }\n",
       "</style>\n",
       "<table border=\"1\" class=\"dataframe\">\n",
       "  <thead>\n",
       "    <tr style=\"text-align: right;\">\n",
       "      <th></th>\n",
       "      <th>entity</th>\n",
       "      <th>domain</th>\n",
       "      <th>tweet</th>\n",
       "    </tr>\n",
       "  </thead>\n",
       "  <tbody>\n",
       "    <tr>\n",
       "      <th>0</th>\n",
       "      <td>1220701888179359745</td>\n",
       "      <td>123</td>\n",
       "      <td>1463847474049789952</td>\n",
       "    </tr>\n",
       "    <tr>\n",
       "      <th>1</th>\n",
       "      <td>10000277815</td>\n",
       "      <td>3</td>\n",
       "      <td>1463839920204787716</td>\n",
       "    </tr>\n",
       "  </tbody>\n",
       "</table>\n",
       "</div>"
      ],
      "text/plain": [
       "                entity domain                tweet\n",
       "0  1220701888179359745    123  1463847474049789952\n",
       "1          10000277815      3  1463839920204787716"
      ]
     },
     "execution_count": 12,
     "metadata": {},
     "output_type": "execute_result"
    }
   ],
   "source": [
    "M.head(2)"
   ]
  },
  {
   "cell_type": "markdown",
   "id": "0e878b7e",
   "metadata": {},
   "source": [
    "## Expected results"
   ]
  },
  {
   "cell_type": "code",
   "execution_count": 13,
   "id": "614b0838",
   "metadata": {},
   "outputs": [],
   "source": [
    "entity_queries = list(set(E['name'].values))\n",
    "domain_queries = list(set(D['name'].values))\n",
    "indexed_tweets = set([int(x) for x in list(E.id.values) + list(D.id.values)])"
   ]
  },
  {
   "cell_type": "code",
   "execution_count": 14,
   "id": "41d0358f",
   "metadata": {},
   "outputs": [],
   "source": [
    "def get_entity_results(query):\n",
    "    etweets = set()\n",
    "    entity_ids = E[E['name']==query].id.values\n",
    "    for eid in entity_ids:\n",
    "        etweets = etweets.union(set(M[M.entity==eid].tweet.values))\n",
    "    return etweets\n",
    "\n",
    "def get_domain_results(query):\n",
    "    etweets = set()\n",
    "    domain_ids = D[D['name']==query].id.values\n",
    "    for eid in domain_ids:\n",
    "        etweets = etweets.union(set(M[M.domain==eid].tweet.values))\n",
    "    return etweets"
   ]
  },
  {
   "cell_type": "code",
   "execution_count": 15,
   "id": "f8c5d9fb",
   "metadata": {},
   "outputs": [
    {
     "data": {
      "text/plain": [
       "2042"
      ]
     },
     "execution_count": 15,
     "metadata": {},
     "output_type": "execute_result"
    }
   ],
   "source": [
    "len(get_domain_results('TV Shows'))"
   ]
  },
  {
   "cell_type": "code",
   "execution_count": 16,
   "id": "815e64bc",
   "metadata": {},
   "outputs": [
    {
     "data": {
      "text/plain": [
       "['1483393732279881729', '1465496068527960070', '1468504535249612800']"
      ]
     },
     "execution_count": 16,
     "metadata": {},
     "output_type": "execute_result"
    }
   ],
   "source": [
    "list(get_domain_results('TV Shows'))[:3]"
   ]
  },
  {
   "cell_type": "code",
   "execution_count": 17,
   "id": "db459007",
   "metadata": {},
   "outputs": [],
   "source": [
    "search_base = [(x, corpus[x]) for x in set(M.tweet.values)]"
   ]
  },
  {
   "cell_type": "code",
   "execution_count": 18,
   "id": "a5670eb4",
   "metadata": {},
   "outputs": [
    {
     "data": {
      "text/plain": [
       "22350"
      ]
     },
     "execution_count": 18,
     "metadata": {},
     "output_type": "execute_result"
    }
   ],
   "source": [
    "len(search_base)"
   ]
  },
  {
   "cell_type": "code",
   "execution_count": 19,
   "id": "c2fb8952",
   "metadata": {},
   "outputs": [],
   "source": [
    "esize = M.groupby('entity').count()\n",
    "esize['query'] = [E.loc[x]['name'] for x in esize.index.values]\n",
    "dsize = pd.DataFrame(M.groupby('domain').tweet.nunique(), columns=['tweet'])\n",
    "dsize['query'] = [D.loc[x]['name'] for x in dsize.index.values]"
   ]
  },
  {
   "cell_type": "code",
   "execution_count": 23,
   "id": "b954770a",
   "metadata": {},
   "outputs": [
    {
     "data": {
      "text/html": [
       "<div>\n",
       "<style scoped>\n",
       "    .dataframe tbody tr th:only-of-type {\n",
       "        vertical-align: middle;\n",
       "    }\n",
       "\n",
       "    .dataframe tbody tr th {\n",
       "        vertical-align: top;\n",
       "    }\n",
       "\n",
       "    .dataframe thead th {\n",
       "        text-align: right;\n",
       "    }\n",
       "</style>\n",
       "<table border=\"1\" class=\"dataframe\">\n",
       "  <thead>\n",
       "    <tr style=\"text-align: right;\">\n",
       "      <th></th>\n",
       "      <th>domain</th>\n",
       "      <th>tweet</th>\n",
       "      <th>query</th>\n",
       "    </tr>\n",
       "    <tr>\n",
       "      <th>entity</th>\n",
       "      <th></th>\n",
       "      <th></th>\n",
       "      <th></th>\n",
       "    </tr>\n",
       "  </thead>\n",
       "  <tbody>\n",
       "    <tr>\n",
       "      <th>781974596148793345</th>\n",
       "      <td>4427</td>\n",
       "      <td>4427</td>\n",
       "      <td>Business &amp; finance</td>\n",
       "    </tr>\n",
       "    <tr>\n",
       "      <th>1220701888179359745</th>\n",
       "      <td>3985</td>\n",
       "      <td>3985</td>\n",
       "      <td>COVID-19</td>\n",
       "    </tr>\n",
       "    <tr>\n",
       "      <th>1066114840832356353</th>\n",
       "      <td>3074</td>\n",
       "      <td>3074</td>\n",
       "      <td>The Telegraph</td>\n",
       "    </tr>\n",
       "    <tr>\n",
       "      <th>1113138554496942080</th>\n",
       "      <td>3071</td>\n",
       "      <td>3071</td>\n",
       "      <td>The Daily Telegraph</td>\n",
       "    </tr>\n",
       "    <tr>\n",
       "      <th>1113097508572426242</th>\n",
       "      <td>2983</td>\n",
       "      <td>2983</td>\n",
       "      <td>Daily Mirror</td>\n",
       "    </tr>\n",
       "    <tr>\n",
       "      <th>1066122339568386048</th>\n",
       "      <td>2819</td>\n",
       "      <td>2819</td>\n",
       "      <td>The Guardian</td>\n",
       "    </tr>\n",
       "    <tr>\n",
       "      <th>857212166100754432</th>\n",
       "      <td>1964</td>\n",
       "      <td>1964</td>\n",
       "      <td>Boris Johnson</td>\n",
       "    </tr>\n",
       "    <tr>\n",
       "      <th>825047692124442624</th>\n",
       "      <td>1661</td>\n",
       "      <td>1661</td>\n",
       "      <td>Food</td>\n",
       "    </tr>\n",
       "    <tr>\n",
       "      <th>864931126132985856</th>\n",
       "      <td>1198</td>\n",
       "      <td>1198</td>\n",
       "      <td>Vladimir Putin</td>\n",
       "    </tr>\n",
       "    <tr>\n",
       "      <th>826817907946450944</th>\n",
       "      <td>714</td>\n",
       "      <td>714</td>\n",
       "      <td>Food Blogs</td>\n",
       "    </tr>\n",
       "    <tr>\n",
       "      <th>781974597310615553</th>\n",
       "      <td>677</td>\n",
       "      <td>677</td>\n",
       "      <td>Entertainment</td>\n",
       "    </tr>\n",
       "    <tr>\n",
       "      <th>10040395078</th>\n",
       "      <td>580</td>\n",
       "      <td>580</td>\n",
       "      <td>Joe Biden</td>\n",
       "    </tr>\n",
       "    <tr>\n",
       "      <th>781974597105094656</th>\n",
       "      <td>548</td>\n",
       "      <td>548</td>\n",
       "      <td>TV/Movies Related</td>\n",
       "    </tr>\n",
       "    <tr>\n",
       "      <th>834828264786898945</th>\n",
       "      <td>529</td>\n",
       "      <td>529</td>\n",
       "      <td>Drinks</td>\n",
       "    </tr>\n",
       "    <tr>\n",
       "      <th>781974596157181956</th>\n",
       "      <td>516</td>\n",
       "      <td>516</td>\n",
       "      <td>Online Site</td>\n",
       "    </tr>\n",
       "    <tr>\n",
       "      <th>1250078501849280512</th>\n",
       "      <td>474</td>\n",
       "      <td>474</td>\n",
       "      <td>Christmas</td>\n",
       "    </tr>\n",
       "    <tr>\n",
       "      <th>1065659570578612224</th>\n",
       "      <td>427</td>\n",
       "      <td>427</td>\n",
       "      <td>BBC</td>\n",
       "    </tr>\n",
       "    <tr>\n",
       "      <th>831530561680191490</th>\n",
       "      <td>415</td>\n",
       "      <td>415</td>\n",
       "      <td>Cooking</td>\n",
       "    </tr>\n",
       "    <tr>\n",
       "      <th>834828445238431744</th>\n",
       "      <td>411</td>\n",
       "      <td>411</td>\n",
       "      <td>Generic Drinks</td>\n",
       "    </tr>\n",
       "    <tr>\n",
       "      <th>781974596752842752</th>\n",
       "      <td>352</td>\n",
       "      <td>352</td>\n",
       "      <td>Services</td>\n",
       "    </tr>\n",
       "  </tbody>\n",
       "</table>\n",
       "</div>"
      ],
      "text/plain": [
       "                     domain  tweet                query\n",
       "entity                                                 \n",
       "781974596148793345     4427   4427   Business & finance\n",
       "1220701888179359745    3985   3985             COVID-19\n",
       "1066114840832356353    3074   3074        The Telegraph\n",
       "1113138554496942080    3071   3071  The Daily Telegraph\n",
       "1113097508572426242    2983   2983         Daily Mirror\n",
       "1066122339568386048    2819   2819         The Guardian\n",
       "857212166100754432     1964   1964        Boris Johnson\n",
       "825047692124442624     1661   1661                 Food\n",
       "864931126132985856     1198   1198       Vladimir Putin\n",
       "826817907946450944      714    714           Food Blogs\n",
       "781974597310615553      677    677        Entertainment\n",
       "10040395078             580    580            Joe Biden\n",
       "781974597105094656      548    548    TV/Movies Related\n",
       "834828264786898945      529    529               Drinks\n",
       "781974596157181956      516    516          Online Site\n",
       "1250078501849280512     474    474            Christmas\n",
       "1065659570578612224     427    427                  BBC\n",
       "831530561680191490      415    415              Cooking\n",
       "834828445238431744      411    411       Generic Drinks\n",
       "781974596752842752      352    352             Services"
      ]
     },
     "execution_count": 23,
     "metadata": {},
     "output_type": "execute_result"
    }
   ],
   "source": [
    "esize.sort_values('tweet', ascending=False).head(20)"
   ]
  },
  {
   "cell_type": "code",
   "execution_count": 24,
   "id": "32a2f119",
   "metadata": {},
   "outputs": [
    {
     "data": {
      "text/html": [
       "<div>\n",
       "<style scoped>\n",
       "    .dataframe tbody tr th:only-of-type {\n",
       "        vertical-align: middle;\n",
       "    }\n",
       "\n",
       "    .dataframe tbody tr th {\n",
       "        vertical-align: top;\n",
       "    }\n",
       "\n",
       "    .dataframe thead th {\n",
       "        text-align: right;\n",
       "    }\n",
       "</style>\n",
       "<table border=\"1\" class=\"dataframe\">\n",
       "  <thead>\n",
       "    <tr style=\"text-align: right;\">\n",
       "      <th></th>\n",
       "      <th>tweet</th>\n",
       "      <th>query</th>\n",
       "    </tr>\n",
       "    <tr>\n",
       "      <th>domain</th>\n",
       "      <th></th>\n",
       "      <th></th>\n",
       "    </tr>\n",
       "  </thead>\n",
       "  <tbody>\n",
       "    <tr>\n",
       "      <th>47</th>\n",
       "      <td>10721</td>\n",
       "      <td>Brand</td>\n",
       "    </tr>\n",
       "    <tr>\n",
       "      <th>10</th>\n",
       "      <td>6368</td>\n",
       "      <td>Person</td>\n",
       "    </tr>\n",
       "    <tr>\n",
       "      <th>65</th>\n",
       "      <td>5525</td>\n",
       "      <td>Interests and Hobbies Vertical</td>\n",
       "    </tr>\n",
       "    <tr>\n",
       "      <th>123</th>\n",
       "      <td>3980</td>\n",
       "      <td>Ongoing News Story</td>\n",
       "    </tr>\n",
       "    <tr>\n",
       "      <th>45</th>\n",
       "      <td>3331</td>\n",
       "      <td>Brand Vertical</td>\n",
       "    </tr>\n",
       "    <tr>\n",
       "      <th>35</th>\n",
       "      <td>2961</td>\n",
       "      <td>Politician</td>\n",
       "    </tr>\n",
       "    <tr>\n",
       "      <th>66</th>\n",
       "      <td>2681</td>\n",
       "      <td>Interests and Hobbies Category</td>\n",
       "    </tr>\n",
       "    <tr>\n",
       "      <th>67</th>\n",
       "      <td>2573</td>\n",
       "      <td>Interests and Hobbies</td>\n",
       "    </tr>\n",
       "    <tr>\n",
       "      <th>3</th>\n",
       "      <td>2042</td>\n",
       "      <td>TV Shows</td>\n",
       "    </tr>\n",
       "    <tr>\n",
       "      <th>46</th>\n",
       "      <td>1988</td>\n",
       "      <td>Brand Category</td>\n",
       "    </tr>\n",
       "    <tr>\n",
       "      <th>30</th>\n",
       "      <td>1015</td>\n",
       "      <td>Entities [Entity Service]</td>\n",
       "    </tr>\n",
       "    <tr>\n",
       "      <th>119</th>\n",
       "      <td>827</td>\n",
       "      <td>Holiday</td>\n",
       "    </tr>\n",
       "    <tr>\n",
       "      <th>11</th>\n",
       "      <td>655</td>\n",
       "      <td>Sport</td>\n",
       "    </tr>\n",
       "    <tr>\n",
       "      <th>60</th>\n",
       "      <td>648</td>\n",
       "      <td>Athlete</td>\n",
       "    </tr>\n",
       "    <tr>\n",
       "      <th>56</th>\n",
       "      <td>615</td>\n",
       "      <td>Actor</td>\n",
       "    </tr>\n",
       "    <tr>\n",
       "      <th>88</th>\n",
       "      <td>573</td>\n",
       "      <td>Political Body</td>\n",
       "    </tr>\n",
       "    <tr>\n",
       "      <th>26</th>\n",
       "      <td>566</td>\n",
       "      <td>Sports League</td>\n",
       "    </tr>\n",
       "    <tr>\n",
       "      <th>58</th>\n",
       "      <td>493</td>\n",
       "      <td>Entertainment Personality</td>\n",
       "    </tr>\n",
       "    <tr>\n",
       "      <th>6</th>\n",
       "      <td>473</td>\n",
       "      <td>Sports Event</td>\n",
       "    </tr>\n",
       "    <tr>\n",
       "      <th>12</th>\n",
       "      <td>460</td>\n",
       "      <td>Sports Team</td>\n",
       "    </tr>\n",
       "  </tbody>\n",
       "</table>\n",
       "</div>"
      ],
      "text/plain": [
       "        tweet                           query\n",
       "domain                                       \n",
       "47      10721                           Brand\n",
       "10       6368                          Person\n",
       "65       5525  Interests and Hobbies Vertical\n",
       "123      3980              Ongoing News Story\n",
       "45       3331                  Brand Vertical\n",
       "35       2961                      Politician\n",
       "66       2681  Interests and Hobbies Category\n",
       "67       2573           Interests and Hobbies\n",
       "3        2042                        TV Shows\n",
       "46       1988                  Brand Category\n",
       "30       1015       Entities [Entity Service]\n",
       "119       827                         Holiday\n",
       "11        655                           Sport\n",
       "60        648                         Athlete\n",
       "56        615                           Actor\n",
       "88        573                  Political Body\n",
       "26        566                   Sports League\n",
       "58        493       Entertainment Personality\n",
       "6         473                    Sports Event\n",
       "12        460                     Sports Team"
      ]
     },
     "execution_count": 24,
     "metadata": {},
     "output_type": "execute_result"
    }
   ],
   "source": [
    "dsize.sort_values('tweet', ascending=False).head(20)"
   ]
  },
  {
   "cell_type": "markdown",
   "id": "236b97fd",
   "metadata": {},
   "source": [
    "### Example"
   ]
  },
  {
   "cell_type": "code",
   "execution_count": 26,
   "id": "a7ba49d4",
   "metadata": {},
   "outputs": [],
   "source": [
    "query_answers = get_entity_results('COVID-19')\n",
    "y_true = [1 if x in query_answers else 0 for x, _ in search_base]"
   ]
  },
  {
   "cell_type": "code",
   "execution_count": 27,
   "id": "38dfa031",
   "metadata": {},
   "outputs": [
    {
     "name": "stdout",
     "output_type": "stream",
     "text": [
      "('1466659258687229957', 'Booster jabs “massively” strengthen the body’s defences against Covid https://t.co/ctWOFrLUdK')\n",
      "('1476481949606850560', 'Hospitals urged to discharge as many patients as possible to make space for Covid admissions https://t.co/vDoDOvpXJq https://t.co/cXAGSUnAYA')\n",
      "('1481762738548486147', \"Downing Street staff held a 'lockdown-breaking party' on the eve of Prince Philip's funeral https://t.co/btt23FHRfT\")\n",
      "('1476373047930146818', 'Up to three Covid jabs a year could be needed for protection, data suggests https://t.co/rl7XFIxUz1')\n",
      "('1471452866120335361', 'Club DJ, 47, had bizarre symptom before testing positive for Covid\\n\\nhttps://t.co/dVE4VECWRJ https://t.co/xd4fSO8Iqq')\n"
     ]
    }
   ],
   "source": [
    "index_true = [i for i, x in enumerate(y_true) if x == 1]\n",
    "for i in index_true[:5]:\n",
    "    print(search_base[i])"
   ]
  },
  {
   "cell_type": "code",
   "execution_count": null,
   "id": "f1783632",
   "metadata": {},
   "outputs": [],
   "source": [
    "len(index_true)"
   ]
  },
  {
   "cell_type": "markdown",
   "id": "ded2cd30",
   "metadata": {},
   "source": [
    "## The naive information system\n",
    "- Create the index as BOW and Inverted index\n",
    "- Compute pseudo cosine similarity\n",
    "- Transform the query\n",
    "- Perform evaluation"
   ]
  },
  {
   "cell_type": "code",
   "execution_count": 28,
   "id": "1730eab1",
   "metadata": {},
   "outputs": [],
   "source": [
    "from nltk.tokenize import TweetTokenizer\n",
    "from collections import defaultdict, Counter"
   ]
  },
  {
   "cell_type": "code",
   "execution_count": 29,
   "id": "b8f03a73",
   "metadata": {},
   "outputs": [],
   "source": [
    "from nltk.corpus import stopwords\n",
    "from string import punctuation"
   ]
  },
  {
   "cell_type": "code",
   "execution_count": 30,
   "id": "227ace53",
   "metadata": {},
   "outputs": [],
   "source": [
    "stopw = set(stopwords.words('english'))\n",
    "tokenizer = TweetTokenizer()\n",
    "tokenize = lambda text: [word for word in tokenizer.tokenize(text.lower()) \n",
    "                         if word not in punctuation and word not in stopw and not word.startswith('http')] "
   ]
  },
  {
   "cell_type": "code",
   "execution_count": 31,
   "id": "63fc6e35",
   "metadata": {
    "scrolled": true
   },
   "outputs": [],
   "source": [
    "BOW = defaultdict(lambda: defaultdict(lambda: 0))\n",
    "I = defaultdict(set)"
   ]
  },
  {
   "cell_type": "code",
   "execution_count": 32,
   "id": "f087067a",
   "metadata": {},
   "outputs": [],
   "source": [
    "for i, text in search_base:\n",
    "    for token in tokenize(text):\n",
    "        BOW[i][token] += 1\n",
    "        I[token].add(i)"
   ]
  },
  {
   "cell_type": "markdown",
   "id": "3e00b4f0",
   "metadata": {},
   "source": [
    "### TFIDF from scratch"
   ]
  },
  {
   "cell_type": "code",
   "execution_count": 34,
   "id": "1e816dc6",
   "metadata": {},
   "outputs": [],
   "source": [
    "N = len(search_base)\n",
    "IDF = dict([(word, np.log(N / len(posting))) for word, posting in I.items()])\n",
    "TFIDF = {}\n",
    "for document, bow in BOW.items():\n",
    "    size = sum(bow.values())\n",
    "    tfidf_bow = dict([(word, (tf / size) * IDF[word]) for word, tf in bow.items()])\n",
    "    TFIDF[document] = tfidf_bow"
   ]
  },
  {
   "cell_type": "code",
   "execution_count": 35,
   "id": "c8fb20c2",
   "metadata": {},
   "outputs": [
    {
     "data": {
      "text/plain": [
       "('1466659258687229957',\n",
       " {'booster': 0.4767557527881229,\n",
       "  'jabs': 0.5202397244669298,\n",
       "  '“': 0.3411993707852379,\n",
       "  'massively': 0.9321434419481771,\n",
       "  '”': 0.34721096395349105,\n",
       "  'strengthen': 0.822282213081366,\n",
       "  'body': 0.5780475095444456,\n",
       "  '’': 0.1786938892137286,\n",
       "  'defences': 0.7711996507047669,\n",
       "  'covid': 0.24186916823231766})"
      ]
     },
     "execution_count": 35,
     "metadata": {},
     "output_type": "execute_result"
    }
   ],
   "source": [
    "list(TFIDF.items())[0]"
   ]
  },
  {
   "cell_type": "markdown",
   "id": "20315014",
   "metadata": {},
   "source": [
    "### Search"
   ]
  },
  {
   "cell_type": "code",
   "execution_count": 36,
   "id": "8e0a4895",
   "metadata": {},
   "outputs": [],
   "source": [
    "def query(query_text):\n",
    "    counts = Counter(tokenize(query_text)).most_common()\n",
    "    qtfidf = [(w, tf * IDF[w]) for w, tf in counts if w in IDF.keys()]\n",
    "    return qtfidf"
   ]
  },
  {
   "cell_type": "code",
   "execution_count": 37,
   "id": "48dd3d7c",
   "metadata": {},
   "outputs": [
    {
     "data": {
      "text/plain": [
       "[('covid', 2.4186916823231766), ('19', 4.65328943433229)]"
      ]
     },
     "execution_count": 37,
     "metadata": {},
     "output_type": "execute_result"
    }
   ],
   "source": [
    "query('COVID-19')"
   ]
  },
  {
   "cell_type": "markdown",
   "id": "10df226e",
   "metadata": {},
   "source": [
    "### Pseudo cosine similarity\n",
    "$$\n",
    "\\cos(\\theta) = \\frac{{\\textbf x} \\cdot {\\textbf y}}{{\\mid\\mid {\\textbf x} \\mid\\mid \\mid\\mid {\\textbf y} \\mid\\mid}} = \n",
    "\\frac{\\sum\\limits_{i=1}^{N} a_i b_i}{\\sqrt{\\sum\\limits_{i=1}^{N} a_{i}^{2}} \\sqrt{\\sum\\limits_{i=1}^{N} b_{i}^{2}}}\n",
    "$$"
   ]
  },
  {
   "cell_type": "code",
   "execution_count": 57,
   "id": "a1e7f4e0",
   "metadata": {},
   "outputs": [],
   "source": [
    "def cos(bow1, bow2):\n",
    "    sq1 = np.sqrt(sum([np.power(x, 2) for x in bow1.values()]))\n",
    "    sq2 = np.sqrt(sum([np.power(x, 2) for x in bow2.values()]))\n",
    "    k = 0\n",
    "    for word, score in bow1.items():\n",
    "        try:\n",
    "            k += score * bow2[word]\n",
    "        except KeyError:\n",
    "            pass\n",
    "    score = k / (sq1 * sq2)\n",
    "    if pd.isna(score):\n",
    "        score = 0\n",
    "    return score"
   ]
  },
  {
   "cell_type": "code",
   "execution_count": 58,
   "id": "e19d6dbb",
   "metadata": {},
   "outputs": [
    {
     "data": {
      "text/plain": [
       "['1466659258687229957',\n",
       " '1476481949606850560',\n",
       " '1467801537023983618',\n",
       " '1489548886419156993']"
      ]
     },
     "execution_count": 58,
     "metadata": {},
     "output_type": "execute_result"
    }
   ],
   "source": [
    "list(TFIDF.keys())[:4]"
   ]
  },
  {
   "cell_type": "code",
   "execution_count": 59,
   "id": "4bc4f5f7",
   "metadata": {},
   "outputs": [
    {
     "name": "stdout",
     "output_type": "stream",
     "text": [
      "{'prime': 0.481057491296492, 'minister': 0.4348154911929283, 'criticises': 0.8068671450986402, 'facebook': 0.5632554965367834, 'social': 0.5235458106930185, 'media': 0.548198210688846, 'companies': 0.5429614121371144, 'migrant': 0.637699544031533, 'trafficking': 0.6718744734037386, 'adverts': 0.8915969311373605}\n",
      "{'🥂': 0.2711336673421811, 'winston': 0.28761191327011626, 'churchill': 0.26525232680044064, 'hailed': 0.22641449440282982, 'pint': 0.24877408087250544, 'bottle': 0.2280691168024282, 'champagne': 0.21921631532817787, '“': 0.22012862631305666, 'ideal': 0.26525232680044064, 'size': 0.23792013775569212, '”': 0.2240070735183813, 'declaring': 0.27833184641683306, 'enough': 0.1751488426248756, 'two': 0.13143259184907366, 'lunch': 0.1962179344295932, 'one': 0.11762562624810395, 'dinner': 0.17231460534128415, 'sale': 0.1855452168709806, 'wartime': 0.32305101935618435, 'prime': 0.15517983590209417, 'minister': 0.14026306167513813, '’': 0.05764319006894471, 'favoured': 0.28761191327011626, 'quantity': 0.3006914328865087, 'fizz': 0.3006914328865087, 'set': 0.14026306167513813, 'become': 0.15913474951797585, 'legal': 0.1771868717094411, 'britain': 0.13916574279519447}\n"
     ]
    }
   ],
   "source": [
    "print(TFIDF['1466323790753845253'])\n",
    "print(TFIDF['1474394435656065042'])"
   ]
  },
  {
   "cell_type": "code",
   "execution_count": 60,
   "id": "75cebb36",
   "metadata": {},
   "outputs": [
    {
     "data": {
      "text/plain": [
       "0.057594817449885274"
      ]
     },
     "execution_count": 60,
     "metadata": {},
     "output_type": "execute_result"
    }
   ],
   "source": [
    "cos(TFIDF['1466323790753845253'], TFIDF['1474394435656065042'])"
   ]
  },
  {
   "cell_type": "markdown",
   "id": "cfd72789",
   "metadata": {},
   "source": [
    "### Search"
   ]
  },
  {
   "cell_type": "code",
   "execution_count": 61,
   "id": "facdebf9",
   "metadata": {},
   "outputs": [],
   "source": [
    "def search(query_text):\n",
    "    q = dict(query(query_text))\n",
    "    outcomes = []\n",
    "    for doc_id, text in search_base:\n",
    "        outcomes.append((doc_id, cos(q, BOW[doc_id])))\n",
    "    return outcomes"
   ]
  },
  {
   "cell_type": "code",
   "execution_count": 62,
   "id": "d472a09f",
   "metadata": {},
   "outputs": [
    {
     "name": "stderr",
     "output_type": "stream",
     "text": [
      "/var/folders/cn/1cnswmps6xsbv3x70vr8z3v80000gn/T/ipykernel_5946/67236475.py:10: RuntimeWarning: invalid value encountered in double_scalars\n",
      "  score = k / (sq1 * sq2)\n"
     ]
    }
   ],
   "source": [
    "out = search('COVID-19')"
   ]
  },
  {
   "cell_type": "code",
   "execution_count": 63,
   "id": "5708865f",
   "metadata": {},
   "outputs": [
    {
     "data": {
      "text/plain": [
       "[('1466659258687229957', 0.14584418522526704),\n",
       " ('1476481949606850560', 0.14584418522526704),\n",
       " ('1467801537023983618', 0.0),\n",
       " ('1489548886419156993', 0.0)]"
      ]
     },
     "execution_count": 63,
     "metadata": {},
     "output_type": "execute_result"
    }
   ],
   "source": [
    "out[:4]"
   ]
  },
  {
   "cell_type": "markdown",
   "id": "7a8f29a7",
   "metadata": {},
   "source": [
    "### Output selection or ranking?"
   ]
  },
  {
   "cell_type": "code",
   "execution_count": 64,
   "id": "d914710f",
   "metadata": {},
   "outputs": [],
   "source": [
    "ground_truth = get_entity_results('COVID-19')"
   ]
  },
  {
   "cell_type": "code",
   "execution_count": 78,
   "id": "61cea73e",
   "metadata": {},
   "outputs": [],
   "source": [
    "TP, FP, FN, TN, answers = 0, 0, 0, 0, []\n",
    "threshold = np.percentile(np.array([y for x, y in out]), 97)\n",
    "for doc_id, score in out:\n",
    "    if score >= threshold:\n",
    "        answers.append((doc_id, score))\n",
    "        if doc_id in ground_truth:\n",
    "            TP += 1\n",
    "        else:\n",
    "            FP += 1\n",
    "    else:\n",
    "        if doc_id in ground_truth:\n",
    "            FN += 1\n",
    "        else:\n",
    "            TN += 1"
   ]
  },
  {
   "cell_type": "code",
   "execution_count": 79,
   "id": "d86caca6",
   "metadata": {},
   "outputs": [
    {
     "name": "stdout",
     "output_type": "stream",
     "text": [
      "precision 0.9630484988452656\n",
      "recall 0.20954773869346735\n"
     ]
    }
   ],
   "source": [
    "print('precision', TP / (TP + FP))\n",
    "print('recall', TP / (TP + FN))"
   ]
  },
  {
   "cell_type": "code",
   "execution_count": 80,
   "id": "74e3c9bf",
   "metadata": {},
   "outputs": [
    {
     "name": "stdout",
     "output_type": "stream",
     "text": [
      "834 32 3146 18338\n"
     ]
    }
   ],
   "source": [
    "print(TP, FP, FN, TN)"
   ]
  },
  {
   "cell_type": "code",
   "execution_count": 81,
   "id": "e3d142bd",
   "metadata": {},
   "outputs": [
    {
     "name": "stdout",
     "output_type": "stream",
     "text": [
      "0.8578076062639821\n"
     ]
    }
   ],
   "source": [
    "print((TP + TN) / (TP + TN + FP + FN))"
   ]
  },
  {
   "cell_type": "code",
   "execution_count": 83,
   "id": "d99f7db3",
   "metadata": {},
   "outputs": [
    {
     "name": "stdout",
     "output_type": "stream",
     "text": [
      "1484116996719472640 0.29576543565613694\n",
      "#homesunderthehammer Martin Roberts breaks silence on future on show after 19 years\n",
      "https://t.co/PXr7NtTrx3\n",
      "1499316200693764098 0.17401312244502845\n",
      "In case you missed it: Roman Abramovich has put Chelsea football club up for sale after 19 years of ownership, waiving £1.5bn it owes him and pledging to donate proceeds of the sale to victims of the war in Ukraine https://t.co/UJym4fpC2U\n",
      "1485937183244656653 0.29576543565613694\n",
      "19 injured including three kids as London bus smashes into shop https://t.co/z9jK5ATVBW https://t.co/FSZjJiYer1\n",
      "1497530548771766273 0.16476678778574827\n",
      "🔴The MoD have said that the bulk of Russian forces involved in the advance on Ukraine's capital Kyiv were now 30 km (19 miles) from the city centre\n",
      "\n",
      "Track the key verified areas hit in Ukraine by the Russian military here ⬇️\n",
      "https://t.co/5C3Liu3ljR https://t.co/Qd5whiLiSs\n",
      "1496462367642824709 0.25614038083958635\n",
      "Married ex-Amazon delivery driver who stalked Emma Raducanu, 19, is handed a five-year restraining order https://t.co/8aN4TC7QfQ\n",
      "1487392917027233792 0.3137066177895718\n",
      "Drink-driver, 19, is banned from roads after crashing his Volkswagen into McDonald's restaurant https://t.co/opIN4sR5my\n",
      "1465657865037881347 0.29576543565613694\n",
      "Mum, 19, left with broken eye socket after she was 'spiked' and 'attacked with phone'\n",
      "https://t.co/GCUO7QVxps https://t.co/tgGwp2q9nq\n",
      "1484131341226500099 0.29576543565613694\n",
      "#homesunderthehammer Martin Roberts breaks silence on future on show after 19 years\n",
      "https://t.co/m9EE8BYkTo\n",
      "1472664053764050947 0.2290989213359999\n",
      "RT @BBCSport: Congratulations, @Simone_Biles!\n",
      "\n",
      "The American gymnast, who has won 19 world titles and four Olympic golds, has received the L…\n",
      "1473610804003938304 0.28058772894761097\n",
      "#EscapetotheChateau's Angel Adoree swipes at 19 year age gap with 'worn in' Dick https://t.co/7wV7EbURq1\n",
      "1466380124152991747 0.2675299025529296\n",
      "Emma Raducanu: Tennis superstar, 19, turns heads in striking minidress at Tiffany party\n",
      "https://t.co/EUjQYHoHTv\n",
      "1465627414176976903 0.29576543565613694\n",
      "Mum, 19, left with broken eye socket after she was 'spiked' and 'attacked with phone'\n",
      "https://t.co/GCUO7QVxps https://t.co/t77a8CKqGL\n",
      "1472719674332925959 0.2675299025529296\n",
      "🔴 The image shows 19 people gathered in the sun on the Downing Street terrace and in the garden below https://t.co/Htsceh5dCB\n",
      "1465642513616748547 0.29576543565613694\n",
      "Mum, 19, left with broken eye socket after she was 'spiked' and 'attacked with phone'\n",
      "https://t.co/GCUO7QVxps https://t.co/SYE9JaPqit\n",
      "1488132471225044998 0.28058772894761097\n",
      "Police hunt for mother, 19, and her five-day-old baby after they went missing from London hotel\n",
      "https://t.co/DPxn6AZk6l\n",
      "1499105731911499780 0.17401312244502845\n",
      "Breaking news: Roman Abramovich has put Chelsea football club up for sale after 19 years of ownership, waiving £1.5bn it owes him and pledging to donate proceeds of the sale to victims of the war in Ukraine https://t.co/HfPcz01u1q https://t.co/pGVP9cPfHo\n",
      "1465622537283547144 0.29576543565613694\n",
      "Mum, 19, left with broken eye socket after she was 'spiked' and 'attacked with phone'\n",
      "https://t.co/GCUO7QVxps https://t.co/eh6Bysj7g9\n",
      "1487342765289652224 0.25614038083958635\n",
      "EXCLUSIVE: Emma Raducanu, 19, tells court of her terror after stalker 'visited her home three times' https://t.co/Dc02ag90R6\n",
      "1477062103005548549 0.23713991294468517\n",
      "Tom Daley and 19-year-old tennis star Emma Raducanu are recognised in 2022 New Years Honours list https://t.co/cRBxsumn0S\n",
      "1468003901874053123 0.29576543565613694\n",
      "Euro banknotes to get first big redesign with 19-nation consultation https://t.co/CGcJjNSFoJ\n",
      "1487387304624861188 0.25614038083958635\n",
      "EXCLUSIVE: Emma Raducanu, 19, tells court of her terror after stalker 'visited her home three times' https://t.co/rSa7RwSPF2\n",
      "1491275713730723841 0.24609171779264932\n",
      "Trainee nurse on £12,000-a-year buys her first home at 19 - proving Kirstie Allsopp right https://t.co/jR9HMBBZcX\n",
      "1472877864974528513 0.2675299025529296\n",
      "🔴 The image shows 19 people gathered in the sun on the Downing Street terrace and in the garden below https://t.co/ai4S7Qk2XX\n",
      "1464115472077570050 0.29576543565613694\n",
      "British tennis sensation Emma Raducanu, 19, named Sportswoman of the Year https://t.co/bvgGjP1hjA\n",
      "1491162441224531971 0.24609171779264932\n",
      "Trainee nurse on £12,000-a-year buys her first home at 19 - proving Kirstie Allsopp right https://t.co/Dovn5Pr3aX\n",
      "1482699930238136328 0.18111860022737636\n",
      "In parts of the US, studies show that the police have a higher-than-average propensity for violence. 6% of Americans have been in the military, but 19% of US cops are ex-soldiers. \n",
      "\n",
      "@gilliantett on the case for better police recruitment https://t.co/rO0pKDH00K\n",
      "1474339067248656384 0.29576543565613694\n",
      "Father Christmas delivers his 100,000,000 present - and he's only 19 minutes in\n",
      "https://t.co/QAfFoZVjrs https://t.co/3gxkDaQgoL\n",
      "1498592651326676992 0.2290989213359999\n",
      "'They should be exposed': Student, 19, who tracked Elon Musk's private jet now targets Russian oligarchs and shares the locations of their aircraft on Twitter https://t.co/TPZfLEVMas\n",
      "1484677406514462723 0.21520096440301345\n",
      "🔴 A former counter-terrorism detective has been jailed for three years after admitting 19 counts of voyeurism relating to models and escorts whom he met through an online agency https://t.co/je9VQ7ITrW\n",
      "1482994421029343235 0.19840548585658865\n",
      "Would you like a pay rise, but not sure how? \n",
      "\n",
      "Find out in our LinkedIn Live on Wednesday January 19, from 12 noon GMT. Comment your questions below and we'll put them to the experts 👇https://t.co/EJHyyb4WnV\n",
      "1474598499694088194 0.2290989213359999\n",
      "Emmerdale's Charley Webb quits the show for good after 19 years amid husband Matthew Wolfenden's racism bullying row https://t.co/74Z1NBsGSn\n",
      "1491334413904453633 0.2675299025529296\n",
      "RT @DailyMailCeleb: Adele's incredible transformation from her first BRIT Awards aged 19 #brits2022 https://t.co/ZELpHaSONP\n"
     ]
    }
   ],
   "source": [
    "for i, (doc_id, score) in enumerate(answers):\n",
    "    if not doc_id in ground_truth:\n",
    "        print(doc_id, score)\n",
    "        print(corpus[doc_id])"
   ]
  },
  {
   "cell_type": "code",
   "execution_count": 84,
   "id": "e4c3678e",
   "metadata": {},
   "outputs": [
    {
     "name": "stdout",
     "output_type": "stream",
     "text": [
      "Officials are drawing up plans for the introduction of vaccine passports to slow the spread of Omicron https://t.co/OHCZk6Ti5z\n",
      "RT @DailyMailUK: Spain bans unvaccinated Brit travellers aged 12 and over amid Omicron fears https://t.co/andLMWDAWe\n",
      "Industry leaders fear new Covid isolation rules could spark staffing crisis https://t.co/ZHpQtbCYOO\n",
      "OECD warns Omicron may intensify supply shortages and inflation https://t.co/iATBoFiCxi\n",
      "Your rights on working from home explained https://t.co/rkTMIgZEV6\n",
      "Lockdown no excuse for failure to protect Arthur Labinjo-Hughes, says MP https://t.co/nzk9JBabZd\n",
      "Prices boom for luxury homes outside London as buyers look for more space amid Covid pandemic https://t.co/irtaZObJlF\n",
      "Facemasks are likely to remain a legal requirement on public transport and indoors but work from home guidance and vaccine passports are expected to be scrapped at the end of the month https://t.co/K2QnvIJ4Zf\n",
      "Pub operators say they are expecting one of the best sales over a weekend since the arrival of the Omicron coronavirus variant https://t.co/C7Cv9hoIoH\n",
      "The new Corona! Unfortunate Mexican beer brand introduces alcohol-free lager https://t.co/UGhtEakOsq\n",
      "Hong Kong is responding to fears of animal-to-human coronavirus transmission: More than 1,000 hamsters will be culled and about 150 pet store visitors are to be sent to government quarantine facilities in the city https://t.co/CYixVJAsVg\n"
     ]
    }
   ],
   "source": [
    "A = set([x for x, y in answers])\n",
    "c = 0\n",
    "for doc_id in ground_truth:\n",
    "    if not doc_id in A:\n",
    "        print(corpus[doc_id])\n",
    "        c += 1\n",
    "    if c > 10:\n",
    "        break"
   ]
  },
  {
   "cell_type": "code",
   "execution_count": null,
   "id": "214a1742",
   "metadata": {},
   "outputs": [],
   "source": []
  }
 ],
 "metadata": {
  "kernelspec": {
   "display_name": "Python 3 (ipykernel)",
   "language": "python",
   "name": "python3"
  },
  "language_info": {
   "codemirror_mode": {
    "name": "ipython",
    "version": 3
   },
   "file_extension": ".py",
   "mimetype": "text/x-python",
   "name": "python",
   "nbconvert_exporter": "python",
   "pygments_lexer": "ipython3",
   "version": "3.8.8"
  },
  "toc": {
   "base_numbering": 1,
   "nav_menu": {},
   "number_sections": true,
   "sideBar": true,
   "skip_h1_title": false,
   "title_cell": "Table of Contents",
   "title_sidebar": "Contents",
   "toc_cell": false,
   "toc_position": {},
   "toc_section_display": true,
   "toc_window_display": false
  }
 },
 "nbformat": 4,
 "nbformat_minor": 5
}
