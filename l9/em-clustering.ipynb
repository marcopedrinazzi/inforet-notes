{
 "cells": [
  {
   "cell_type": "markdown",
   "id": "f3cd18d1",
   "metadata": {},
   "source": [
    "# Expectation-Maximization Clustering\n",
    "\n",
    "**Maximization step**\n",
    "$$\n",
    "q_{mk} = \\frac{\n",
    "            \\sum_{n=1}^{N} r_{nk}I(t_m \\in d_n)\n",
    "            }{\n",
    "            \\sum_{n=1}^{N} r_{nk}\n",
    "            }\n",
    "            \\ ;\\ \\ \\alpha_k = \\frac{\\sum_{n=1}^{N} r_{nk}}{N}\n",
    "$$\n",
    "**Expectation step**\n",
    "$$\n",
    "r_{nk} = \\frac{\n",
    "            \\alpha_k(\\prod_{t_m \\in d_n} q_{mk})(\\prod_{t_m \\not\\in d_n} (1-q_{mk}))\n",
    "            }{\n",
    "            \\sum_{k=1}^{K}\\alpha_k(\\prod_{t_m \\in d_n} q_{mk})(\\prod_{t_m \\not\\in d_n} (1-q_{mk}))\n",
    "            }\n",
    "$$\n",
    "\n",
    "where $I(t_m \\in d_m) = 1$ if $t_m \\in d_m$, $0$ otherwise. $r_{nk}$ is the soft assignment of $d_n$ to $\\omega_k$."
   ]
  },
  {
   "cell_type": "code",
   "execution_count": 1,
   "id": "24d41b75",
   "metadata": {},
   "outputs": [],
   "source": [
    "import pandas as pd\n",
    "import numpy as np\n",
    "from tqdm.notebook import tqdm\n",
    "from IPython.display import display, display_html"
   ]
  },
  {
   "cell_type": "markdown",
   "id": "90707ce6",
   "metadata": {},
   "source": [
    "- `M` one-hot encoding of docs (multivariate Bernoulli distributions for data)\n",
    "- `N` corpus size\n",
    "- `K` number of clusters to find\n",
    "- `m` vocabulary size\n",
    "- `A` cluster priors\n",
    "- `Q` tokens assignment to clusters\n",
    "- `R` documents assignment to clusters"
   ]
  },
  {
   "cell_type": "code",
   "execution_count": 2,
   "id": "890295dc",
   "metadata": {},
   "outputs": [],
   "source": [
    "corpus = [\n",
    "    \"sugar milk eggs butter\".split(),\n",
    "    \"vanilla eggs apple peach sugar\".split(),\n",
    "    \"peach apple sugar milk\".split(),\n",
    "    \"meat chicken olive salt butter\".split(),\n",
    "    \"meat beef salt pepper\".split()\n",
    "]\n",
    "vocabulary = list(set([x for y in corpus for x in y]))\n",
    "M = np.array([[1 if x in y else 0 for x in vocabulary] for y in corpus])\n",
    "N, K, m = len(corpus), 2, len(vocabulary)\n",
    "A = np.zeros(K)\n",
    "Q = np.zeros((m, K))"
   ]
  },
  {
   "cell_type": "markdown",
   "id": "3ad4bd15",
   "metadata": {},
   "source": [
    "## Random init $r_{nk}$ (assignment of documents to clusters)"
   ]
  },
  {
   "cell_type": "code",
   "execution_count": 3,
   "id": "6bb8de9f",
   "metadata": {},
   "outputs": [],
   "source": [
    "R = np.random.uniform(size=(N, K))\n",
    "R = R / R.sum(axis=1).reshape(-1, 1)"
   ]
  },
  {
   "cell_type": "code",
   "execution_count": 4,
   "id": "d18eecc7",
   "metadata": {},
   "outputs": [
    {
     "data": {
      "text/plain": [
       "array([[0.33059267, 0.66940733],\n",
       "       [0.48753123, 0.51246877],\n",
       "       [0.62628952, 0.37371048],\n",
       "       [0.32633183, 0.67366817],\n",
       "       [0.53856354, 0.46143646]])"
      ]
     },
     "execution_count": 4,
     "metadata": {},
     "output_type": "execute_result"
    }
   ],
   "source": [
    "R"
   ]
  },
  {
   "cell_type": "markdown",
   "id": "2ffad53f",
   "metadata": {},
   "source": [
    "## Maximization step\n",
    "\n",
    "$$\n",
    "q_{mk} = \\frac{\n",
    "            \\sum_{n=1}^{N} r_{nk}I(t_m \\in d_n)\n",
    "            }{\n",
    "            \\sum_{n=1}^{N} r_{nk}\n",
    "            }\n",
    "            \\ ;\\ \\ \\alpha_k = \\frac{\\sum_{n=1}^{N} r_{nk}}{N}\n",
    "$$\n"
   ]
  },
  {
   "cell_type": "code",
   "execution_count": 5,
   "id": "e7b6739d",
   "metadata": {},
   "outputs": [
    {
     "data": {
      "text/plain": [
       "array([0.        , 0.        , 0.        , 0.32633183, 0.        ])"
      ]
     },
     "execution_count": 5,
     "metadata": {},
     "output_type": "execute_result"
    }
   ],
   "source": [
    "R[:,0] * M[:,2]"
   ]
  },
  {
   "cell_type": "code",
   "execution_count": 6,
   "id": "b0fa28b9",
   "metadata": {},
   "outputs": [],
   "source": [
    "def qmk(token_index, cluster_index):\n",
    "    num = (R[:,cluster_index] * M[:,token_index]).sum()\n",
    "    den = R[:,cluster_index].sum()\n",
    "    return num / den\n",
    "\n",
    "def ak(cluster_index):\n",
    "    return R[:,cluster_index].sum() / N"
   ]
  },
  {
   "cell_type": "code",
   "execution_count": 7,
   "id": "70a501dc",
   "metadata": {},
   "outputs": [
    {
     "data": {
      "text/plain": [
       "0.14131147580065537"
      ]
     },
     "execution_count": 7,
     "metadata": {},
     "output_type": "execute_result"
    }
   ],
   "source": [
    "qmk(2, 0)"
   ]
  },
  {
   "cell_type": "code",
   "execution_count": 8,
   "id": "f5b00313",
   "metadata": {},
   "outputs": [
    {
     "data": {
      "text/plain": [
       "0.4618617595694018"
      ]
     },
     "execution_count": 8,
     "metadata": {},
     "output_type": "execute_result"
    }
   ],
   "source": [
    "ak(0)"
   ]
  },
  {
   "cell_type": "code",
   "execution_count": 9,
   "id": "5ae7734b",
   "metadata": {},
   "outputs": [],
   "source": [
    "def maxstep(Q, A):\n",
    "    for cluster_index in range(K):\n",
    "        for token_index in range(len(vocabulary)):\n",
    "            Q[token_index, cluster_index] = qmk(token_index, cluster_index)\n",
    "        A[cluster_index] = ak(cluster_index)\n",
    "    return Q / Q.sum(axis=1).reshape(-1, 1), A"
   ]
  },
  {
   "cell_type": "code",
   "execution_count": 10,
   "id": "d057dc72",
   "metadata": {},
   "outputs": [
    {
     "data": {
      "text/html": [
       "<style type=\"text/css\">\n",
       "</style>\n",
       "<table id=\"T_25e1d_\" style='display:inline'>\n",
       "  <caption>A</caption>\n",
       "  <thead>\n",
       "    <tr>\n",
       "      <th class=\"blank level0\" >&nbsp;</th>\n",
       "      <th class=\"col_heading level0 col0\" >0</th>\n",
       "    </tr>\n",
       "  </thead>\n",
       "  <tbody>\n",
       "    <tr>\n",
       "      <th id=\"T_25e1d_level0_row0\" class=\"row_heading level0 row0\" >0</th>\n",
       "      <td id=\"T_25e1d_row0_col0\" class=\"data row0 col0\" >0.000000</td>\n",
       "    </tr>\n",
       "    <tr>\n",
       "      <th id=\"T_25e1d_level0_row1\" class=\"row_heading level0 row1\" >1</th>\n",
       "      <td id=\"T_25e1d_row1_col0\" class=\"data row1 col0\" >0.000000</td>\n",
       "    </tr>\n",
       "  </tbody>\n",
       "</table>\n",
       "<style type=\"text/css\">\n",
       "</style>\n",
       "<table id=\"T_c0e12_\" style='display:inline'>\n",
       "  <caption>Q</caption>\n",
       "  <thead>\n",
       "    <tr>\n",
       "      <th class=\"blank level0\" >&nbsp;</th>\n",
       "      <th class=\"col_heading level0 col0\" >peach</th>\n",
       "      <th class=\"col_heading level0 col1\" >chicken</th>\n",
       "      <th class=\"col_heading level0 col2\" >olive</th>\n",
       "      <th class=\"col_heading level0 col3\" >beef</th>\n",
       "      <th class=\"col_heading level0 col4\" >pepper</th>\n",
       "      <th class=\"col_heading level0 col5\" >butter</th>\n",
       "      <th class=\"col_heading level0 col6\" >sugar</th>\n",
       "      <th class=\"col_heading level0 col7\" >eggs</th>\n",
       "      <th class=\"col_heading level0 col8\" >salt</th>\n",
       "      <th class=\"col_heading level0 col9\" >vanilla</th>\n",
       "      <th class=\"col_heading level0 col10\" >milk</th>\n",
       "      <th class=\"col_heading level0 col11\" >meat</th>\n",
       "      <th class=\"col_heading level0 col12\" >apple</th>\n",
       "    </tr>\n",
       "  </thead>\n",
       "  <tbody>\n",
       "    <tr>\n",
       "      <th id=\"T_c0e12_level0_row0\" class=\"row_heading level0 row0\" >0</th>\n",
       "      <td id=\"T_c0e12_row0_col0\" class=\"data row0 col0\" >0.000000</td>\n",
       "      <td id=\"T_c0e12_row0_col1\" class=\"data row0 col1\" >0.000000</td>\n",
       "      <td id=\"T_c0e12_row0_col2\" class=\"data row0 col2\" >0.000000</td>\n",
       "      <td id=\"T_c0e12_row0_col3\" class=\"data row0 col3\" >0.000000</td>\n",
       "      <td id=\"T_c0e12_row0_col4\" class=\"data row0 col4\" >0.000000</td>\n",
       "      <td id=\"T_c0e12_row0_col5\" class=\"data row0 col5\" >0.000000</td>\n",
       "      <td id=\"T_c0e12_row0_col6\" class=\"data row0 col6\" >0.000000</td>\n",
       "      <td id=\"T_c0e12_row0_col7\" class=\"data row0 col7\" >0.000000</td>\n",
       "      <td id=\"T_c0e12_row0_col8\" class=\"data row0 col8\" >0.000000</td>\n",
       "      <td id=\"T_c0e12_row0_col9\" class=\"data row0 col9\" >0.000000</td>\n",
       "      <td id=\"T_c0e12_row0_col10\" class=\"data row0 col10\" >0.000000</td>\n",
       "      <td id=\"T_c0e12_row0_col11\" class=\"data row0 col11\" >0.000000</td>\n",
       "      <td id=\"T_c0e12_row0_col12\" class=\"data row0 col12\" >0.000000</td>\n",
       "    </tr>\n",
       "    <tr>\n",
       "      <th id=\"T_c0e12_level0_row1\" class=\"row_heading level0 row1\" >1</th>\n",
       "      <td id=\"T_c0e12_row1_col0\" class=\"data row1 col0\" >0.000000</td>\n",
       "      <td id=\"T_c0e12_row1_col1\" class=\"data row1 col1\" >0.000000</td>\n",
       "      <td id=\"T_c0e12_row1_col2\" class=\"data row1 col2\" >0.000000</td>\n",
       "      <td id=\"T_c0e12_row1_col3\" class=\"data row1 col3\" >0.000000</td>\n",
       "      <td id=\"T_c0e12_row1_col4\" class=\"data row1 col4\" >0.000000</td>\n",
       "      <td id=\"T_c0e12_row1_col5\" class=\"data row1 col5\" >0.000000</td>\n",
       "      <td id=\"T_c0e12_row1_col6\" class=\"data row1 col6\" >0.000000</td>\n",
       "      <td id=\"T_c0e12_row1_col7\" class=\"data row1 col7\" >0.000000</td>\n",
       "      <td id=\"T_c0e12_row1_col8\" class=\"data row1 col8\" >0.000000</td>\n",
       "      <td id=\"T_c0e12_row1_col9\" class=\"data row1 col9\" >0.000000</td>\n",
       "      <td id=\"T_c0e12_row1_col10\" class=\"data row1 col10\" >0.000000</td>\n",
       "      <td id=\"T_c0e12_row1_col11\" class=\"data row1 col11\" >0.000000</td>\n",
       "      <td id=\"T_c0e12_row1_col12\" class=\"data row1 col12\" >0.000000</td>\n",
       "    </tr>\n",
       "  </tbody>\n",
       "</table>\n"
      ]
     },
     "metadata": {},
     "output_type": "display_data"
    },
    {
     "data": {
      "text/html": [
       "<style type=\"text/css\">\n",
       "</style>\n",
       "<table id=\"T_1acba_\" style='display:inline'>\n",
       "  <caption>A</caption>\n",
       "  <thead>\n",
       "    <tr>\n",
       "      <th class=\"blank level0\" >&nbsp;</th>\n",
       "      <th class=\"col_heading level0 col0\" >0</th>\n",
       "    </tr>\n",
       "  </thead>\n",
       "  <tbody>\n",
       "    <tr>\n",
       "      <th id=\"T_1acba_level0_row0\" class=\"row_heading level0 row0\" >0</th>\n",
       "      <td id=\"T_1acba_row0_col0\" class=\"data row0 col0\" >0.461862</td>\n",
       "    </tr>\n",
       "    <tr>\n",
       "      <th id=\"T_1acba_level0_row1\" class=\"row_heading level0 row1\" >1</th>\n",
       "      <td id=\"T_1acba_row1_col0\" class=\"data row1 col0\" >0.538138</td>\n",
       "    </tr>\n",
       "  </tbody>\n",
       "</table>\n",
       "<style type=\"text/css\">\n",
       "</style>\n",
       "<table id=\"T_d34d9_\" style='display:inline'>\n",
       "  <caption>Q</caption>\n",
       "  <thead>\n",
       "    <tr>\n",
       "      <th class=\"blank level0\" >&nbsp;</th>\n",
       "      <th class=\"col_heading level0 col0\" >peach</th>\n",
       "      <th class=\"col_heading level0 col1\" >chicken</th>\n",
       "      <th class=\"col_heading level0 col2\" >olive</th>\n",
       "      <th class=\"col_heading level0 col3\" >beef</th>\n",
       "      <th class=\"col_heading level0 col4\" >pepper</th>\n",
       "      <th class=\"col_heading level0 col5\" >butter</th>\n",
       "      <th class=\"col_heading level0 col6\" >sugar</th>\n",
       "      <th class=\"col_heading level0 col7\" >eggs</th>\n",
       "      <th class=\"col_heading level0 col8\" >salt</th>\n",
       "      <th class=\"col_heading level0 col9\" >vanilla</th>\n",
       "      <th class=\"col_heading level0 col10\" >milk</th>\n",
       "      <th class=\"col_heading level0 col11\" >meat</th>\n",
       "      <th class=\"col_heading level0 col12\" >apple</th>\n",
       "    </tr>\n",
       "  </thead>\n",
       "  <tbody>\n",
       "    <tr>\n",
       "      <th id=\"T_d34d9_level0_row0\" class=\"row_heading level0 row0\" >0</th>\n",
       "      <td id=\"T_d34d9_row0_col0\" class=\"data row0 col0\" >0.594231</td>\n",
       "      <td id=\"T_d34d9_row0_col1\" class=\"data row0 col1\" >0.360782</td>\n",
       "      <td id=\"T_d34d9_row0_col2\" class=\"data row0 col2\" >0.360782</td>\n",
       "      <td id=\"T_d34d9_row0_col3\" class=\"data row0 col3\" >0.576253</td>\n",
       "      <td id=\"T_d34d9_row0_col4\" class=\"data row0 col4\" >0.576253</td>\n",
       "      <td id=\"T_d34d9_row0_col5\" class=\"data row0 col5\" >0.363016</td>\n",
       "      <td id=\"T_d34d9_row0_col6\" class=\"data row0 col6\" >0.519665</td>\n",
       "      <td id=\"T_d34d9_row0_col7\" class=\"data row0 col7\" >0.446457</td>\n",
       "      <td id=\"T_d34d9_row0_col8\" class=\"data row0 col8\" >0.470280</td>\n",
       "      <td id=\"T_d34d9_row0_col9\" class=\"data row0 col9\" >0.525718</td>\n",
       "      <td id=\"T_d34d9_row0_col10\" class=\"data row0 col10\" >0.516634</td>\n",
       "      <td id=\"T_d34d9_row0_col11\" class=\"data row0 col11\" >0.470280</td>\n",
       "      <td id=\"T_d34d9_row0_col12\" class=\"data row0 col12\" >0.594231</td>\n",
       "    </tr>\n",
       "    <tr>\n",
       "      <th id=\"T_d34d9_level0_row1\" class=\"row_heading level0 row1\" >1</th>\n",
       "      <td id=\"T_d34d9_row1_col0\" class=\"data row1 col0\" >0.405769</td>\n",
       "      <td id=\"T_d34d9_row1_col1\" class=\"data row1 col1\" >0.639218</td>\n",
       "      <td id=\"T_d34d9_row1_col2\" class=\"data row1 col2\" >0.639218</td>\n",
       "      <td id=\"T_d34d9_row1_col3\" class=\"data row1 col3\" >0.423747</td>\n",
       "      <td id=\"T_d34d9_row1_col4\" class=\"data row1 col4\" >0.423747</td>\n",
       "      <td id=\"T_d34d9_row1_col5\" class=\"data row1 col5\" >0.636984</td>\n",
       "      <td id=\"T_d34d9_row1_col6\" class=\"data row1 col6\" >0.480335</td>\n",
       "      <td id=\"T_d34d9_row1_col7\" class=\"data row1 col7\" >0.553543</td>\n",
       "      <td id=\"T_d34d9_row1_col8\" class=\"data row1 col8\" >0.529720</td>\n",
       "      <td id=\"T_d34d9_row1_col9\" class=\"data row1 col9\" >0.474282</td>\n",
       "      <td id=\"T_d34d9_row1_col10\" class=\"data row1 col10\" >0.483366</td>\n",
       "      <td id=\"T_d34d9_row1_col11\" class=\"data row1 col11\" >0.529720</td>\n",
       "      <td id=\"T_d34d9_row1_col12\" class=\"data row1 col12\" >0.405769</td>\n",
       "    </tr>\n",
       "  </tbody>\n",
       "</table>\n"
      ]
     },
     "metadata": {},
     "output_type": "display_data"
    }
   ],
   "source": [
    "Adf = pd.DataFrame(A)\n",
    "Qdf = pd.DataFrame(Q, index=vocabulary).T\n",
    "A_styler = Adf.style.set_table_attributes(\"style='display:inline'\").set_caption('A')\n",
    "Q_styler = Qdf.style.set_table_attributes(\"style='display:inline'\").set_caption('Q')\n",
    "display_html(A_styler._repr_html_() + Q_styler._repr_html_(), raw=True)\n",
    "\n",
    "Q, A = maxstep(Q, A)\n",
    "\n",
    "Adf = pd.DataFrame(A)\n",
    "Qdf = pd.DataFrame(Q, index=vocabulary).T\n",
    "A_styler = Adf.style.set_table_attributes(\"style='display:inline'\").set_caption('A')\n",
    "Q_styler = Qdf.style.set_table_attributes(\"style='display:inline'\").set_caption('Q')\n",
    "display_html(A_styler._repr_html_() + Q_styler._repr_html_(), raw=True)"
   ]
  },
  {
   "cell_type": "markdown",
   "id": "0771ee58",
   "metadata": {},
   "source": [
    "## Expectation step\n",
    "\n",
    "$$\n",
    "r_{nk} = \\frac{\n",
    "            \\alpha_k(\\prod_{t_m \\in d_n} q_{mk})(\\prod_{t_m \\not\\in d_n} (1-q_{mk}))\n",
    "            }{\n",
    "            \\sum_{k=1}^{K}\\alpha_k(\\prod_{t_m \\in d_n} q_{mk})(\\prod_{t_m \\not\\in d_n} (1-q_{mk}))\n",
    "            }\n",
    "$$\n"
   ]
  },
  {
   "cell_type": "code",
   "execution_count": 11,
   "id": "b74078f5",
   "metadata": {},
   "outputs": [],
   "source": [
    "def prod(cluster_index, document_index):\n",
    "    p1 = np.product([qmk(i, cluster_index) for i in range(len(vocabulary)) if M[document_index,i] == 1])\n",
    "    p0 = np.product([1 - qmk(i, cluster_index) for i in range(len(vocabulary)) if M[document_index,i] == 0])\n",
    "    return A[cluster_index] * p1 * p0\n",
    "\n",
    "def expectation(R):\n",
    "    for document_index in range(N):\n",
    "        total = sum([prod(c, document_index) for c in range(K)])\n",
    "        for cluster_index in range(K):\n",
    "            R[document_index, cluster_index] = prod(cluster_index, document_index) / total\n",
    "    return R / R.sum(axis=1).reshape(-1, 1)"
   ]
  },
  {
   "cell_type": "code",
   "execution_count": 12,
   "id": "a7692aee",
   "metadata": {},
   "outputs": [
    {
     "data": {
      "text/html": [
       "<div>\n",
       "<style scoped>\n",
       "    .dataframe tbody tr th:only-of-type {\n",
       "        vertical-align: middle;\n",
       "    }\n",
       "\n",
       "    .dataframe tbody tr th {\n",
       "        vertical-align: top;\n",
       "    }\n",
       "\n",
       "    .dataframe thead th {\n",
       "        text-align: right;\n",
       "    }\n",
       "</style>\n",
       "<table border=\"1\" class=\"dataframe\">\n",
       "  <thead>\n",
       "    <tr style=\"text-align: right;\">\n",
       "      <th></th>\n",
       "      <th>0</th>\n",
       "      <th>1</th>\n",
       "    </tr>\n",
       "  </thead>\n",
       "  <tbody>\n",
       "    <tr>\n",
       "      <th>0</th>\n",
       "      <td>0.330593</td>\n",
       "      <td>0.669407</td>\n",
       "    </tr>\n",
       "    <tr>\n",
       "      <th>1</th>\n",
       "      <td>0.487531</td>\n",
       "      <td>0.512469</td>\n",
       "    </tr>\n",
       "    <tr>\n",
       "      <th>2</th>\n",
       "      <td>0.626290</td>\n",
       "      <td>0.373710</td>\n",
       "    </tr>\n",
       "    <tr>\n",
       "      <th>3</th>\n",
       "      <td>0.326332</td>\n",
       "      <td>0.673668</td>\n",
       "    </tr>\n",
       "    <tr>\n",
       "      <th>4</th>\n",
       "      <td>0.538564</td>\n",
       "      <td>0.461436</td>\n",
       "    </tr>\n",
       "  </tbody>\n",
       "</table>\n",
       "</div>"
      ],
      "text/plain": [
       "          0         1\n",
       "0  0.330593  0.669407\n",
       "1  0.487531  0.512469\n",
       "2  0.626290  0.373710\n",
       "3  0.326332  0.673668\n",
       "4  0.538564  0.461436"
      ]
     },
     "metadata": {},
     "output_type": "display_data"
    },
    {
     "data": {
      "text/html": [
       "<div>\n",
       "<style scoped>\n",
       "    .dataframe tbody tr th:only-of-type {\n",
       "        vertical-align: middle;\n",
       "    }\n",
       "\n",
       "    .dataframe tbody tr th {\n",
       "        vertical-align: top;\n",
       "    }\n",
       "\n",
       "    .dataframe thead th {\n",
       "        text-align: right;\n",
       "    }\n",
       "</style>\n",
       "<table border=\"1\" class=\"dataframe\">\n",
       "  <thead>\n",
       "    <tr style=\"text-align: right;\">\n",
       "      <th></th>\n",
       "      <th>0</th>\n",
       "      <th>1</th>\n",
       "    </tr>\n",
       "  </thead>\n",
       "  <tbody>\n",
       "    <tr>\n",
       "      <th>0</th>\n",
       "      <td>0.258404</td>\n",
       "      <td>0.741596</td>\n",
       "    </tr>\n",
       "    <tr>\n",
       "      <th>1</th>\n",
       "      <td>0.766239</td>\n",
       "      <td>0.233761</td>\n",
       "    </tr>\n",
       "    <tr>\n",
       "      <th>2</th>\n",
       "      <td>0.915168</td>\n",
       "      <td>0.084832</td>\n",
       "    </tr>\n",
       "    <tr>\n",
       "      <th>3</th>\n",
       "      <td>0.001682</td>\n",
       "      <td>0.998318</td>\n",
       "    </tr>\n",
       "    <tr>\n",
       "      <th>4</th>\n",
       "      <td>0.037992</td>\n",
       "      <td>0.962008</td>\n",
       "    </tr>\n",
       "  </tbody>\n",
       "</table>\n",
       "</div>"
      ],
      "text/plain": [
       "          0         1\n",
       "0  0.258404  0.741596\n",
       "1  0.766239  0.233761\n",
       "2  0.915168  0.084832\n",
       "3  0.001682  0.998318\n",
       "4  0.037992  0.962008"
      ]
     },
     "metadata": {},
     "output_type": "display_data"
    }
   ],
   "source": [
    "Rdf = pd.DataFrame(R)\n",
    "display(Rdf)\n",
    "\n",
    "R = expectation(R)\n",
    "\n",
    "Rdf = pd.DataFrame(R)\n",
    "display(Rdf)"
   ]
  },
  {
   "cell_type": "markdown",
   "id": "6f87981e",
   "metadata": {},
   "source": [
    "## Put things together"
   ]
  },
  {
   "cell_type": "code",
   "execution_count": 13,
   "id": "d526e837",
   "metadata": {},
   "outputs": [],
   "source": [
    "class EMClustering(object):\n",
    "\n",
    "    def __init__(self, corpus, k=2):\n",
    "        self.corpus = corpus\n",
    "        self.vocabulary = list(set([x for y in self.corpus for x in y]))\n",
    "        self.M = np.array([[1 if x in y else 0 for x in self.vocabulary] for y in self.corpus])\n",
    "        self.N, self.K, self.m = len(self.corpus), k, len(self.vocabulary)\n",
    "        self.A = np.zeros(self.K)\n",
    "        self.Q = np.zeros((self.m, self.K))\n",
    "        # Init R\n",
    "        self.R = np.random.uniform(size=(self.N, self.K))\n",
    "        self.R = self.R / self.R.sum(axis=1).reshape(-1, 1) \n",
    "\n",
    "    def qmk(self, token_index, cluster_index):\n",
    "        num = (self.R[:,cluster_index] * self.M[:,token_index]).sum()\n",
    "        den = self.R[:,cluster_index].sum()\n",
    "        return num / den\n",
    "\n",
    "    def ak(self, cluster_index):\n",
    "        return self.R[:,cluster_index].sum() / self.N\n",
    "    \n",
    "    def maxstep(self):\n",
    "        for cluster_index in range(self.K):\n",
    "            for token_index in range(self.m):\n",
    "                self.Q[token_index, cluster_index] = self.qmk(token_index, cluster_index)\n",
    "            self.A[cluster_index] = self.ak(cluster_index)\n",
    "        self.Q = self.Q / self.Q.sum(axis=1).reshape(-1, 1)\n",
    "\n",
    "    def prod(self, cluster_index, document_index):\n",
    "        p1 = np.product([self.qmk(i, cluster_index) for i in range(self.m) if self.M[document_index,i] == 1])\n",
    "        p0 = np.product([1 - self.qmk(i, cluster_index) for i in range(self.m) if self.M[document_index,i] == 0])\n",
    "        return self.A[cluster_index] * p1 * p0\n",
    "\n",
    "    def expectation(self):\n",
    "        for document_index in range(self.N):\n",
    "            total = sum([self.prod(c, document_index) for c in range(self.K)])\n",
    "            for cluster_index in range(self.K):\n",
    "                self.R[document_index, cluster_index] = self.prod(cluster_index, document_index) / total\n",
    "    \n",
    "    def fit(self, iterations=10):\n",
    "        self.maxstep()\n",
    "        self.expectation()"
   ]
  },
  {
   "cell_type": "markdown",
   "id": "11fd0e5f",
   "metadata": {},
   "source": [
    "## Try with different corpora"
   ]
  },
  {
   "cell_type": "code",
   "execution_count": 14,
   "id": "3327f88b",
   "metadata": {},
   "outputs": [],
   "source": [
    "corpus = [\n",
    "    \"sugar milk eggs butter\".split(),\n",
    "    \"vanilla eggs apple peach sugar\".split(),\n",
    "    \"peach apple sugar milk\".split(),\n",
    "    \"meat chicken olive salt butter\".split(),\n",
    "    \"meat beef salt pepper\".split()\n",
    "]"
   ]
  },
  {
   "cell_type": "code",
   "execution_count": 19,
   "id": "d6f1f44e",
   "metadata": {},
   "outputs": [],
   "source": [
    "EM = EMClustering(corpus)\n",
    "EM.fit(iterations=10)"
   ]
  },
  {
   "cell_type": "code",
   "execution_count": 20,
   "id": "fbd59471",
   "metadata": {},
   "outputs": [
    {
     "data": {
      "text/html": [
       "<style type=\"text/css\">\n",
       "</style>\n",
       "<table id=\"T_e4008_\" style='display:inline'>\n",
       "  <caption>A</caption>\n",
       "  <thead>\n",
       "    <tr>\n",
       "      <th class=\"blank level0\" >&nbsp;</th>\n",
       "      <th class=\"col_heading level0 col0\" >0</th>\n",
       "    </tr>\n",
       "  </thead>\n",
       "  <tbody>\n",
       "    <tr>\n",
       "      <th id=\"T_e4008_level0_row0\" class=\"row_heading level0 row0\" >0</th>\n",
       "      <td id=\"T_e4008_row0_col0\" class=\"data row0 col0\" >0.401649</td>\n",
       "    </tr>\n",
       "    <tr>\n",
       "      <th id=\"T_e4008_level0_row1\" class=\"row_heading level0 row1\" >1</th>\n",
       "      <td id=\"T_e4008_row1_col0\" class=\"data row1 col0\" >0.598351</td>\n",
       "    </tr>\n",
       "  </tbody>\n",
       "</table>\n",
       "<style type=\"text/css\">\n",
       "</style>\n",
       "<table id=\"T_ce91b_\" style='display:inline'>\n",
       "  <caption>Q</caption>\n",
       "  <thead>\n",
       "    <tr>\n",
       "      <th class=\"blank level0\" >&nbsp;</th>\n",
       "      <th class=\"col_heading level0 col0\" >peach</th>\n",
       "      <th class=\"col_heading level0 col1\" >chicken</th>\n",
       "      <th class=\"col_heading level0 col2\" >olive</th>\n",
       "      <th class=\"col_heading level0 col3\" >beef</th>\n",
       "      <th class=\"col_heading level0 col4\" >pepper</th>\n",
       "      <th class=\"col_heading level0 col5\" >butter</th>\n",
       "      <th class=\"col_heading level0 col6\" >sugar</th>\n",
       "      <th class=\"col_heading level0 col7\" >eggs</th>\n",
       "      <th class=\"col_heading level0 col8\" >salt</th>\n",
       "      <th class=\"col_heading level0 col9\" >vanilla</th>\n",
       "      <th class=\"col_heading level0 col10\" >milk</th>\n",
       "      <th class=\"col_heading level0 col11\" >meat</th>\n",
       "      <th class=\"col_heading level0 col12\" >apple</th>\n",
       "    </tr>\n",
       "  </thead>\n",
       "  <tbody>\n",
       "    <tr>\n",
       "      <th id=\"T_ce91b_level0_row0\" class=\"row_heading level0 row0\" >0</th>\n",
       "      <td id=\"T_ce91b_row0_col0\" class=\"data row0 col0\" >0.256165</td>\n",
       "      <td id=\"T_ce91b_row0_col1\" class=\"data row0 col1\" >0.797499</td>\n",
       "      <td id=\"T_ce91b_row0_col2\" class=\"data row0 col2\" >0.797499</td>\n",
       "      <td id=\"T_ce91b_row0_col3\" class=\"data row0 col3\" >0.640705</td>\n",
       "      <td id=\"T_ce91b_row0_col4\" class=\"data row0 col4\" >0.640705</td>\n",
       "      <td id=\"T_ce91b_row0_col5\" class=\"data row0 col5\" >0.639873</td>\n",
       "      <td id=\"T_ce91b_row0_col6\" class=\"data row0 col6\" >0.327018</td>\n",
       "      <td id=\"T_ce91b_row0_col7\" class=\"data row0 col7\" >0.250330</td>\n",
       "      <td id=\"T_ce91b_row0_col8\" class=\"data row0 col8\" >0.721748</td>\n",
       "      <td id=\"T_ce91b_row0_col9\" class=\"data row0 col9\" >0.005762</td>\n",
       "      <td id=\"T_ce91b_row0_col10\" class=\"data row0 col10\" >0.463433</td>\n",
       "      <td id=\"T_ce91b_row0_col11\" class=\"data row0 col11\" >0.721748</td>\n",
       "      <td id=\"T_ce91b_row0_col12\" class=\"data row0 col12\" >0.256165</td>\n",
       "    </tr>\n",
       "    <tr>\n",
       "      <th id=\"T_ce91b_level0_row1\" class=\"row_heading level0 row1\" >1</th>\n",
       "      <td id=\"T_ce91b_row1_col0\" class=\"data row1 col0\" >0.743835</td>\n",
       "      <td id=\"T_ce91b_row1_col1\" class=\"data row1 col1\" >0.202501</td>\n",
       "      <td id=\"T_ce91b_row1_col2\" class=\"data row1 col2\" >0.202501</td>\n",
       "      <td id=\"T_ce91b_row1_col3\" class=\"data row1 col3\" >0.359295</td>\n",
       "      <td id=\"T_ce91b_row1_col4\" class=\"data row1 col4\" >0.359295</td>\n",
       "      <td id=\"T_ce91b_row1_col5\" class=\"data row1 col5\" >0.360127</td>\n",
       "      <td id=\"T_ce91b_row1_col6\" class=\"data row1 col6\" >0.672982</td>\n",
       "      <td id=\"T_ce91b_row1_col7\" class=\"data row1 col7\" >0.749670</td>\n",
       "      <td id=\"T_ce91b_row1_col8\" class=\"data row1 col8\" >0.278252</td>\n",
       "      <td id=\"T_ce91b_row1_col9\" class=\"data row1 col9\" >0.994238</td>\n",
       "      <td id=\"T_ce91b_row1_col10\" class=\"data row1 col10\" >0.536567</td>\n",
       "      <td id=\"T_ce91b_row1_col11\" class=\"data row1 col11\" >0.278252</td>\n",
       "      <td id=\"T_ce91b_row1_col12\" class=\"data row1 col12\" >0.743835</td>\n",
       "    </tr>\n",
       "  </tbody>\n",
       "</table>\n"
      ]
     },
     "metadata": {},
     "output_type": "display_data"
    },
    {
     "data": {
      "text/html": [
       "<div>\n",
       "<style scoped>\n",
       "    .dataframe tbody tr th:only-of-type {\n",
       "        vertical-align: middle;\n",
       "    }\n",
       "\n",
       "    .dataframe tbody tr th {\n",
       "        vertical-align: top;\n",
       "    }\n",
       "\n",
       "    .dataframe thead th {\n",
       "        text-align: right;\n",
       "    }\n",
       "</style>\n",
       "<table border=\"1\" class=\"dataframe\">\n",
       "  <thead>\n",
       "    <tr style=\"text-align: right;\">\n",
       "      <th></th>\n",
       "      <th>0</th>\n",
       "      <th>1</th>\n",
       "    </tr>\n",
       "  </thead>\n",
       "  <tbody>\n",
       "    <tr>\n",
       "      <th>0</th>\n",
       "      <td>0.06</td>\n",
       "      <td>0.94</td>\n",
       "    </tr>\n",
       "    <tr>\n",
       "      <th>1</th>\n",
       "      <td>0.00</td>\n",
       "      <td>1.00</td>\n",
       "    </tr>\n",
       "    <tr>\n",
       "      <th>2</th>\n",
       "      <td>0.00</td>\n",
       "      <td>1.00</td>\n",
       "    </tr>\n",
       "    <tr>\n",
       "      <th>3</th>\n",
       "      <td>1.00</td>\n",
       "      <td>0.00</td>\n",
       "    </tr>\n",
       "    <tr>\n",
       "      <th>4</th>\n",
       "      <td>1.00</td>\n",
       "      <td>0.00</td>\n",
       "    </tr>\n",
       "  </tbody>\n",
       "</table>\n",
       "</div>"
      ],
      "text/plain": [
       "      0     1\n",
       "0  0.06  0.94\n",
       "1  0.00  1.00\n",
       "2  0.00  1.00\n",
       "3  1.00  0.00\n",
       "4  1.00  0.00"
      ]
     },
     "metadata": {},
     "output_type": "display_data"
    }
   ],
   "source": [
    "Adf = pd.DataFrame(EM.A)\n",
    "Qdf = pd.DataFrame(EM.Q, index=EM.vocabulary).T\n",
    "A_styler = Adf.style.set_table_attributes(\"style='display:inline'\").set_caption('A')\n",
    "Q_styler = Qdf.style.set_table_attributes(\"style='display:inline'\").set_caption('Q')\n",
    "display_html(A_styler._repr_html_() + Q_styler._repr_html_(), raw=True)\n",
    "Rdf = pd.DataFrame(EM.R)\n",
    "display(round(Rdf, 2))"
   ]
  },
  {
   "cell_type": "code",
   "execution_count": 21,
   "id": "d66a8194",
   "metadata": {},
   "outputs": [],
   "source": [
    "from collections import defaultdict"
   ]
  },
  {
   "cell_type": "code",
   "execution_count": 22,
   "id": "1ba89ab5",
   "metadata": {},
   "outputs": [
    {
     "name": "stdout",
     "output_type": "stream",
     "text": [
      "1 ['peach', 'sugar', 'eggs', 'vanilla', 'milk', 'apple']\n",
      "0 ['chicken', 'olive', 'beef', 'pepper', 'butter', 'salt', 'meat']\n"
     ]
    }
   ],
   "source": [
    "cluster_description = defaultdict(list)\n",
    "for i, cluster in enumerate(np.argmax(EM.Q, axis=1)):\n",
    "    cluster_description[cluster].append(EM.vocabulary[i])\n",
    "for cluster, words in cluster_description.items():\n",
    "    print(cluster, words)"
   ]
  },
  {
   "cell_type": "code",
   "execution_count": 26,
   "id": "3631eda0",
   "metadata": {},
   "outputs": [
    {
     "name": "stdout",
     "output_type": "stream",
     "text": [
      "1\n",
      "- sugar milk eggs butter\n",
      "- vanilla eggs apple peach sugar\n",
      "- peach apple sugar milk\n",
      "0\n",
      "- meat chicken olive salt butter\n",
      "- meat beef salt pepper\n"
     ]
    }
   ],
   "source": [
    "cluster_docs = defaultdict(list)\n",
    "for i, cluster in enumerate(np.argmax(EM.R, axis=1)):\n",
    "    cluster_docs[cluster].append(corpus[i])\n",
    "for cluster, docs in cluster_docs.items():\n",
    "    print(cluster)\n",
    "    for doc in docs:\n",
    "        print('-', \" \".join(doc))"
   ]
  },
  {
   "cell_type": "code",
   "execution_count": null,
   "id": "d658bc05",
   "metadata": {},
   "outputs": [],
   "source": []
  }
 ],
 "metadata": {
  "kernelspec": {
   "display_name": "Python 3 (ipykernel)",
   "language": "python",
   "name": "python3"
  },
  "language_info": {
   "codemirror_mode": {
    "name": "ipython",
    "version": 3
   },
   "file_extension": ".py",
   "mimetype": "text/x-python",
   "name": "python",
   "nbconvert_exporter": "python",
   "pygments_lexer": "ipython3",
   "version": "3.8.8"
  },
  "toc": {
   "base_numbering": 1,
   "nav_menu": {},
   "number_sections": true,
   "sideBar": true,
   "skip_h1_title": false,
   "title_cell": "Table of Contents",
   "title_sidebar": "Contents",
   "toc_cell": false,
   "toc_position": {},
   "toc_section_display": true,
   "toc_window_display": false
  }
 },
 "nbformat": 4,
 "nbformat_minor": 5
}
