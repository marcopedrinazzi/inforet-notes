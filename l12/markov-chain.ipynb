{
 "cells": [
  {
   "cell_type": "markdown",
   "id": "22750274",
   "metadata": {},
   "source": [
    "# Example of Markov chain to model sequences of characters"
   ]
  },
  {
   "cell_type": "code",
   "execution_count": 1,
   "id": "a809f7f1",
   "metadata": {},
   "outputs": [],
   "source": [
    "import pandas as pd\n",
    "import numpy as np\n",
    "from tqdm.notebook import tqdm"
   ]
  },
  {
   "cell_type": "markdown",
   "id": "b6e3f080",
   "metadata": {},
   "source": [
    "## Get list of words and model them as sequences of characters"
   ]
  },
  {
   "cell_type": "code",
   "execution_count": 2,
   "id": "978cf093",
   "metadata": {},
   "outputs": [],
   "source": [
    "import nltk\n",
    "from collections import defaultdict"
   ]
  },
  {
   "cell_type": "code",
   "execution_count": 3,
   "id": "87108813",
   "metadata": {},
   "outputs": [],
   "source": [
    "W = list(nltk.corpus.gutenberg.words('melville-moby_dick.txt'))"
   ]
  },
  {
   "cell_type": "code",
   "execution_count": 4,
   "id": "2a8898e7",
   "metadata": {},
   "outputs": [],
   "source": [
    "np.random.shuffle(W)\n",
    "sample = [x for x in W[:20000] if len(x) > 1]"
   ]
  },
  {
   "cell_type": "markdown",
   "id": "3bb52865",
   "metadata": {},
   "source": [
    "## Full chain"
   ]
  },
  {
   "cell_type": "code",
   "execution_count": 5,
   "id": "e9e311c8",
   "metadata": {},
   "outputs": [],
   "source": [
    "import string"
   ]
  },
  {
   "cell_type": "code",
   "execution_count": 6,
   "id": "ce2fe5ab",
   "metadata": {},
   "outputs": [
    {
     "data": {
      "application/vnd.jupyter.widget-view+json": {
       "model_id": "ad04127fb7934e0d9d3ba6a853498bbd",
       "version_major": 2,
       "version_minor": 0
      },
      "text/plain": [
       "  0%|          | 0/16389 [00:00<?, ?it/s]"
      ]
     },
     "metadata": {},
     "output_type": "display_data"
    }
   ],
   "source": [
    "I = defaultdict(lambda: defaultdict(lambda: 0.00001))\n",
    "alphabet = set()\n",
    "for word in tqdm(sample):\n",
    "    seq = list(word) + ['#E']\n",
    "    for i, c in enumerate(seq):\n",
    "        if c not in string.punctuation:\n",
    "            alphabet.add(c)\n",
    "            I[tuple(seq[:i])][c] += 1\n",
    "A = list(alphabet)"
   ]
  },
  {
   "cell_type": "code",
   "execution_count": 7,
   "id": "c7ef811c",
   "metadata": {},
   "outputs": [],
   "source": [
    "def P(sequence, pindex):\n",
    "    key = tuple(sequence)\n",
    "    data = pindex[key]\n",
    "    N = sum([data[a] for a in A])\n",
    "    return [data[a] / N for a in A]"
   ]
  },
  {
   "cell_type": "code",
   "execution_count": 8,
   "id": "6eda9ace",
   "metadata": {},
   "outputs": [],
   "source": [
    "short = pd.Series(dict([(A[i], s) for i, s in enumerate(P('g', I))]))\n",
    "medium = pd.Series(dict([(A[i], s) for i, s in enumerate(P('ga', I))]))\n",
    "long = pd.Series(dict([(A[i], s) for i, s in enumerate(P('gam', I))]))"
   ]
  },
  {
   "cell_type": "code",
   "execution_count": 100,
   "id": "bc584698",
   "metadata": {},
   "outputs": [],
   "source": [
    "selchar = ['r', 'o', 'e', 'a', 'l', 'm', '#E']"
   ]
  },
  {
   "cell_type": "code",
   "execution_count": 101,
   "id": "9a65e1d7",
   "metadata": {},
   "outputs": [
    {
     "data": {
      "text/plain": [
       "r     0.28\n",
       "o     0.20\n",
       "e     0.17\n",
       "a     0.10\n",
       "l     0.10\n",
       "m     0.00\n",
       "#E    0.00\n",
       "dtype: float64"
      ]
     },
     "execution_count": 101,
     "metadata": {},
     "output_type": "execute_result"
    }
   ],
   "source": [
    "round(short.sort_values(ascending=False), 2).loc[selchar]"
   ]
  },
  {
   "cell_type": "code",
   "execution_count": 102,
   "id": "5508a17c",
   "metadata": {},
   "outputs": [
    {
     "data": {
      "text/plain": [
       "r     0.07\n",
       "o     0.00\n",
       "e     0.00\n",
       "a     0.00\n",
       "l     0.19\n",
       "m     0.15\n",
       "#E    0.00\n",
       "dtype: float64"
      ]
     },
     "execution_count": 102,
     "metadata": {},
     "output_type": "execute_result"
    }
   ],
   "source": [
    "round(medium.sort_values(ascending=False), 2).loc[selchar]"
   ]
  },
  {
   "cell_type": "code",
   "execution_count": 103,
   "id": "2a3acaf1",
   "metadata": {},
   "outputs": [
    {
     "data": {
      "text/plain": [
       "r     0.00\n",
       "o     0.00\n",
       "e     0.75\n",
       "a     0.00\n",
       "l     0.00\n",
       "m     0.00\n",
       "#E    0.25\n",
       "dtype: float64"
      ]
     },
     "execution_count": 103,
     "metadata": {},
     "output_type": "execute_result"
    }
   ],
   "source": [
    "round(long.sort_values(ascending=False), 2).loc[selchar]"
   ]
  },
  {
   "cell_type": "markdown",
   "id": "edc73593",
   "metadata": {},
   "source": [
    "### Generate a word"
   ]
  },
  {
   "cell_type": "code",
   "execution_count": 12,
   "id": "fa50f831",
   "metadata": {},
   "outputs": [],
   "source": [
    "def generate(A, I, start=''):\n",
    "    word = start\n",
    "    for i in range(20):\n",
    "        new_char = np.random.choice(A, p=P(word, I))\n",
    "        if new_char == '#E':\n",
    "            break\n",
    "        else:\n",
    "            word += new_char\n",
    "    return word"
   ]
  },
  {
   "cell_type": "code",
   "execution_count": 13,
   "id": "71147bc6",
   "metadata": {},
   "outputs": [],
   "source": [
    "word_stats = defaultdict(lambda: 0)\n",
    "for i in range(1000):\n",
    "    word_stats[generate(A, I)] += 1"
   ]
  },
  {
   "cell_type": "code",
   "execution_count": 14,
   "id": "0f45d874",
   "metadata": {},
   "outputs": [
    {
     "data": {
      "text/plain": [
       "the          69\n",
       "of           32\n",
       "and          27\n",
       "in           24\n",
       "to           13\n",
       "             ..\n",
       "stood         1\n",
       "palpably      1\n",
       "stuff         1\n",
       "can           1\n",
       "conversed     1\n",
       "Length: 575, dtype: int64"
      ]
     },
     "execution_count": 14,
     "metadata": {},
     "output_type": "execute_result"
    }
   ],
   "source": [
    "pd.Series(word_stats).sort_values(ascending=False)"
   ]
  },
  {
   "cell_type": "markdown",
   "id": "f9cf956e",
   "metadata": {},
   "source": [
    "### Evaluate words probability"
   ]
  },
  {
   "cell_type": "code",
   "execution_count": 15,
   "id": "96cfbdc8",
   "metadata": {},
   "outputs": [
    {
     "data": {
      "text/plain": [
       "-2.510840339213326"
      ]
     },
     "execution_count": 15,
     "metadata": {},
     "output_type": "execute_result"
    }
   ],
   "source": [
    "word = 'the'\n",
    "prob = 0\n",
    "for i, c in enumerate(word):\n",
    "    x = P(\"\".join(word[:i]), I)[A.index(c)]\n",
    "    prob += np.log(x)\n",
    "prob"
   ]
  },
  {
   "cell_type": "markdown",
   "id": "a46d2b75",
   "metadata": {},
   "source": [
    "## Approximate by the Markov assumption using n=3"
   ]
  },
  {
   "cell_type": "code",
   "execution_count": 16,
   "id": "c7bcff5e",
   "metadata": {},
   "outputs": [
    {
     "data": {
      "application/vnd.jupyter.widget-view+json": {
       "model_id": "a47880000aa64e409d73d6ef90ce6ef1",
       "version_major": 2,
       "version_minor": 0
      },
      "text/plain": [
       "  0%|          | 0/16389 [00:00<?, ?it/s]"
      ]
     },
     "metadata": {},
     "output_type": "display_data"
    }
   ],
   "source": [
    "I3 = defaultdict(lambda: defaultdict(lambda: 0.00001))\n",
    "for word in tqdm(sample):\n",
    "    seq = list(word) + ['#E']\n",
    "    for i, c in enumerate(seq):\n",
    "        if c not in string.punctuation:\n",
    "            I3[tuple(seq[:i][-3:])][c] += 1"
   ]
  },
  {
   "cell_type": "code",
   "execution_count": 17,
   "id": "45279070",
   "metadata": {},
   "outputs": [],
   "source": [
    "def generate3(A, I, start=''):\n",
    "    word = start\n",
    "    for i in range(20):\n",
    "        if len(word) < 3:\n",
    "            new_char = np.random.choice(A, p=P(word, I))\n",
    "        else:\n",
    "            new_char = np.random.choice(A, p=P(word[-3:], I))\n",
    "        if new_char == '#E':\n",
    "            break\n",
    "        else:\n",
    "            word += new_char\n",
    "    return word"
   ]
  },
  {
   "cell_type": "code",
   "execution_count": 18,
   "id": "6724fddf",
   "metadata": {},
   "outputs": [],
   "source": [
    "word_stats = defaultdict(lambda: 0)\n",
    "for i in range(1000):\n",
    "    word_stats[generate(A, I3)] += 1"
   ]
  },
  {
   "cell_type": "code",
   "execution_count": 19,
   "id": "60341c4d",
   "metadata": {},
   "outputs": [
    {
     "data": {
      "text/plain": [
       "the                     55\n",
       "of                      29\n",
       "and                     28\n",
       "to                      26\n",
       "in                      20\n",
       "                        ..\n",
       "windczaT                 1\n",
       "nownO5fFFinCq7uFSaKe     1\n",
       "WhalMtyuZK3EVCsxYXNJ     1\n",
       "feelb                    1\n",
       "thre5cnIDr51p7wDV1Fr     1\n",
       "Length: 690, dtype: int64"
      ]
     },
     "execution_count": 19,
     "metadata": {},
     "output_type": "execute_result"
    }
   ],
   "source": [
    "pd.Series(word_stats).sort_values(ascending=False)"
   ]
  },
  {
   "cell_type": "code",
   "execution_count": 20,
   "id": "b688d137",
   "metadata": {},
   "outputs": [
    {
     "data": {
      "text/plain": [
       "-2.510840339213326"
      ]
     },
     "execution_count": 20,
     "metadata": {},
     "output_type": "execute_result"
    }
   ],
   "source": [
    "word = 'the'\n",
    "prob = 0\n",
    "for i, c in enumerate(word):\n",
    "    x = P(\"\".join(word[:i]), I3)[A.index(c)]\n",
    "    prob += np.log(x)\n",
    "prob"
   ]
  },
  {
   "cell_type": "markdown",
   "id": "e42f1cf2",
   "metadata": {},
   "source": [
    "## Work with sentences\n",
    "Example of sentences and syntactic parser are taken from the [Stanford Natural Language Inference Corpus](https://nlp.stanford.edu/projects/snli/)"
   ]
  },
  {
   "cell_type": "code",
   "execution_count": 29,
   "id": "fb34a032",
   "metadata": {},
   "outputs": [],
   "source": [
    "import os\n",
    "import re"
   ]
  },
  {
   "cell_type": "code",
   "execution_count": 24,
   "id": "8cce671a",
   "metadata": {},
   "outputs": [],
   "source": [
    "data = pd.read_csv('/Users/flint/Data/snli/snli_1.0_train.csv')"
   ]
  },
  {
   "cell_type": "code",
   "execution_count": 26,
   "id": "851ac800",
   "metadata": {},
   "outputs": [],
   "source": [
    "sentences = list(data.sentence1.values)\n",
    "parser = list(data.sentence1_parse.values)"
   ]
  },
  {
   "cell_type": "code",
   "execution_count": 27,
   "id": "c6487bd8",
   "metadata": {},
   "outputs": [
    {
     "data": {
      "text/plain": [
       "'A person on a horse jumps over a broken down airplane.'"
      ]
     },
     "execution_count": 27,
     "metadata": {},
     "output_type": "execute_result"
    }
   ],
   "source": [
    "sentences[0]"
   ]
  },
  {
   "cell_type": "code",
   "execution_count": 28,
   "id": "02b505da",
   "metadata": {},
   "outputs": [
    {
     "data": {
      "text/plain": [
       "'(ROOT (S (NP (NP (DT A) (NN person)) (PP (IN on) (NP (DT a) (NN horse)))) (VP (VBZ jumps) (PP (IN over) (NP (DT a) (JJ broken) (JJ down) (NN airplane)))) (. .)))'"
      ]
     },
     "execution_count": 28,
     "metadata": {},
     "output_type": "execute_result"
    }
   ],
   "source": [
    "parser[0]"
   ]
  },
  {
   "cell_type": "code",
   "execution_count": 38,
   "id": "82b773d1",
   "metadata": {},
   "outputs": [],
   "source": [
    "def get_pos(parser_text):\n",
    "    pattern = re.compile('(\\((?:\\(??[^\\(]*?\\)))')\n",
    "    data = re.findall(pattern, parser_text)\n",
    "    pos = []\n",
    "    for item in data:\n",
    "        i = item.replace('(', '').replace(')', '').split()[0]\n",
    "        pos.append(i)\n",
    "    return pos"
   ]
  },
  {
   "cell_type": "code",
   "execution_count": 43,
   "id": "6965eb37",
   "metadata": {},
   "outputs": [],
   "source": [
    "pos_sequences = [get_pos(x) for x in parser]"
   ]
  },
  {
   "cell_type": "markdown",
   "id": "b2378c26",
   "metadata": {},
   "source": [
    "### Text as a sequence of POS tags\n",
    "See the [Tag list](https://gist.github.com/nlothian/9240750) for reference"
   ]
  },
  {
   "cell_type": "code",
   "execution_count": 52,
   "id": "a72236f7",
   "metadata": {},
   "outputs": [
    {
     "data": {
      "application/vnd.jupyter.widget-view+json": {
       "model_id": "5f07a470f01c45fb92ed183c91fbd944",
       "version_major": 2,
       "version_minor": 0
      },
      "text/plain": [
       "  0%|          | 0/550152 [00:00<?, ?it/s]"
      ]
     },
     "metadata": {},
     "output_type": "display_data"
    }
   ],
   "source": [
    "pos_index = defaultdict(lambda: defaultdict(lambda: 0.00001))\n",
    "pos_list = set()\n",
    "for pos_seq in tqdm(pos_sequences):\n",
    "    for i, pos in enumerate(pos_seq):\n",
    "        pos_list.add(pos)\n",
    "        pos_index[\" \".join(pos_seq[:i])][pos] += 1"
   ]
  },
  {
   "cell_type": "code",
   "execution_count": 54,
   "id": "1e1bf245",
   "metadata": {},
   "outputs": [],
   "source": [
    "def prob_pos(seq):\n",
    "    series = pd.Series(dict(\n",
    "        [(pos_tag, pos_index[seq][pos_tag]) for pos_tag in pos_list]))\n",
    "    return series / series.sum()"
   ]
  },
  {
   "cell_type": "code",
   "execution_count": 57,
   "id": "cca56e66",
   "metadata": {},
   "outputs": [
    {
     "data": {
      "text/plain": [
       "DT     0.67\n",
       "CD     0.17\n",
       "NNP    0.05\n",
       "NNS    0.04\n",
       "JJ     0.04\n",
       "NN     0.01\n",
       "dtype: float64"
      ]
     },
     "execution_count": 57,
     "metadata": {},
     "output_type": "execute_result"
    }
   ],
   "source": [
    "round(prob_pos('').sort_values(ascending=False).head(6), 2)"
   ]
  },
  {
   "cell_type": "code",
   "execution_count": 61,
   "id": "cc1f8c5a",
   "metadata": {},
   "outputs": [
    {
     "data": {
      "text/plain": [
       "NN     0.84\n",
       "JJ     0.09\n",
       "CC     0.03\n",
       "NNS    0.02\n",
       ",      0.01\n",
       "NNP    0.00\n",
       "dtype: float64"
      ]
     },
     "execution_count": 61,
     "metadata": {},
     "output_type": "execute_result"
    }
   ],
   "source": [
    "round(prob_pos('DT JJ').sort_values(ascending=False).head(6), 2)"
   ]
  },
  {
   "cell_type": "code",
   "execution_count": 65,
   "id": "54a1eb2d",
   "metadata": {},
   "outputs": [
    {
     "data": {
      "text/plain": [
       "NN     0.87\n",
       "JJ     0.06\n",
       "CC     0.05\n",
       ",      0.01\n",
       "NNS    0.01\n",
       "NNP    0.00\n",
       "dtype: float64"
      ]
     },
     "execution_count": 65,
     "metadata": {},
     "output_type": "execute_result"
    }
   ],
   "source": [
    "round(prob_pos('DT JJ NN IN DT JJ').sort_values(ascending=False).head(6), 2)"
   ]
  },
  {
   "cell_type": "markdown",
   "id": "40d02d81",
   "metadata": {},
   "source": [
    "### Text as a sequence of words"
   ]
  },
  {
   "cell_type": "code",
   "execution_count": 78,
   "id": "78f8de52",
   "metadata": {},
   "outputs": [
    {
     "data": {
      "application/vnd.jupyter.widget-view+json": {
       "model_id": "dfcb7e4691124789bb7c48562c02cbe2",
       "version_major": 2,
       "version_minor": 0
      },
      "text/plain": [
       "  0%|          | 0/550152 [00:00<?, ?it/s]"
      ]
     },
     "metadata": {},
     "output_type": "display_data"
    }
   ],
   "source": [
    "words_index = defaultdict(lambda: defaultdict(lambda: 0.00001))\n",
    "words_list = set()\n",
    "for sentence in tqdm(sentences):\n",
    "    word_seq = sentence.lower().split()\n",
    "    for i, word in enumerate(word_seq):\n",
    "        words_list.add(word)\n",
    "        words_index[\" \".join(word_seq[:i])][word] += 1"
   ]
  },
  {
   "cell_type": "code",
   "execution_count": 80,
   "id": "849d5a90",
   "metadata": {},
   "outputs": [],
   "source": [
    "def prob_word(seq):\n",
    "    series = pd.Series(dict(\n",
    "        [(word, words_index[seq][word]) for word in words_list]))\n",
    "    return series / series.sum()"
   ]
  },
  {
   "cell_type": "code",
   "execution_count": 82,
   "id": "2c0f9edb",
   "metadata": {},
   "outputs": [
    {
     "data": {
      "text/plain": [
       "a         0.59\n",
       "two       0.11\n",
       "the       0.04\n",
       "an        0.03\n",
       "three     0.03\n",
       "people    0.02\n",
       "dtype: float64"
      ]
     },
     "execution_count": 82,
     "metadata": {},
     "output_type": "execute_result"
    }
   ],
   "source": [
    "round(prob_word('').sort_values(ascending=False).head(6), 2)"
   ]
  },
  {
   "cell_type": "code",
   "execution_count": 84,
   "id": "8536157f",
   "metadata": {},
   "outputs": [
    {
     "data": {
      "text/plain": [
       "a        0.70\n",
       "blue     0.03\n",
       "black    0.03\n",
       "an       0.03\n",
       "red      0.02\n",
       "the      0.02\n",
       "dtype: float64"
      ]
     },
     "execution_count": 84,
     "metadata": {},
     "output_type": "execute_result"
    }
   ],
   "source": [
    "round(prob_word('a person in').sort_values(ascending=False).head(6), 2)"
   ]
  },
  {
   "cell_type": "code",
   "execution_count": 89,
   "id": "e54ce469",
   "metadata": {},
   "outputs": [
    {
     "data": {
      "text/plain": [
       "shirt     0.37\n",
       "jacket    0.20\n",
       "suit      0.08\n",
       "hat       0.07\n",
       "kayak     0.03\n",
       "outfit    0.03\n",
       "dtype: float64"
      ]
     },
     "execution_count": 89,
     "metadata": {},
     "output_type": "execute_result"
    }
   ],
   "source": [
    "round(prob_word('a person in a blue').sort_values(ascending=False).head(6), 2)"
   ]
  },
  {
   "cell_type": "code",
   "execution_count": null,
   "id": "cf404508",
   "metadata": {},
   "outputs": [],
   "source": []
  }
 ],
 "metadata": {
  "kernelspec": {
   "display_name": "Python 3 (ipykernel)",
   "language": "python",
   "name": "python3"
  },
  "language_info": {
   "codemirror_mode": {
    "name": "ipython",
    "version": 3
   },
   "file_extension": ".py",
   "mimetype": "text/x-python",
   "name": "python",
   "nbconvert_exporter": "python",
   "pygments_lexer": "ipython3",
   "version": "3.8.8"
  },
  "toc": {
   "base_numbering": 1,
   "nav_menu": {},
   "number_sections": true,
   "sideBar": true,
   "skip_h1_title": false,
   "title_cell": "Table of Contents",
   "title_sidebar": "Contents",
   "toc_cell": false,
   "toc_position": {},
   "toc_section_display": true,
   "toc_window_display": false
  }
 },
 "nbformat": 4,
 "nbformat_minor": 5
}
